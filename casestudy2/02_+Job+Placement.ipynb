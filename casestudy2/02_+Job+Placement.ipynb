{
  "nbformat": 4,
  "nbformat_minor": 0,
  "metadata": {
    "colab": {
      "name": "02-+Job+Placement.ipynb",
      "version": "0.3.2",
      "provenance": [],
      "collapsed_sections": []
    },
    "kernelspec": {
      "display_name": "iml-exercises",
      "language": "python",
      "name": "iml-exercises"
    }
  },
  "cells": [
    {
      "metadata": {
        "deletable": false,
        "editable": false,
        "nbgrader": {
          "checksum": "b5e720c601965ffd4a490c9ae8f89b32",
          "grade": false,
          "grade_id": "cell-c95444a9726cb6ad",
          "locked": true,
          "schema_version": 1,
          "solution": false
        },
        "id": "K1s8sjv0e-zO",
        "colab_type": "text"
      },
      "cell_type": "markdown",
      "source": [
        "# Job Performance Prediction\n",
        "\n",
        "You work for a software startup, Predict All The Things Inc. (PALT), and are approached by the CEO to build an algorithm that can help sift through resumes. PALT just closed a $3 million Series A round of funding and the CEO just landed a deal with a national retailer, SellsALOT, to help them with hiring Sales Associates.\n",
        "\n",
        "They are able to obtain data on all the employees that work as Sales Associates throughout their stores as well as customer satisfaction and sales performance scores.\n",
        "\n",
        "In this case study, you are tasked to build a model to predict job performance to assist HR in selecting applicants to interview.\n",
        "\n",
        "The data was provided to you by the new HR intern, Keegan. This is the email you got from Keegan with the attached data.\n",
        "\n",
        ">Hi!\n",
        ">\n",
        ">I hope you're doing well. I've attached the data we have about all employees. Please ensure this data stays confidential and is not shared with anyone who has not signed the NDA. The columns have all the information we have about our employees and the scoring rating that they've received from our performance monitors. We also have some employees that were fired and I have included those as well.\n",
        ">\n",
        ">I was also able to dig up some more information about our employees that I found on the internet. It took a lot of time but I hope it helps in making the model even better. Can't wait to see this thing in action. Everyone here is very excited about our collaboration with you and we look forward to this making hiring a lot easier for us.\n",
        ">\n",
        ">Thanks,\n",
        ">\n",
        ">Keegan Thiel\n",
        ">\n",
        ">HR Intern\n",
        ">\n",
        ">Human Resources\n",
        ">\n",
        ">SellsALOT\n",
        "\n",
        "\n",
        "Data is available in the `employees.csv` file provided. \n",
        "\n",
        "\n",
        "SellsALOT is an Equal Opportunity Employer which is an employer who agrees not to discriminate against any employee or job applicant because of race, color, religion, national origin, sex, physical or mental disability, or age.\n"
      ]
    },
    {
      "metadata": {
        "deletable": false,
        "editable": false,
        "nbgrader": {
          "checksum": "afc34f9048ee4213877d45250fd61050",
          "grade": false,
          "grade_id": "cell-f9469a23a33f582b",
          "locked": true,
          "schema_version": 1,
          "solution": false
        },
        "id": "fdPJ3CNqe-zR",
        "colab_type": "text"
      },
      "cell_type": "markdown",
      "source": [
        "## Data Cleaning\n",
        "\n",
        "First, let's investigate the data that we received from Keegan.\n",
        "\n"
      ]
    },
    {
      "metadata": {
        "deletable": false,
        "editable": false,
        "nbgrader": {
          "checksum": "98d9733673fc16e64c8a56f4f2283337",
          "grade": false,
          "grade_id": "cell-415e7e827876c782",
          "locked": true,
          "schema_version": 1,
          "solution": false
        },
        "id": "pbmDAx2qe-zS",
        "colab_type": "code",
        "colab": {}
      },
      "cell_type": "code",
      "source": [
        "import pandas as pd\n",
        "import matplotlib\n",
        "import numpy as np\n",
        "import sklearn as sk\n",
        "from sklearn.model_selection import train_test_split\n",
        "import datetime\n",
        "from datetime import date"
      ],
      "execution_count": 0,
      "outputs": []
    },
    {
      "metadata": {
        "deletable": false,
        "editable": false,
        "nbgrader": {
          "checksum": "3216fece87fdd26ddb8122784c9ad01e",
          "grade": false,
          "grade_id": "cell-0fb592011f635976",
          "locked": true,
          "schema_version": 1,
          "solution": false
        },
        "id": "ajeMUI3Ne-zW",
        "colab_type": "code",
        "colab": {}
      },
      "cell_type": "code",
      "source": [
        "df = pd.read_csv(\"employees.csv\")"
      ],
      "execution_count": 0,
      "outputs": []
    },
    {
      "metadata": {
        "deletable": false,
        "editable": false,
        "nbgrader": {
          "checksum": "4d084b93f762407ef1ce1017190e83fd",
          "grade": false,
          "grade_id": "cell-60d13b4672b4b0ab",
          "locked": true,
          "schema_version": 1,
          "solution": false
        },
        "id": "eeYIiuD1e-zY",
        "colab_type": "code",
        "outputId": "3bb607b1-2170-49ff-9684-28e0919c6e9e",
        "colab": {
          "base_uri": "https://localhost:8080/",
          "height": 474
        }
      },
      "cell_type": "code",
      "source": [
        "df.head()"
      ],
      "execution_count": 195,
      "outputs": [
        {
          "output_type": "execute_result",
          "data": {
            "text/html": [
              "<div>\n",
              "<style scoped>\n",
              "    .dataframe tbody tr th:only-of-type {\n",
              "        vertical-align: middle;\n",
              "    }\n",
              "\n",
              "    .dataframe tbody tr th {\n",
              "        vertical-align: top;\n",
              "    }\n",
              "\n",
              "    .dataframe thead th {\n",
              "        text-align: right;\n",
              "    }\n",
              "</style>\n",
              "<table border=\"1\" class=\"dataframe\">\n",
              "  <thead>\n",
              "    <tr style=\"text-align: right;\">\n",
              "      <th></th>\n",
              "      <th>First Name</th>\n",
              "      <th>Last Name</th>\n",
              "      <th>Date of Birth</th>\n",
              "      <th>Address</th>\n",
              "      <th>Zipcode</th>\n",
              "      <th>Gender</th>\n",
              "      <th>Race / Ethnicity</th>\n",
              "      <th>English Fluency</th>\n",
              "      <th>Spanish Fluency</th>\n",
              "      <th>Education</th>\n",
              "      <th>...</th>\n",
              "      <th>College GPA</th>\n",
              "      <th>Years of Experience</th>\n",
              "      <th>Years of Volunteering</th>\n",
              "      <th>Myers Briggs Type</th>\n",
              "      <th>Twitter followers</th>\n",
              "      <th>Instagram Followers</th>\n",
              "      <th>Requires Sponsorship</th>\n",
              "      <th>Customer Satisfaction Rating</th>\n",
              "      <th>Sales Rating</th>\n",
              "      <th>Fired</th>\n",
              "    </tr>\n",
              "  </thead>\n",
              "  <tbody>\n",
              "    <tr>\n",
              "      <th>0</th>\n",
              "      <td>Sarah</td>\n",
              "      <td>Chang</td>\n",
              "      <td>1989-12-24</td>\n",
              "      <td>764 Howard Tunnel</td>\n",
              "      <td>30167</td>\n",
              "      <td>Female</td>\n",
              "      <td>Black</td>\n",
              "      <td>Fluent</td>\n",
              "      <td>Basic</td>\n",
              "      <td>High School</td>\n",
              "      <td>...</td>\n",
              "      <td>2.52</td>\n",
              "      <td>8.8</td>\n",
              "      <td>0.0</td>\n",
              "      <td>ISTJ</td>\n",
              "      <td>693</td>\n",
              "      <td>1108</td>\n",
              "      <td>False</td>\n",
              "      <td>2.21</td>\n",
              "      <td>2.07</td>\n",
              "      <td>Current Employee</td>\n",
              "    </tr>\n",
              "    <tr>\n",
              "      <th>1</th>\n",
              "      <td>Daniel</td>\n",
              "      <td>Taylor</td>\n",
              "      <td>1985-03-15</td>\n",
              "      <td>4892 Jessica Turnpike Suite 781</td>\n",
              "      <td>86553</td>\n",
              "      <td>Male</td>\n",
              "      <td>Black</td>\n",
              "      <td>Fluent</td>\n",
              "      <td>Basic</td>\n",
              "      <td>High School</td>\n",
              "      <td>...</td>\n",
              "      <td>3.90</td>\n",
              "      <td>13.7</td>\n",
              "      <td>0.0</td>\n",
              "      <td>ISFJ</td>\n",
              "      <td>507</td>\n",
              "      <td>1259</td>\n",
              "      <td>False</td>\n",
              "      <td>3.37</td>\n",
              "      <td>2.98</td>\n",
              "      <td>Current Employee</td>\n",
              "    </tr>\n",
              "    <tr>\n",
              "      <th>2</th>\n",
              "      <td>Heather</td>\n",
              "      <td>Stewart</td>\n",
              "      <td>1993-09-20</td>\n",
              "      <td>778 Linda Orchard Apt. 609</td>\n",
              "      <td>30167</td>\n",
              "      <td>Female</td>\n",
              "      <td>Black</td>\n",
              "      <td>Proficient</td>\n",
              "      <td>Basic</td>\n",
              "      <td>High School</td>\n",
              "      <td>...</td>\n",
              "      <td>2.63</td>\n",
              "      <td>5.2</td>\n",
              "      <td>0.0</td>\n",
              "      <td>INFP</td>\n",
              "      <td>599</td>\n",
              "      <td>868</td>\n",
              "      <td>False</td>\n",
              "      <td>1.50</td>\n",
              "      <td>1.36</td>\n",
              "      <td>Current Employee</td>\n",
              "    </tr>\n",
              "    <tr>\n",
              "      <th>3</th>\n",
              "      <td>Katherine</td>\n",
              "      <td>Dillon</td>\n",
              "      <td>1986-12-22</td>\n",
              "      <td>139 Linda Crossroad Suite 115</td>\n",
              "      <td>30167</td>\n",
              "      <td>Female</td>\n",
              "      <td>Black</td>\n",
              "      <td>Basic</td>\n",
              "      <td>Basic</td>\n",
              "      <td>High School</td>\n",
              "      <td>...</td>\n",
              "      <td>3.88</td>\n",
              "      <td>12.5</td>\n",
              "      <td>0.0</td>\n",
              "      <td>ISFP</td>\n",
              "      <td>1321</td>\n",
              "      <td>889</td>\n",
              "      <td>True</td>\n",
              "      <td>2.89</td>\n",
              "      <td>2.62</td>\n",
              "      <td>Current Employee</td>\n",
              "    </tr>\n",
              "    <tr>\n",
              "      <th>4</th>\n",
              "      <td>Sheri</td>\n",
              "      <td>Bolton</td>\n",
              "      <td>1991-02-24</td>\n",
              "      <td>1858 Lauren Orchard</td>\n",
              "      <td>60531</td>\n",
              "      <td>Female</td>\n",
              "      <td>Black</td>\n",
              "      <td>Proficient</td>\n",
              "      <td>Proficient</td>\n",
              "      <td>High School</td>\n",
              "      <td>...</td>\n",
              "      <td>3.30</td>\n",
              "      <td>7.0</td>\n",
              "      <td>0.0</td>\n",
              "      <td>ISFJ</td>\n",
              "      <td>414</td>\n",
              "      <td>13760</td>\n",
              "      <td>True</td>\n",
              "      <td>1.94</td>\n",
              "      <td>1.78</td>\n",
              "      <td>Current Employee</td>\n",
              "    </tr>\n",
              "  </tbody>\n",
              "</table>\n",
              "<p>5 rows × 21 columns</p>\n",
              "</div>"
            ],
            "text/plain": [
              "  First Name Last Name Date of Birth                          Address  \\\n",
              "0      Sarah     Chang    1989-12-24                764 Howard Tunnel   \n",
              "1     Daniel    Taylor    1985-03-15  4892 Jessica Turnpike Suite 781   \n",
              "2    Heather   Stewart    1993-09-20       778 Linda Orchard Apt. 609   \n",
              "3  Katherine    Dillon    1986-12-22    139 Linda Crossroad Suite 115   \n",
              "4      Sheri    Bolton    1991-02-24              1858 Lauren Orchard   \n",
              "\n",
              "   Zipcode  Gender Race / Ethnicity English Fluency Spanish Fluency  \\\n",
              "0    30167  Female            Black          Fluent           Basic   \n",
              "1    86553    Male            Black          Fluent           Basic   \n",
              "2    30167  Female            Black      Proficient           Basic   \n",
              "3    30167  Female            Black           Basic           Basic   \n",
              "4    60531  Female            Black      Proficient      Proficient   \n",
              "\n",
              "     Education        ...         College GPA  Years of Experience  \\\n",
              "0  High School        ...                2.52                  8.8   \n",
              "1  High School        ...                3.90                 13.7   \n",
              "2  High School        ...                2.63                  5.2   \n",
              "3  High School        ...                3.88                 12.5   \n",
              "4  High School        ...                3.30                  7.0   \n",
              "\n",
              "   Years of Volunteering  Myers Briggs Type Twitter followers  \\\n",
              "0                    0.0               ISTJ               693   \n",
              "1                    0.0               ISFJ               507   \n",
              "2                    0.0               INFP               599   \n",
              "3                    0.0               ISFP              1321   \n",
              "4                    0.0               ISFJ               414   \n",
              "\n",
              "   Instagram Followers  Requires Sponsorship  Customer Satisfaction Rating  \\\n",
              "0                 1108                 False                          2.21   \n",
              "1                 1259                 False                          3.37   \n",
              "2                  868                 False                          1.50   \n",
              "3                  889                  True                          2.89   \n",
              "4                13760                  True                          1.94   \n",
              "\n",
              "   Sales Rating             Fired  \n",
              "0          2.07  Current Employee  \n",
              "1          2.98  Current Employee  \n",
              "2          1.36  Current Employee  \n",
              "3          2.62  Current Employee  \n",
              "4          1.78  Current Employee  \n",
              "\n",
              "[5 rows x 21 columns]"
            ]
          },
          "metadata": {
            "tags": []
          },
          "execution_count": 195
        }
      ]
    },
    {
      "metadata": {
        "deletable": false,
        "editable": false,
        "nbgrader": {
          "checksum": "b5485d5af838398f9041b721a32d3f6e",
          "grade": false,
          "grade_id": "cell-bf0b10e305c37259",
          "locked": true,
          "schema_version": 1,
          "solution": false
        },
        "id": "HRXRp4Ebe-zb",
        "colab_type": "code",
        "outputId": "8cdbf48b-2884-41bc-b0b8-645b998accc9",
        "colab": {
          "base_uri": "https://localhost:8080/",
          "height": 68
        }
      },
      "cell_type": "code",
      "source": [
        "df.describe(include=\"all\")\n",
        "df['Myers Briggs Type'].unique()"
      ],
      "execution_count": 196,
      "outputs": [
        {
          "output_type": "execute_result",
          "data": {
            "text/plain": [
              "array(['ISTJ', 'ISFJ', 'INFP', 'ISFP', 'ESTJ', 'ESFJ', 'ESTP', 'INTP',\n",
              "       'ISTP', 'ESFP', 'ENFP', 'INFJ', 'INTJ', 'ENTJ', 'ENFJ', 'ENTP'],\n",
              "      dtype=object)"
            ]
          },
          "metadata": {
            "tags": []
          },
          "execution_count": 196
        }
      ]
    },
    {
      "metadata": {
        "deletable": false,
        "editable": false,
        "nbgrader": {
          "checksum": "f0afcc4b56553ed231f2820e4c556b75",
          "grade": false,
          "grade_id": "cell-c82a0bc350265b0e",
          "locked": true,
          "schema_version": 1,
          "solution": false
        },
        "id": "s142UJige-ze",
        "colab_type": "code",
        "outputId": "8c113607-df96-4724-df23-6c51b01e2faf",
        "colab": {
          "base_uri": "https://localhost:8080/",
          "height": 391
        }
      },
      "cell_type": "code",
      "source": [
        "print(\"The columns of data are:\")\n",
        "list(df.columns)"
      ],
      "execution_count": 197,
      "outputs": [
        {
          "output_type": "stream",
          "text": [
            "The columns of data are:\n"
          ],
          "name": "stdout"
        },
        {
          "output_type": "execute_result",
          "data": {
            "text/plain": [
              "['First Name',\n",
              " 'Last Name',\n",
              " 'Date of Birth',\n",
              " 'Address',\n",
              " 'Zipcode',\n",
              " 'Gender',\n",
              " 'Race / Ethnicity',\n",
              " 'English Fluency',\n",
              " 'Spanish Fluency',\n",
              " 'Education',\n",
              " 'High School GPA',\n",
              " 'College GPA',\n",
              " 'Years of Experience',\n",
              " 'Years of Volunteering',\n",
              " 'Myers Briggs Type',\n",
              " 'Twitter followers',\n",
              " 'Instagram Followers',\n",
              " 'Requires Sponsorship',\n",
              " 'Customer Satisfaction Rating',\n",
              " 'Sales Rating',\n",
              " 'Fired']"
            ]
          },
          "metadata": {
            "tags": []
          },
          "execution_count": 197
        }
      ]
    },
    {
      "metadata": {
        "deletable": false,
        "editable": false,
        "nbgrader": {
          "checksum": "9c7bcfd15862ed179ed9bcac94715dd7",
          "grade": false,
          "grade_id": "cell-e51f79d4bbd14476",
          "locked": true,
          "schema_version": 1,
          "solution": false
        },
        "id": "rZ5kJjoae-zg",
        "colab_type": "text"
      },
      "cell_type": "markdown",
      "source": [
        "Based on the data above we need to do the following:\n",
        "\n",
        "1. Split Myers Briggs into subtypes\n",
        "1. Convert categorical columns to dummy variables\n",
        "1. Calculate Age based on date of birth"
      ]
    },
    {
      "metadata": {
        "deletable": false,
        "editable": false,
        "nbgrader": {
          "checksum": "ebe3dd221afb3a5af0743d2d674101d9",
          "grade": false,
          "grade_id": "cell-759ebf896978ca5d",
          "locked": true,
          "schema_version": 1,
          "solution": false
        },
        "id": "Ks5IS9yue-zi",
        "colab_type": "text"
      },
      "cell_type": "markdown",
      "source": [
        "The [Myers Briggs Type Indicator](https://en.wikipedia.org/wiki/Myers%E2%80%93Briggs_Type_Indicator) (MBTI) descibes people as one of two types for each of:\n",
        "\n",
        "* extraversion (E) or introversion (I)\n",
        "* sensing (S) or intuition (N)\n",
        "* thinking (T) or feeling (F)\n",
        "* judgment (J) or perception (P)\n",
        "\n",
        "It would make more sense for us to represent people as one or the other of these instead of creating all the possible cases. That way a model can learn based on each of those factors as well as their combination. \n",
        "\n",
        "Your next task is to split the MBTI column into four columns in the dataframe:\n",
        "\n",
        "* MBTI_EI with value `E` or `I`\n",
        "* MBTI_SN with value `S` or `N`\n",
        "* MBTI_TF with value `T` or `F`\n",
        "* MBTI_JP with value `J` or `P`\n",
        "\n",
        "That correspond to the same row's Myers Briggs Type."
      ]
    },
    {
      "metadata": {
        "deletable": false,
        "nbgrader": {
          "checksum": "684f43b481383ae1fa1488100efe524b",
          "grade": false,
          "grade_id": "cell-b96d43f098c26707",
          "locked": false,
          "schema_version": 1,
          "solution": true
        },
        "id": "cRds_EPpe-zj",
        "colab_type": "code",
        "colab": {}
      },
      "cell_type": "code",
      "source": [
        "# YOUR CODE HERE\n",
        "df['MBTI_EI'] = df.apply(lambda row: row['Myers Briggs Type'][0:1], axis=1)\n",
        "df['MBTI_SN'] = df.apply(lambda row: row['Myers Briggs Type'][1:2], axis=1)\n",
        "df['MBTI_TF'] = df.apply(lambda row: row['Myers Briggs Type'][2:3], axis=1)\n",
        "df['MBTI_JP'] = df.apply(lambda row: row['Myers Briggs Type'][3:4], axis=1)"
      ],
      "execution_count": 0,
      "outputs": []
    },
    {
      "metadata": {
        "deletable": false,
        "editable": false,
        "nbgrader": {
          "checksum": "a94862251cdb730f863c4c4565ee744e",
          "grade": true,
          "grade_id": "cell-1b5cf11c2512def1",
          "locked": true,
          "points": 10,
          "schema_version": 1,
          "solution": false
        },
        "id": "hMbsldxKe-zm",
        "colab_type": "code",
        "colab": {}
      },
      "cell_type": "code",
      "source": [
        "assert len(set(df[\"MBTI_EI\"])) == 2\n",
        "assert \"E\" in set(df[\"MBTI_EI\"]) and \"I\" in set(df[\"MBTI_EI\"])\n",
        "assert len(set(df[\"MBTI_SN\"])) == 2\n",
        "assert \"S\" in set(df[\"MBTI_SN\"]) and \"N\" in set(df[\"MBTI_SN\"])\n",
        "assert len(set(df[\"MBTI_TF\"])) == 2\n",
        "assert \"T\" in set(df[\"MBTI_TF\"]) and \"F\" in set(df[\"MBTI_TF\"])\n",
        "assert len(set(df[\"MBTI_JP\"])) == 2\n",
        "assert \"J\" in set(df[\"MBTI_JP\"]) and \"P\" in set(df[\"MBTI_JP\"])"
      ],
      "execution_count": 0,
      "outputs": []
    },
    {
      "metadata": {
        "deletable": false,
        "editable": false,
        "nbgrader": {
          "checksum": "3577313ae433ce752fa56e6ac7a01b96",
          "grade": false,
          "grade_id": "cell-51a7104ebad2aa72",
          "locked": true,
          "schema_version": 1,
          "solution": false
        },
        "id": "1ObdvBtte-zp",
        "colab_type": "text"
      },
      "cell_type": "markdown",
      "source": [
        "1. ~~Split Myers Briggs into subtypes~~\n",
        "1. Convert categorical columns to dummy variables\n",
        "1. Calculate Age based on date of birth"
      ]
    },
    {
      "metadata": {
        "deletable": false,
        "editable": false,
        "nbgrader": {
          "checksum": "bed782daa0aaa43f260ea87cb25483a0",
          "grade": false,
          "grade_id": "cell-364e01542d424264",
          "locked": true,
          "schema_version": 1,
          "solution": false
        },
        "id": "4znhM2jbe-zq",
        "colab_type": "text"
      },
      "cell_type": "markdown",
      "source": [
        "Dumy variables are variables that allow us to convert a category into several binary variables. For example, if we had a color value that we were storing and we knew it could only have the values `red`, `green`, and `blue`, then instead of storing the color as those strings, we can store three binary variables: `is_red`, `is_green`, and `is_blue`. \n",
        "\n",
        "We can do this in pandas easily by using [`get_dummies`](https://pandas.pydata.org/pandas-docs/stable/generated/pandas.get_dummies.html)."
      ]
    },
    {
      "metadata": {
        "deletable": false,
        "nbgrader": {
          "checksum": "063af68aa6b85d9a02708f53ebc5109a",
          "grade": false,
          "grade_id": "cell-32271c292a515ef3",
          "locked": false,
          "schema_version": 1,
          "solution": true
        },
        "id": "aqOjjqI-e-zr",
        "colab_type": "code",
        "colab": {
          "base_uri": "https://localhost:8080/",
          "height": 204
        },
        "outputId": "e1506e9c-37d7-49f4-8fb5-103ae9429a76"
      },
      "cell_type": "code",
      "source": [
        "# Determine all the categorical columns and save them to categorical_columns\n",
        "# Note that this does not include the binary features\n",
        "\n",
        "# YOUR CODE HERE\n",
        "\n",
        "categorical_columns = pd.DataFrame(data = df['MBTI_EI'])\n",
        "categorical_columns['MBTI_SN'] = df['MBTI_SN']\n",
        "categorical_columns['MBTI_TF'] = df['MBTI_TF']\n",
        "categorical_columns['MBTI_JP'] = df['MBTI_JP']\n",
        "categorical_columns ['Gender'] = df['Gender']\n",
        "categorical_columns['College GPA'] = df['College GPA']\n",
        "categorical_columns['High School GPA'] =  df['High School GPA']\n",
        "categorical_columns ['Race / Ethnicity']=  df['Race / Ethnicity']\n",
        "categorical_columns.head()\n"
      ],
      "execution_count": 200,
      "outputs": [
        {
          "output_type": "execute_result",
          "data": {
            "text/html": [
              "<div>\n",
              "<style scoped>\n",
              "    .dataframe tbody tr th:only-of-type {\n",
              "        vertical-align: middle;\n",
              "    }\n",
              "\n",
              "    .dataframe tbody tr th {\n",
              "        vertical-align: top;\n",
              "    }\n",
              "\n",
              "    .dataframe thead th {\n",
              "        text-align: right;\n",
              "    }\n",
              "</style>\n",
              "<table border=\"1\" class=\"dataframe\">\n",
              "  <thead>\n",
              "    <tr style=\"text-align: right;\">\n",
              "      <th></th>\n",
              "      <th>MBTI_EI</th>\n",
              "      <th>MBTI_SN</th>\n",
              "      <th>MBTI_TF</th>\n",
              "      <th>MBTI_JP</th>\n",
              "      <th>Gender</th>\n",
              "      <th>College GPA</th>\n",
              "      <th>High School GPA</th>\n",
              "      <th>Race / Ethnicity</th>\n",
              "    </tr>\n",
              "  </thead>\n",
              "  <tbody>\n",
              "    <tr>\n",
              "      <th>0</th>\n",
              "      <td>I</td>\n",
              "      <td>S</td>\n",
              "      <td>T</td>\n",
              "      <td>J</td>\n",
              "      <td>Female</td>\n",
              "      <td>2.52</td>\n",
              "      <td>3.10</td>\n",
              "      <td>Black</td>\n",
              "    </tr>\n",
              "    <tr>\n",
              "      <th>1</th>\n",
              "      <td>I</td>\n",
              "      <td>S</td>\n",
              "      <td>F</td>\n",
              "      <td>J</td>\n",
              "      <td>Male</td>\n",
              "      <td>3.90</td>\n",
              "      <td>3.02</td>\n",
              "      <td>Black</td>\n",
              "    </tr>\n",
              "    <tr>\n",
              "      <th>2</th>\n",
              "      <td>I</td>\n",
              "      <td>N</td>\n",
              "      <td>F</td>\n",
              "      <td>P</td>\n",
              "      <td>Female</td>\n",
              "      <td>2.63</td>\n",
              "      <td>2.95</td>\n",
              "      <td>Black</td>\n",
              "    </tr>\n",
              "    <tr>\n",
              "      <th>3</th>\n",
              "      <td>I</td>\n",
              "      <td>S</td>\n",
              "      <td>F</td>\n",
              "      <td>P</td>\n",
              "      <td>Female</td>\n",
              "      <td>3.88</td>\n",
              "      <td>3.99</td>\n",
              "      <td>Black</td>\n",
              "    </tr>\n",
              "    <tr>\n",
              "      <th>4</th>\n",
              "      <td>I</td>\n",
              "      <td>S</td>\n",
              "      <td>F</td>\n",
              "      <td>J</td>\n",
              "      <td>Female</td>\n",
              "      <td>3.30</td>\n",
              "      <td>3.82</td>\n",
              "      <td>Black</td>\n",
              "    </tr>\n",
              "  </tbody>\n",
              "</table>\n",
              "</div>"
            ],
            "text/plain": [
              "  MBTI_EI MBTI_SN MBTI_TF MBTI_JP  Gender  College GPA  High School GPA  \\\n",
              "0       I       S       T       J  Female         2.52             3.10   \n",
              "1       I       S       F       J    Male         3.90             3.02   \n",
              "2       I       N       F       P  Female         2.63             2.95   \n",
              "3       I       S       F       P  Female         3.88             3.99   \n",
              "4       I       S       F       J  Female         3.30             3.82   \n",
              "\n",
              "  Race / Ethnicity  \n",
              "0            Black  \n",
              "1            Black  \n",
              "2            Black  \n",
              "3            Black  \n",
              "4            Black  "
            ]
          },
          "metadata": {
            "tags": []
          },
          "execution_count": 200
        }
      ]
    },
    {
      "metadata": {
        "deletable": false,
        "editable": false,
        "nbgrader": {
          "checksum": "18a0f09a797269b018ae2cf0f3e85960",
          "grade": true,
          "grade_id": "cell-528eea88864f2926",
          "locked": true,
          "points": 10,
          "schema_version": 1,
          "solution": false
        },
        "id": "D6GlHGtie-zu",
        "colab_type": "code",
        "colab": {}
      },
      "cell_type": "code",
      "source": [
        "assert len(categorical_columns) > 8\n",
        "for category in categorical_columns:\n",
        "    assert category in df.columns"
      ],
      "execution_count": 0,
      "outputs": []
    },
    {
      "metadata": {
        "deletable": false,
        "nbgrader": {
          "checksum": "69961777da44b2bd9fc3cd9ebf08b8c4",
          "grade": false,
          "grade_id": "cell-ad307669e4346527",
          "locked": false,
          "schema_version": 1,
          "solution": true
        },
        "id": "HxSfQfdie-zw",
        "colab_type": "code",
        "colab": {
          "base_uri": "https://localhost:8080/",
          "height": 510
        },
        "outputId": "4a909727-ae9d-407f-9402-6d4cc309b1ec"
      },
      "cell_type": "code",
      "source": [
        "# For every column in the categorical features\n",
        "# Calculate the dummy variables and add them to the dataframe\n",
        "# YOUR CODE HERE\n",
        "df['ISTJ'] = df.apply(lambda row: int(row['Myers Briggs Type']==\"ISTJ\"), axis=1)\n",
        "df['ISFJ'] = df.apply(lambda row: int(row['Myers Briggs Type']==\"ISFJ\"), axis=1)\n",
        "df['INFP'] = df.apply(lambda row: int(row['Myers Briggs Type']==\"INFP\"), axis=1)\n",
        "df['ISFP'] = df.apply(lambda row: int(row['Myers Briggs Type']==\"ISFP\"), axis=1)\n",
        "df['ESTJ'] = df.apply(lambda row: int(row['Myers Briggs Type']==\"ESTJ\"), axis=1)\n",
        "df['ESFJ'] = df.apply(lambda row: int(row['Myers Briggs Type']==\"ESFJ\"), axis=1)\n",
        "df['ESTP'] = df.apply(lambda row: int(row['Myers Briggs Type']==\"ESTP\"), axis=1)\n",
        "df['INTP'] = df.apply(lambda row: int(row['Myers Briggs Type']==\"INTP\"), axis=1)\n",
        "df['ISTP'] = df.apply(lambda row: int(row['Myers Briggs Type']==\"ISTP\"), axis=1)\n",
        "df['ESFP'] = df.apply(lambda row: int(row['Myers Briggs Type']==\"ESFP\"), axis=1)\n",
        "df['ENFP'] = df.apply(lambda row: int(row['Myers Briggs Type']==\"ENFP\"), axis=1)\n",
        "df['INFJ'] = df.apply(lambda row: int(row['Myers Briggs Type']==\"INFJ\"), axis=1)\n",
        "df['INTJ'] = df.apply(lambda row: int(row['Myers Briggs Type']==\"INTJ\"), axis=1)\n",
        "df['ENTJ'] = df.apply(lambda row: int(row['Myers Briggs Type']==\"ENTJ\"), axis=1)\n",
        "df['ENFJ'] = df.apply(lambda row: int(row['Myers Briggs Type']==\"ENFJ\"), axis=1)\n",
        "df['ENTP'] = df.apply(lambda row: int(row['Myers Briggs Type']==\"ENTP\"), axis=1)\n",
        "df['is_Black'] = df.apply(lambda row: int(row['Race / Ethnicity']==\"Black\"), axis=1)\n",
        "df['is_Hispanic'] = df.apply(lambda row: int(row['Race / Ethnicity']==\"Hispanic\"), axis=1)\n",
        "df['is_Caucasian'] = df.apply(lambda row: int(row['Race / Ethnicity']==\"Caucasian\"), axis=1)\n",
        "df['is_Male'] = df.apply(lambda row: int(row['Gender']==\"Male\"), axis=1)\n",
        "df['is_Female'] = df.apply(lambda row: int(row['Gender']==\"Female\"), axis=1)\n",
        "df['is_Requires_Sponsorship'] = df.apply(lambda row: int(row['Requires Sponsorship']==\"True\"), axis=1)\n",
        "\n",
        "categorical_columns['is_i'] = df['MBTI_EI']\n",
        "categorical_columns['is_e'] = df['MBTI_EI']\n",
        "df['is_i'] = df['MBTI_EI']\n",
        "df['is_e'] = df['MBTI_EI']\n",
        "\n",
        "categorical_columns['is_s'] = df['MBTI_SN']\n",
        "categorical_columns['is_n'] = df['MBTI_SN']\n",
        "df['is_s'] = df['MBTI_SN']\n",
        "df['is_n'] = df['MBTI_SN']\n",
        "\n",
        "categorical_columns['is_t'] = df['MBTI_TF']\n",
        "categorical_columns['is_f'] = df['MBTI_TF']\n",
        "df['is_t'] = df['MBTI_TF']\n",
        "df['is_f'] = df['MBTI_TF']\n",
        "\n",
        "categorical_columns['is_j'] = df['MBTI_JP']\n",
        "categorical_columns['is_p'] = df['MBTI_JP']\n",
        "df['is_j'] = df['MBTI_JP']\n",
        "df['is_p'] = df['MBTI_JP']\n",
        "\n",
        "\n",
        "df1 = pd.get_dummies(categorical_columns['is_i'])\n",
        "df['is_i'] = df1[['I', 'E']]\n",
        "df1 = pd.get_dummies(categorical_columns['is_e'])\n",
        "df['is_e'] = df1[['E', 'I']]\n",
        "\n",
        "df1 = pd.get_dummies(categorical_columns['is_s'])\n",
        "df['is_s'] = df1[['S', 'N']]\n",
        "df1 = pd.get_dummies(categorical_columns['is_n'])\n",
        "df['is_n'] = df1[['N', 'S']]\n",
        "\n",
        "df1 = pd.get_dummies(categorical_columns['is_t'])\n",
        "df['is_t'] = df1[['T', 'F']]\n",
        "df1 = pd.get_dummies(categorical_columns['is_f'])\n",
        "df['is_f'] = df1[['F', 'T']]\n",
        "\n",
        "df1 = pd.get_dummies(categorical_columns['is_j'])\n",
        "df['is_j'] = df1[['J', 'P']]\n",
        "df1 = pd.get_dummies(categorical_columns['is_p'])\n",
        "df['is_p'] = df1[['P', 'J']]\n",
        "\n",
        "print(df.head())"
      ],
      "execution_count": 202,
      "outputs": [
        {
          "output_type": "stream",
          "text": [
            "  First Name Last Name Date of Birth                          Address  \\\n",
            "0      Sarah     Chang    1989-12-24                764 Howard Tunnel   \n",
            "1     Daniel    Taylor    1985-03-15  4892 Jessica Turnpike Suite 781   \n",
            "2    Heather   Stewart    1993-09-20       778 Linda Orchard Apt. 609   \n",
            "3  Katherine    Dillon    1986-12-22    139 Linda Crossroad Suite 115   \n",
            "4      Sheri    Bolton    1991-02-24              1858 Lauren Orchard   \n",
            "\n",
            "   Zipcode  Gender Race / Ethnicity English Fluency Spanish Fluency  \\\n",
            "0    30167  Female            Black          Fluent           Basic   \n",
            "1    86553    Male            Black          Fluent           Basic   \n",
            "2    30167  Female            Black      Proficient           Basic   \n",
            "3    30167  Female            Black           Basic           Basic   \n",
            "4    60531  Female            Black      Proficient      Proficient   \n",
            "\n",
            "     Education  ...   is_Female  is_Requires_Sponsorship  is_i  is_e is_s  \\\n",
            "0  High School  ...           1                        0     1     0    1   \n",
            "1  High School  ...           0                        0     1     0    1   \n",
            "2  High School  ...           1                        0     1     0    0   \n",
            "3  High School  ...           1                        0     1     0    1   \n",
            "4  High School  ...           1                        0     1     0    1   \n",
            "\n",
            "   is_n  is_t  is_f  is_j  is_p  \n",
            "0     0     1     0     1     0  \n",
            "1     0     0     1     1     0  \n",
            "2     1     0     1     0     1  \n",
            "3     0     0     1     0     1  \n",
            "4     0     0     1     1     0  \n",
            "\n",
            "[5 rows x 55 columns]\n"
          ],
          "name": "stdout"
        }
      ]
    },
    {
      "metadata": {
        "deletable": false,
        "editable": false,
        "nbgrader": {
          "checksum": "20a089162c8e028bada006b2ac24c34c",
          "grade": false,
          "grade_id": "cell-d477e9bead9db0a6",
          "locked": true,
          "schema_version": 1,
          "solution": false
        },
        "id": "CU2r-17se-z2",
        "colab_type": "code",
        "colab": {}
      },
      "cell_type": "code",
      "source": [
        "assert len(list(df.columns)) > 45"
      ],
      "execution_count": 0,
      "outputs": []
    },
    {
      "metadata": {
        "deletable": false,
        "editable": false,
        "nbgrader": {
          "checksum": "f24fb58ec9e0feb12116a391b973879f",
          "grade": false,
          "grade_id": "cell-4b43f9bb988091cf",
          "locked": true,
          "schema_version": 1,
          "solution": false
        },
        "id": "DMVCP6_Me-z-",
        "colab_type": "code",
        "colab": {
          "base_uri": "https://localhost:8080/",
          "height": 969
        },
        "outputId": "8b4bd9f8-9496-4ca2-caf7-0c05ba728e6f"
      },
      "cell_type": "code",
      "source": [
        "print(\"The current columns are:\")\n",
        "list(df.columns)"
      ],
      "execution_count": 204,
      "outputs": [
        {
          "output_type": "stream",
          "text": [
            "The current columns are:\n"
          ],
          "name": "stdout"
        },
        {
          "output_type": "execute_result",
          "data": {
            "text/plain": [
              "['First Name',\n",
              " 'Last Name',\n",
              " 'Date of Birth',\n",
              " 'Address',\n",
              " 'Zipcode',\n",
              " 'Gender',\n",
              " 'Race / Ethnicity',\n",
              " 'English Fluency',\n",
              " 'Spanish Fluency',\n",
              " 'Education',\n",
              " 'High School GPA',\n",
              " 'College GPA',\n",
              " 'Years of Experience',\n",
              " 'Years of Volunteering',\n",
              " 'Myers Briggs Type',\n",
              " 'Twitter followers',\n",
              " 'Instagram Followers',\n",
              " 'Requires Sponsorship',\n",
              " 'Customer Satisfaction Rating',\n",
              " 'Sales Rating',\n",
              " 'Fired',\n",
              " 'MBTI_EI',\n",
              " 'MBTI_SN',\n",
              " 'MBTI_TF',\n",
              " 'MBTI_JP',\n",
              " 'ISTJ',\n",
              " 'ISFJ',\n",
              " 'INFP',\n",
              " 'ISFP',\n",
              " 'ESTJ',\n",
              " 'ESFJ',\n",
              " 'ESTP',\n",
              " 'INTP',\n",
              " 'ISTP',\n",
              " 'ESFP',\n",
              " 'ENFP',\n",
              " 'INFJ',\n",
              " 'INTJ',\n",
              " 'ENTJ',\n",
              " 'ENFJ',\n",
              " 'ENTP',\n",
              " 'is_Black',\n",
              " 'is_Hispanic',\n",
              " 'is_Caucasian',\n",
              " 'is_Male',\n",
              " 'is_Female',\n",
              " 'is_Requires_Sponsorship',\n",
              " 'is_i',\n",
              " 'is_e',\n",
              " 'is_s',\n",
              " 'is_n',\n",
              " 'is_t',\n",
              " 'is_f',\n",
              " 'is_j',\n",
              " 'is_p']"
            ]
          },
          "metadata": {
            "tags": []
          },
          "execution_count": 204
        }
      ]
    },
    {
      "metadata": {
        "deletable": false,
        "nbgrader": {
          "checksum": "6db99454a146fe855b21a4f20227e750",
          "grade": false,
          "grade_id": "cell-10890eae4243cb8d",
          "locked": false,
          "schema_version": 1,
          "solution": true
        },
        "id": "QaFs2Jhte-0D",
        "colab_type": "code",
        "colab": {}
      },
      "cell_type": "code",
      "source": [
        "# Now let's drop all the categorical features columns from the dataframe\n",
        "# So that we don't have duplicate information stored\n",
        "# YOUR CODE HERE\n",
        "\n",
        "df = df.drop(['MBTI_EI', 'MBTI_SN','MBTI_TF','MBTI_JP','College GPA', 'is_i', 'is_e', 'is_s', 'is_n', 'is_t', 'is_f', 'is_j', 'is_p','Gender','Race / Ethnicity','High School GPA'], axis=1)"
      ],
      "execution_count": 0,
      "outputs": []
    },
    {
      "metadata": {
        "deletable": false,
        "editable": false,
        "nbgrader": {
          "checksum": "10113a2235b4d47c0b3e356e72bbacfa",
          "grade": false,
          "grade_id": "cell-c0598d253d832ddd",
          "locked": true,
          "schema_version": 1,
          "solution": false
        },
        "id": "K81GdoRSe-0H",
        "colab_type": "code",
        "colab": {
          "base_uri": "https://localhost:8080/",
          "height": 697
        },
        "outputId": "34d78893-c7d8-470a-9b7e-606a519da992"
      },
      "cell_type": "code",
      "source": [
        "print(\"The current columns are:\")\n",
        "list(df.columns)"
      ],
      "execution_count": 206,
      "outputs": [
        {
          "output_type": "stream",
          "text": [
            "The current columns are:\n"
          ],
          "name": "stdout"
        },
        {
          "output_type": "execute_result",
          "data": {
            "text/plain": [
              "['First Name',\n",
              " 'Last Name',\n",
              " 'Date of Birth',\n",
              " 'Address',\n",
              " 'Zipcode',\n",
              " 'English Fluency',\n",
              " 'Spanish Fluency',\n",
              " 'Education',\n",
              " 'Years of Experience',\n",
              " 'Years of Volunteering',\n",
              " 'Myers Briggs Type',\n",
              " 'Twitter followers',\n",
              " 'Instagram Followers',\n",
              " 'Requires Sponsorship',\n",
              " 'Customer Satisfaction Rating',\n",
              " 'Sales Rating',\n",
              " 'Fired',\n",
              " 'ISTJ',\n",
              " 'ISFJ',\n",
              " 'INFP',\n",
              " 'ISFP',\n",
              " 'ESTJ',\n",
              " 'ESFJ',\n",
              " 'ESTP',\n",
              " 'INTP',\n",
              " 'ISTP',\n",
              " 'ESFP',\n",
              " 'ENFP',\n",
              " 'INFJ',\n",
              " 'INTJ',\n",
              " 'ENTJ',\n",
              " 'ENFJ',\n",
              " 'ENTP',\n",
              " 'is_Black',\n",
              " 'is_Hispanic',\n",
              " 'is_Caucasian',\n",
              " 'is_Male',\n",
              " 'is_Female',\n",
              " 'is_Requires_Sponsorship']"
            ]
          },
          "metadata": {
            "tags": []
          },
          "execution_count": 206
        }
      ]
    },
    {
      "metadata": {
        "deletable": false,
        "editable": false,
        "nbgrader": {
          "checksum": "7b24f92768f16089c612b609ca5ba254",
          "grade": true,
          "grade_id": "cell-a6172310793c3289",
          "locked": true,
          "points": 10,
          "schema_version": 1,
          "solution": false
        },
        "id": "fRp3J3_7e-0O",
        "colab_type": "code",
        "colab": {}
      },
      "cell_type": "code",
      "source": [
        "assert 45 > len(list(df.columns)) > 30"
      ],
      "execution_count": 0,
      "outputs": []
    },
    {
      "metadata": {
        "deletable": false,
        "editable": false,
        "nbgrader": {
          "checksum": "2177a2cddf2c04f3eb1aa852b4f45181",
          "grade": false,
          "grade_id": "cell-48ebecdc645e8f6a",
          "locked": true,
          "schema_version": 1,
          "solution": false
        },
        "id": "yqliX8tie-0Z",
        "colab_type": "text"
      },
      "cell_type": "markdown",
      "source": [
        "1. ~~Split Myers Briggs into subtypes~~\n",
        "1. ~~Convert categorical columns to dummy variables~~\n",
        "1. Calculate Age based on date of birth"
      ]
    },
    {
      "metadata": {
        "deletable": false,
        "editable": false,
        "nbgrader": {
          "checksum": "b9edcc68fcdec16b9e7e18b9ef6f1a2b",
          "grade": false,
          "grade_id": "cell-028aecaf0638bb7a",
          "locked": true,
          "schema_version": 1,
          "solution": false
        },
        "id": "qcGVJu30e-0b",
        "colab_type": "code",
        "colab": {}
      },
      "cell_type": "code",
      "source": [
        "def calculate_age(born):\n",
        "    \"\"\"Calculates age based on date of birth using https://stackoverflow.com/a/9754466/818687\n",
        "\n",
        "    Args:\n",
        "        born (datetime): The date of birth\n",
        "\n",
        "    Returns:\n",
        "        int: The age based on date of birth\n",
        "    \"\"\"\n",
        "    today = date.today()\n",
        "    return today.year - born.year - ((today.month, today.day) < (born.month, born.day))"
      ],
      "execution_count": 0,
      "outputs": []
    },
    {
      "metadata": {
        "deletable": false,
        "nbgrader": {
          "checksum": "5b3728527c3a00344ee43f3f18d5edd1",
          "grade": false,
          "grade_id": "cell-315ed06d1f0428b4",
          "locked": false,
          "schema_version": 1,
          "solution": true
        },
        "id": "oXJBgiLMe-0p",
        "colab_type": "code",
        "colab": {}
      },
      "cell_type": "code",
      "source": [
        "# Add an \"Age\" column to the dataframe that calculates people's ages based on their date of birth\n",
        "# YOUR CODE HERE\n",
        "df[\"Age\"] = df.apply(lambda x: calculate_age(pd.to_datetime(x[\"Date of Birth\"])), axis=1)\n"
      ],
      "execution_count": 0,
      "outputs": []
    },
    {
      "metadata": {
        "deletable": false,
        "editable": false,
        "nbgrader": {
          "checksum": "dbef2887b78541fc9cb8ca31081c2c49",
          "grade": true,
          "grade_id": "cell-abfc46abea98fba7",
          "locked": true,
          "points": 20,
          "schema_version": 1,
          "solution": false
        },
        "id": "nXET5Lcoe-0v",
        "colab_type": "code",
        "colab": {}
      },
      "cell_type": "code",
      "source": [
        "assert df[\"Age\"].min() == 20\n",
        "assert df[\"Age\"].max() == 36\n",
        "assert df[\"Age\"].median() == 28"
      ],
      "execution_count": 0,
      "outputs": []
    },
    {
      "metadata": {
        "deletable": false,
        "editable": false,
        "nbgrader": {
          "checksum": "793e92cb72a271eb8c9842908586e35e",
          "grade": false,
          "grade_id": "cell-ea0c08afcc388389",
          "locked": true,
          "schema_version": 1,
          "solution": false
        },
        "id": "Ehxaace3e-0y",
        "colab_type": "text"
      },
      "cell_type": "markdown",
      "source": [
        "## Modelling\n",
        "\n",
        "Based on your understanding of the data, select the features that you want to use to predict:\n",
        "\n",
        "1. Customer Satisfaction\n",
        "1. Sales Performance\n",
        "1. Fired"
      ]
    },
    {
      "metadata": {
        "deletable": false,
        "nbgrader": {
          "checksum": "c3a21b18097115dacd3054d20435d423",
          "grade": false,
          "grade_id": "cell-449eb7f2253cca83",
          "locked": false,
          "schema_version": 1,
          "solution": true
        },
        "id": "nnZ0MS0Pe-0z",
        "colab_type": "code",
        "colab": {}
      },
      "cell_type": "code",
      "source": [
        "# Save the columns we are trying to predict to targets\n",
        "# Make sure that if we had a categorical column, that you use the dummy representation(s)\n",
        "# YOUR CODE HERE\n",
        "targets =  pd.DataFrame()\n",
        "targets['Customer Satisfaction Rating'] = [0,0,0]\n",
        "targets[\"Sales Rating\"] = [0,0,0]\n",
        "targets[\"Fired\"] = [0,0,0]\n"
      ],
      "execution_count": 0,
      "outputs": []
    },
    {
      "metadata": {
        "deletable": false,
        "editable": false,
        "nbgrader": {
          "checksum": "d5081927389e999a34fec741f4e5b416",
          "grade": true,
          "grade_id": "cell-458aa3767005cc6d",
          "locked": true,
          "points": 20,
          "schema_version": 1,
          "solution": false
        },
        "id": "JejWTuiTe-05",
        "colab_type": "code",
        "colab": {}
      },
      "cell_type": "code",
      "source": [
        "assert len(targets) == 3\n",
        "for target in targets:\n",
        "    assert target in df.columns"
      ],
      "execution_count": 0,
      "outputs": []
    },
    {
      "metadata": {
        "deletable": false,
        "editable": false,
        "nbgrader": {
          "checksum": "65973f6f7c1774837c7db8b4d4fc2222",
          "grade": false,
          "grade_id": "cell-001c7adb39caf635",
          "locked": true,
          "schema_version": 1,
          "solution": false
        },
        "id": "nC6FBgjpe-08",
        "colab_type": "text"
      },
      "cell_type": "markdown",
      "source": [
        "Your prediction will be used to rank applicants for interviews with HR. **Which features will you select to use in your model?**"
      ]
    },
    {
      "metadata": {
        "deletable": false,
        "editable": false,
        "nbgrader": {
          "checksum": "2ca1e6e7f83ad4da5a3185188c638880",
          "grade": false,
          "grade_id": "cell-e436c6aea590b5c0",
          "locked": true,
          "schema_version": 1,
          "solution": false
        },
        "id": "_OvWNaKhe-0_",
        "colab_type": "code",
        "colab": {
          "base_uri": "https://localhost:8080/",
          "height": 714
        },
        "outputId": "0cf301fa-710f-4fb1-de92-7fccfedfaed5"
      },
      "cell_type": "code",
      "source": [
        "print(\"The available columns are:\")\n",
        "list(df)"
      ],
      "execution_count": 213,
      "outputs": [
        {
          "output_type": "stream",
          "text": [
            "The available columns are:\n"
          ],
          "name": "stdout"
        },
        {
          "output_type": "execute_result",
          "data": {
            "text/plain": [
              "['First Name',\n",
              " 'Last Name',\n",
              " 'Date of Birth',\n",
              " 'Address',\n",
              " 'Zipcode',\n",
              " 'English Fluency',\n",
              " 'Spanish Fluency',\n",
              " 'Education',\n",
              " 'Years of Experience',\n",
              " 'Years of Volunteering',\n",
              " 'Myers Briggs Type',\n",
              " 'Twitter followers',\n",
              " 'Instagram Followers',\n",
              " 'Requires Sponsorship',\n",
              " 'Customer Satisfaction Rating',\n",
              " 'Sales Rating',\n",
              " 'Fired',\n",
              " 'ISTJ',\n",
              " 'ISFJ',\n",
              " 'INFP',\n",
              " 'ISFP',\n",
              " 'ESTJ',\n",
              " 'ESFJ',\n",
              " 'ESTP',\n",
              " 'INTP',\n",
              " 'ISTP',\n",
              " 'ESFP',\n",
              " 'ENFP',\n",
              " 'INFJ',\n",
              " 'INTJ',\n",
              " 'ENTJ',\n",
              " 'ENFJ',\n",
              " 'ENTP',\n",
              " 'is_Black',\n",
              " 'is_Hispanic',\n",
              " 'is_Caucasian',\n",
              " 'is_Male',\n",
              " 'is_Female',\n",
              " 'is_Requires_Sponsorship',\n",
              " 'Age']"
            ]
          },
          "metadata": {
            "tags": []
          },
          "execution_count": 213
        }
      ]
    },
    {
      "metadata": {
        "deletable": false,
        "nbgrader": {
          "checksum": "c88e3aa7b5ddf2ca191dfb88b5408d24",
          "grade": false,
          "grade_id": "cell-bd2399d20615cbd1",
          "locked": false,
          "schema_version": 1,
          "solution": true
        },
        "id": "ehQ97IUWe-1B",
        "colab_type": "code",
        "colab": {}
      },
      "cell_type": "code",
      "source": [
        "# Enter all the features you want to use in a list and save it to rank_features\n",
        "# These are the features for the model that will rank applicants for interviews\n",
        "# YOUR CODE HERE\n",
        "rank_features = ['College GPA', 'High School GPA','Years of Experience', 'Years of Volunteering', 'ISTJ','ISFJ','INFP','ISFP','ESTJ','ESFJ','ESTP','INTP','ISTP','ESFP', 'ENFP','INFJ','INTJ','ENTJ','ENFJ','ENTP','Age','is_Black',\n",
        " 'is_Hispanic', 'is_Caucasian', 'is_Male', 'is_Female', 'is_Requires_Sponsorship']"
      ],
      "execution_count": 0,
      "outputs": []
    },
    {
      "metadata": {
        "deletable": false,
        "editable": false,
        "nbgrader": {
          "checksum": "734ba0669bdc3873fb75b67ef74cc737",
          "grade": false,
          "grade_id": "cell-c35210aa72f0c989",
          "locked": true,
          "schema_version": 1,
          "solution": false
        },
        "id": "WzE5FZHee-1E",
        "colab_type": "text"
      },
      "cell_type": "markdown",
      "source": [
        "Why did you choose the features you did?"
      ]
    },
    {
      "metadata": {
        "deletable": false,
        "nbgrader": {
          "checksum": "c1ba64004225b01d4be0f1704699b9b5",
          "grade": false,
          "grade_id": "cell-11725eab2a5dc436",
          "locked": false,
          "schema_version": 1,
          "solution": true
        },
        "id": "RJE2IxEFe-1G",
        "colab_type": "code",
        "colab": {}
      },
      "cell_type": "code",
      "source": [
        "## Save your reasoning in a string to the variable ranking_reason\n",
        "\n",
        "# YOUR CODE HERE\n",
        "ranking_reason = \"I chose these features because this is the ideal employee. Experience matters because you would like a worker who is mature to handle difficult situation. Additionall, College GPA and High School GPA also matters to quantify a person's hard work and overall intellect. Gender may play a role in specific fields as well.\""
      ],
      "execution_count": 0,
      "outputs": []
    },
    {
      "metadata": {
        "deletable": false,
        "editable": false,
        "nbgrader": {
          "checksum": "600826aef884a21a0e2ef24b5dd1e3c3",
          "grade": true,
          "grade_id": "cell-8b0e41f067c8ef32",
          "locked": true,
          "points": 20,
          "schema_version": 1,
          "solution": false
        },
        "id": "mTrxWXnCe-1K",
        "colab_type": "code",
        "colab": {}
      },
      "cell_type": "code",
      "source": [
        "assert isinstance(ranking_reason, str)\n",
        "assert len(ranking_reason) > 20"
      ],
      "execution_count": 0,
      "outputs": []
    },
    {
      "metadata": {
        "deletable": false,
        "nbgrader": {
          "checksum": "22a9f7d3af3e8f17a19ba1d79448f564",
          "grade": false,
          "grade_id": "cell-d9d5cf91c533af77",
          "locked": false,
          "schema_version": 1,
          "solution": true
        },
        "id": "pb0-deuae-1P",
        "colab_type": "code",
        "colab": {
          "base_uri": "https://localhost:8080/",
          "height": 119
        },
        "outputId": "ea58e77a-4386-415d-dad0-c975591fecc3"
      },
      "cell_type": "code",
      "source": [
        "# Perform a train and test split on the data with the variable names:\n",
        "# rank_x_train for the training features\n",
        "# rank_x_test for the testing features\n",
        "# rank_y_train for the training targets\n",
        "# rank_y_test for the testing targets\n",
        "# The test dataset should be 20% of the total dataset\n",
        "\n",
        "# YOUR CODE HERE\n",
        "\n",
        "new_df = pd.DataFrame(data = df)\n",
        "new_df=new_df.dropna()\n",
        "\n",
        "rankFeatures =  new_df[['Instagram Followers', 'Years of Experience', 'Years of Volunteering', 'ISTJ','ISFJ','INFP','ISFP','ESTJ','ESFJ','ESTP','INTP','ISTP','ESFP', 'ENFP','INFJ','INTJ','ENTJ','ENFJ','ENTP','Age','is_Black','is_Hispanic', 'is_Caucasian', 'is_Male', 'is_Female', 'is_Requires_Sponsorship','Twitter followers']]\n",
        "targets=new_df[[ 'Fired']]\n",
        "rank_x_train, rank_x_test, rank_y_train, rank_y_test = train_test_split(rankFeatures,targets,test_size=0.2)\n",
        "\n",
        "print(df[\"Fired\"].head())"
      ],
      "execution_count": 228,
      "outputs": [
        {
          "output_type": "stream",
          "text": [
            "0    Current Employee\n",
            "1    Current Employee\n",
            "2    Current Employee\n",
            "3    Current Employee\n",
            "4    Current Employee\n",
            "Name: Fired, dtype: object\n"
          ],
          "name": "stdout"
        }
      ]
    },
    {
      "metadata": {
        "deletable": false,
        "editable": false,
        "nbgrader": {
          "checksum": "9ebee3fe21ac0f9d65714b1e2df1ba26",
          "grade": true,
          "grade_id": "cell-146c7b1df2f26d90",
          "locked": true,
          "points": 10,
          "schema_version": 1,
          "solution": false
        },
        "id": "jINE9D_je-1U",
        "colab_type": "code",
        "colab": {}
      },
      "cell_type": "code",
      "source": [
        "assert (len(rank_x_train) / (len(rank_x_test) + len(rank_x_train))) == 0.8\n",
        "assert (len(rank_y_train) / (len(rank_y_test) + len(rank_y_train))) == 0.8\n",
        "assert len(rank_x_train) == len(rank_y_train)\n",
        "assert len(rank_x_test) == len(rank_y_test)"
      ],
      "execution_count": 0,
      "outputs": []
    },
    {
      "metadata": {
        "deletable": false,
        "nbgrader": {
          "checksum": "66972422e6ee5c508599b44ea17916ca",
          "grade": true,
          "grade_id": "cell-99742e48e538f29a",
          "locked": false,
          "points": 50,
          "schema_version": 1,
          "solution": true
        },
        "id": "tFdT7r2Be-1W",
        "colab_type": "code",
        "colab": {}
      },
      "cell_type": "code",
      "source": [
        "# Select models of your choosing, import them and perform a parameter search to train them on each of the targets\n",
        "# Determine an appropriate metric for measuring your performance and report that.\n",
        "\n",
        "# YOUR CODE HERE\n",
        "from sklearn.neighbors import KNeighborsClassifier\n",
        "ks = [1,2,3,4,5,6,7,8,9,10,15,18,19,20,21,22,30,32,33,34,45,48,50,100]\n",
        "def get_knn_validation_scores(ks, model_features, model_labels, validation_features, validation_labels):\n",
        "    d= dict()\n",
        "    for k in ks:\n",
        "      knn = KNeighborsClassifier(n_neighbors=k)\n",
        "      knn.fit(validation_features, validation_labels)\n",
        "      validationPredictions = knn.predict(validation_features)\n",
        "      f1 = f1_score(validation_labels, validationPredictions, average=\"weighted\")\n",
        "      d[k] = f1 \n",
        "    return d\n",
        "  \n",
        "def get_knn_training_scores(ks, model_features, model_labels):\n",
        "    \n",
        "    d= dict()\n",
        "    for k in ks:\n",
        "      knn = KNeighborsClassifier(n_neighbors=k)\n",
        "      knn.fit(model_features, model_labels)\n",
        "      validationPredictions = knn.predict(model_features)\n",
        "      f1 = f1_score(model_labels, validationPredictions, average=\"weighted\")\n",
        "      d[k] = f1 \n",
        "    return d\n"
      ],
      "execution_count": 0,
      "outputs": []
    },
    {
      "metadata": {
        "id": "U1BS1Z1EGPv4",
        "colab_type": "code",
        "colab": {
          "base_uri": "https://localhost:8080/",
          "height": 1703
        },
        "outputId": "1b6b6239-b9c0-4137-fce0-e26aa3676a8c"
      },
      "cell_type": "code",
      "source": [
        "from sklearn import preprocessing\n",
        "from sklearn.metrics import classification_report, confusion_matrix, f1_score\n",
        "\n",
        "lab_enc = preprocessing.LabelEncoder()\n",
        "rank_y_train = lab_enc.fit_transform(rank_y_train)\n",
        "\n",
        "\n",
        "rank_y_test = lab_enc.fit_transform(rank_y_test)\n",
        "training_scores = get_knn_training_scores(ks, rank_x_train, rank_y_train)\n",
        "validation_scores = get_knn_validation_scores(ks, rank_x_train, rank_y_train, rank_x_test, rank_y_test)\n"
      ],
      "execution_count": 230,
      "outputs": [
        {
          "output_type": "stream",
          "text": [
            "/usr/local/lib/python2.7/dist-packages/sklearn/externals/joblib/parallel.py:268: DeprecationWarning: check_pickle is deprecated in joblib 0.12 and will be removed in 0.13\n",
            "  ' removed in 0.13', DeprecationWarning)\n",
            "/usr/local/lib/python2.7/dist-packages/sklearn/externals/joblib/parallel.py:268: DeprecationWarning: check_pickle is deprecated in joblib 0.12 and will be removed in 0.13\n",
            "  ' removed in 0.13', DeprecationWarning)\n",
            "/usr/local/lib/python2.7/dist-packages/sklearn/externals/joblib/parallel.py:268: DeprecationWarning: check_pickle is deprecated in joblib 0.12 and will be removed in 0.13\n",
            "  ' removed in 0.13', DeprecationWarning)\n",
            "/usr/local/lib/python2.7/dist-packages/sklearn/externals/joblib/parallel.py:268: DeprecationWarning: check_pickle is deprecated in joblib 0.12 and will be removed in 0.13\n",
            "  ' removed in 0.13', DeprecationWarning)\n",
            "/usr/local/lib/python2.7/dist-packages/sklearn/externals/joblib/parallel.py:268: DeprecationWarning: check_pickle is deprecated in joblib 0.12 and will be removed in 0.13\n",
            "  ' removed in 0.13', DeprecationWarning)\n",
            "/usr/local/lib/python2.7/dist-packages/sklearn/externals/joblib/parallel.py:268: DeprecationWarning: check_pickle is deprecated in joblib 0.12 and will be removed in 0.13\n",
            "  ' removed in 0.13', DeprecationWarning)\n",
            "/usr/local/lib/python2.7/dist-packages/sklearn/externals/joblib/parallel.py:268: DeprecationWarning: check_pickle is deprecated in joblib 0.12 and will be removed in 0.13\n",
            "  ' removed in 0.13', DeprecationWarning)\n",
            "/usr/local/lib/python2.7/dist-packages/sklearn/externals/joblib/parallel.py:268: DeprecationWarning: check_pickle is deprecated in joblib 0.12 and will be removed in 0.13\n",
            "  ' removed in 0.13', DeprecationWarning)\n",
            "/usr/local/lib/python2.7/dist-packages/sklearn/metrics/classification.py:1143: UndefinedMetricWarning: F-score is ill-defined and being set to 0.0 in labels with no predicted samples.\n",
            "  'precision', 'predicted', average, warn_for)\n",
            "/usr/local/lib/python2.7/dist-packages/sklearn/externals/joblib/parallel.py:268: DeprecationWarning: check_pickle is deprecated in joblib 0.12 and will be removed in 0.13\n",
            "  ' removed in 0.13', DeprecationWarning)\n",
            "/usr/local/lib/python2.7/dist-packages/sklearn/externals/joblib/parallel.py:268: DeprecationWarning: check_pickle is deprecated in joblib 0.12 and will be removed in 0.13\n",
            "  ' removed in 0.13', DeprecationWarning)\n",
            "/usr/local/lib/python2.7/dist-packages/sklearn/externals/joblib/parallel.py:268: DeprecationWarning: check_pickle is deprecated in joblib 0.12 and will be removed in 0.13\n",
            "  ' removed in 0.13', DeprecationWarning)\n",
            "/usr/local/lib/python2.7/dist-packages/sklearn/externals/joblib/parallel.py:268: DeprecationWarning: check_pickle is deprecated in joblib 0.12 and will be removed in 0.13\n",
            "  ' removed in 0.13', DeprecationWarning)\n",
            "/usr/local/lib/python2.7/dist-packages/sklearn/externals/joblib/parallel.py:268: DeprecationWarning: check_pickle is deprecated in joblib 0.12 and will be removed in 0.13\n",
            "  ' removed in 0.13', DeprecationWarning)\n",
            "/usr/local/lib/python2.7/dist-packages/sklearn/externals/joblib/parallel.py:268: DeprecationWarning: check_pickle is deprecated in joblib 0.12 and will be removed in 0.13\n",
            "  ' removed in 0.13', DeprecationWarning)\n",
            "/usr/local/lib/python2.7/dist-packages/sklearn/externals/joblib/parallel.py:268: DeprecationWarning: check_pickle is deprecated in joblib 0.12 and will be removed in 0.13\n",
            "  ' removed in 0.13', DeprecationWarning)\n",
            "/usr/local/lib/python2.7/dist-packages/sklearn/externals/joblib/parallel.py:268: DeprecationWarning: check_pickle is deprecated in joblib 0.12 and will be removed in 0.13\n",
            "  ' removed in 0.13', DeprecationWarning)\n",
            "/usr/local/lib/python2.7/dist-packages/sklearn/externals/joblib/parallel.py:268: DeprecationWarning: check_pickle is deprecated in joblib 0.12 and will be removed in 0.13\n",
            "  ' removed in 0.13', DeprecationWarning)\n",
            "/usr/local/lib/python2.7/dist-packages/sklearn/externals/joblib/parallel.py:268: DeprecationWarning: check_pickle is deprecated in joblib 0.12 and will be removed in 0.13\n",
            "  ' removed in 0.13', DeprecationWarning)\n",
            "/usr/local/lib/python2.7/dist-packages/sklearn/externals/joblib/parallel.py:268: DeprecationWarning: check_pickle is deprecated in joblib 0.12 and will be removed in 0.13\n",
            "  ' removed in 0.13', DeprecationWarning)\n",
            "/usr/local/lib/python2.7/dist-packages/sklearn/externals/joblib/parallel.py:268: DeprecationWarning: check_pickle is deprecated in joblib 0.12 and will be removed in 0.13\n",
            "  ' removed in 0.13', DeprecationWarning)\n",
            "/usr/local/lib/python2.7/dist-packages/sklearn/externals/joblib/parallel.py:268: DeprecationWarning: check_pickle is deprecated in joblib 0.12 and will be removed in 0.13\n",
            "  ' removed in 0.13', DeprecationWarning)\n",
            "/usr/local/lib/python2.7/dist-packages/sklearn/externals/joblib/parallel.py:268: DeprecationWarning: check_pickle is deprecated in joblib 0.12 and will be removed in 0.13\n",
            "  ' removed in 0.13', DeprecationWarning)\n",
            "/usr/local/lib/python2.7/dist-packages/sklearn/externals/joblib/parallel.py:268: DeprecationWarning: check_pickle is deprecated in joblib 0.12 and will be removed in 0.13\n",
            "  ' removed in 0.13', DeprecationWarning)\n",
            "/usr/local/lib/python2.7/dist-packages/sklearn/externals/joblib/parallel.py:268: DeprecationWarning: check_pickle is deprecated in joblib 0.12 and will be removed in 0.13\n",
            "  ' removed in 0.13', DeprecationWarning)\n",
            "/usr/local/lib/python2.7/dist-packages/sklearn/externals/joblib/parallel.py:268: DeprecationWarning: check_pickle is deprecated in joblib 0.12 and will be removed in 0.13\n",
            "  ' removed in 0.13', DeprecationWarning)\n",
            "/usr/local/lib/python2.7/dist-packages/sklearn/externals/joblib/parallel.py:268: DeprecationWarning: check_pickle is deprecated in joblib 0.12 and will be removed in 0.13\n",
            "  ' removed in 0.13', DeprecationWarning)\n",
            "/usr/local/lib/python2.7/dist-packages/sklearn/externals/joblib/parallel.py:268: DeprecationWarning: check_pickle is deprecated in joblib 0.12 and will be removed in 0.13\n",
            "  ' removed in 0.13', DeprecationWarning)\n",
            "/usr/local/lib/python2.7/dist-packages/sklearn/externals/joblib/parallel.py:268: DeprecationWarning: check_pickle is deprecated in joblib 0.12 and will be removed in 0.13\n",
            "  ' removed in 0.13', DeprecationWarning)\n",
            "/usr/local/lib/python2.7/dist-packages/sklearn/externals/joblib/parallel.py:268: DeprecationWarning: check_pickle is deprecated in joblib 0.12 and will be removed in 0.13\n",
            "  ' removed in 0.13', DeprecationWarning)\n",
            "/usr/local/lib/python2.7/dist-packages/sklearn/externals/joblib/parallel.py:268: DeprecationWarning: check_pickle is deprecated in joblib 0.12 and will be removed in 0.13\n",
            "  ' removed in 0.13', DeprecationWarning)\n",
            "/usr/local/lib/python2.7/dist-packages/sklearn/externals/joblib/parallel.py:268: DeprecationWarning: check_pickle is deprecated in joblib 0.12 and will be removed in 0.13\n",
            "  ' removed in 0.13', DeprecationWarning)\n",
            "/usr/local/lib/python2.7/dist-packages/sklearn/externals/joblib/parallel.py:268: DeprecationWarning: check_pickle is deprecated in joblib 0.12 and will be removed in 0.13\n",
            "  ' removed in 0.13', DeprecationWarning)\n",
            "/usr/local/lib/python2.7/dist-packages/sklearn/externals/joblib/parallel.py:268: DeprecationWarning: check_pickle is deprecated in joblib 0.12 and will be removed in 0.13\n",
            "  ' removed in 0.13', DeprecationWarning)\n",
            "/usr/local/lib/python2.7/dist-packages/sklearn/externals/joblib/parallel.py:268: DeprecationWarning: check_pickle is deprecated in joblib 0.12 and will be removed in 0.13\n",
            "  ' removed in 0.13', DeprecationWarning)\n",
            "/usr/local/lib/python2.7/dist-packages/sklearn/externals/joblib/parallel.py:268: DeprecationWarning: check_pickle is deprecated in joblib 0.12 and will be removed in 0.13\n",
            "  ' removed in 0.13', DeprecationWarning)\n",
            "/usr/local/lib/python2.7/dist-packages/sklearn/externals/joblib/parallel.py:268: DeprecationWarning: check_pickle is deprecated in joblib 0.12 and will be removed in 0.13\n",
            "  ' removed in 0.13', DeprecationWarning)\n",
            "/usr/local/lib/python2.7/dist-packages/sklearn/externals/joblib/parallel.py:268: DeprecationWarning: check_pickle is deprecated in joblib 0.12 and will be removed in 0.13\n",
            "  ' removed in 0.13', DeprecationWarning)\n",
            "/usr/local/lib/python2.7/dist-packages/sklearn/externals/joblib/parallel.py:268: DeprecationWarning: check_pickle is deprecated in joblib 0.12 and will be removed in 0.13\n",
            "  ' removed in 0.13', DeprecationWarning)\n",
            "/usr/local/lib/python2.7/dist-packages/sklearn/externals/joblib/parallel.py:268: DeprecationWarning: check_pickle is deprecated in joblib 0.12 and will be removed in 0.13\n",
            "  ' removed in 0.13', DeprecationWarning)\n",
            "/usr/local/lib/python2.7/dist-packages/sklearn/externals/joblib/parallel.py:268: DeprecationWarning: check_pickle is deprecated in joblib 0.12 and will be removed in 0.13\n",
            "  ' removed in 0.13', DeprecationWarning)\n",
            "/usr/local/lib/python2.7/dist-packages/sklearn/externals/joblib/parallel.py:268: DeprecationWarning: check_pickle is deprecated in joblib 0.12 and will be removed in 0.13\n",
            "  ' removed in 0.13', DeprecationWarning)\n",
            "/usr/local/lib/python2.7/dist-packages/sklearn/externals/joblib/parallel.py:268: DeprecationWarning: check_pickle is deprecated in joblib 0.12 and will be removed in 0.13\n",
            "  ' removed in 0.13', DeprecationWarning)\n",
            "/usr/local/lib/python2.7/dist-packages/sklearn/externals/joblib/parallel.py:268: DeprecationWarning: check_pickle is deprecated in joblib 0.12 and will be removed in 0.13\n",
            "  ' removed in 0.13', DeprecationWarning)\n",
            "/usr/local/lib/python2.7/dist-packages/sklearn/externals/joblib/parallel.py:268: DeprecationWarning: check_pickle is deprecated in joblib 0.12 and will be removed in 0.13\n",
            "  ' removed in 0.13', DeprecationWarning)\n",
            "/usr/local/lib/python2.7/dist-packages/sklearn/externals/joblib/parallel.py:268: DeprecationWarning: check_pickle is deprecated in joblib 0.12 and will be removed in 0.13\n",
            "  ' removed in 0.13', DeprecationWarning)\n",
            "/usr/local/lib/python2.7/dist-packages/sklearn/externals/joblib/parallel.py:268: DeprecationWarning: check_pickle is deprecated in joblib 0.12 and will be removed in 0.13\n",
            "  ' removed in 0.13', DeprecationWarning)\n",
            "/usr/local/lib/python2.7/dist-packages/sklearn/externals/joblib/parallel.py:268: DeprecationWarning: check_pickle is deprecated in joblib 0.12 and will be removed in 0.13\n",
            "  ' removed in 0.13', DeprecationWarning)\n",
            "/usr/local/lib/python2.7/dist-packages/sklearn/externals/joblib/parallel.py:268: DeprecationWarning: check_pickle is deprecated in joblib 0.12 and will be removed in 0.13\n",
            "  ' removed in 0.13', DeprecationWarning)\n"
          ],
          "name": "stderr"
        }
      ]
    },
    {
      "metadata": {
        "deletable": false,
        "editable": false,
        "nbgrader": {
          "checksum": "85a0d831b7159d48d142944acc43ad3e",
          "grade": false,
          "grade_id": "cell-be0de61adb8d2930",
          "locked": true,
          "schema_version": 1,
          "solution": false
        },
        "id": "OZ6BvGRPe-1a",
        "colab_type": "text"
      },
      "cell_type": "markdown",
      "source": [
        "Would your feature choice change if HR was going to use your model to directly hire applicants without an interview? **Which features will you select to use in that model?**"
      ]
    },
    {
      "metadata": {
        "id": "pCUIC5yPIR52",
        "colab_type": "code",
        "colab": {
          "base_uri": "https://localhost:8080/",
          "height": 377
        },
        "outputId": "9539e7df-1476-4f03-88ae-f018a59931d5"
      },
      "cell_type": "code",
      "source": [
        "scores = []\n",
        "from sklearn import metrics,preprocessing,datasets,tree\n",
        "from sklearn.metrics import accuracy_score, classification_report\n",
        "from sklearn.neighbors import KNeighborsClassifier\n",
        "\n",
        "\n",
        "clf5= KNeighborsClassifier(n_neighbors=20)\n",
        "clf5.fit(rank_x_train, rank_y_train)\n",
        "y_pred = clf5.predict(rank_x_test)\n",
        "scores = metrics.accuracy_score(rank_y_test, y_pred)\n",
        "scores = np.array(scores)\n",
        "print('mean: ',scores.max())\n",
        "print('avg: ',scores.mean())\n",
        "\n",
        "print(clf5)\n",
        "conf=confusion_matrix(rank_y_test,y_pred)\n",
        "print(confusion_matrix(rank_y_test,y_pred))\n",
        "print(classification_report(rank_y_test,y_pred))"
      ],
      "execution_count": 232,
      "outputs": [
        {
          "output_type": "stream",
          "text": [
            "('mean: ', 0.93)\n",
            "('avg: ', 0.93)\n",
            "KNeighborsClassifier(algorithm='auto', leaf_size=30, metric='minkowski',\n",
            "           metric_params=None, n_jobs=None, n_neighbors=20, p=2,\n",
            "           weights='uniform')\n",
            "[[372   0]\n",
            " [ 28   0]]\n",
            "              precision    recall  f1-score   support\n",
            "\n",
            "           0       0.93      1.00      0.96       372\n",
            "           1       0.00      0.00      0.00        28\n",
            "\n",
            "   micro avg       0.93      0.93      0.93       400\n",
            "   macro avg       0.47      0.50      0.48       400\n",
            "weighted avg       0.86      0.93      0.90       400\n",
            "\n"
          ],
          "name": "stdout"
        },
        {
          "output_type": "stream",
          "text": [
            "/usr/local/lib/python2.7/dist-packages/sklearn/externals/joblib/parallel.py:268: DeprecationWarning: check_pickle is deprecated in joblib 0.12 and will be removed in 0.13\n",
            "  ' removed in 0.13', DeprecationWarning)\n",
            "/usr/local/lib/python2.7/dist-packages/sklearn/metrics/classification.py:1143: UndefinedMetricWarning: Precision and F-score are ill-defined and being set to 0.0 in labels with no predicted samples.\n",
            "  'precision', 'predicted', average, warn_for)\n"
          ],
          "name": "stderr"
        }
      ]
    },
    {
      "metadata": {
        "deletable": false,
        "editable": false,
        "nbgrader": {
          "checksum": "06aae577c3325934b9dd2d521549d716",
          "grade": false,
          "grade_id": "cell-3aaedae380c7db79",
          "locked": true,
          "schema_version": 1,
          "solution": false
        },
        "id": "ggXKivE7e-1b",
        "colab_type": "code",
        "colab": {
          "base_uri": "https://localhost:8080/",
          "height": 714
        },
        "outputId": "c8af94f0-99bb-4322-9b18-4636020e24d4"
      },
      "cell_type": "code",
      "source": [
        "print(\"The available columns are:\")\n",
        "list(df)"
      ],
      "execution_count": 231,
      "outputs": [
        {
          "output_type": "stream",
          "text": [
            "The available columns are:\n"
          ],
          "name": "stdout"
        },
        {
          "output_type": "execute_result",
          "data": {
            "text/plain": [
              "['First Name',\n",
              " 'Last Name',\n",
              " 'Date of Birth',\n",
              " 'Address',\n",
              " 'Zipcode',\n",
              " 'English Fluency',\n",
              " 'Spanish Fluency',\n",
              " 'Education',\n",
              " 'Years of Experience',\n",
              " 'Years of Volunteering',\n",
              " 'Myers Briggs Type',\n",
              " 'Twitter followers',\n",
              " 'Instagram Followers',\n",
              " 'Requires Sponsorship',\n",
              " 'Customer Satisfaction Rating',\n",
              " 'Sales Rating',\n",
              " 'Fired',\n",
              " 'ISTJ',\n",
              " 'ISFJ',\n",
              " 'INFP',\n",
              " 'ISFP',\n",
              " 'ESTJ',\n",
              " 'ESFJ',\n",
              " 'ESTP',\n",
              " 'INTP',\n",
              " 'ISTP',\n",
              " 'ESFP',\n",
              " 'ENFP',\n",
              " 'INFJ',\n",
              " 'INTJ',\n",
              " 'ENTJ',\n",
              " 'ENFJ',\n",
              " 'ENTP',\n",
              " 'is_Black',\n",
              " 'is_Hispanic',\n",
              " 'is_Caucasian',\n",
              " 'is_Male',\n",
              " 'is_Female',\n",
              " 'is_Requires_Sponsorship',\n",
              " 'Age']"
            ]
          },
          "metadata": {
            "tags": []
          },
          "execution_count": 231
        }
      ]
    },
    {
      "metadata": {
        "id": "WMxzg-CyJEFu",
        "colab_type": "code",
        "colab": {}
      },
      "cell_type": "code",
      "source": [
        "\n",
        "targets=new_df[[ 'Customer Satisfaction Rating']]\n",
        "rank_x_train, rank_x_test, rank_y_train, rank_y_test = train_test_split(rankFeatures,targets,test_size=0.2)\n"
      ],
      "execution_count": 0,
      "outputs": []
    },
    {
      "metadata": {
        "id": "0wjCUx0_JKac",
        "colab_type": "code",
        "colab": {
          "base_uri": "https://localhost:8080/",
          "height": 34
        },
        "outputId": "d4d322e1-6b9f-4ba2-9865-778a1fb0ab63"
      },
      "cell_type": "code",
      "source": [
        "from sklearn import linear_model\n",
        "from sklearn.linear_model import LinearRegression\n",
        "regr = linear_model.LinearRegression()\n",
        "regr.fit(rank_x_train, rank_y_train)\n",
        "\n",
        "LinearRegression(copy_X=True, fit_intercept=True, n_jobs=None, normalize=False)\n",
        "\n",
        "np.mean((regr.predict(rank_x_test) - rank_y_test)**2)\n",
        "regr.score(rank_x_test, rank_y_test) \n"
      ],
      "execution_count": 236,
      "outputs": [
        {
          "output_type": "execute_result",
          "data": {
            "text/plain": [
              "0.9809033506638087"
            ]
          },
          "metadata": {
            "tags": []
          },
          "execution_count": 236
        }
      ]
    },
    {
      "metadata": {
        "id": "RIQuIAUqJM8-",
        "colab_type": "code",
        "colab": {
          "base_uri": "https://localhost:8080/",
          "height": 34
        },
        "outputId": "8f32d32f-ea7c-41e6-c675-c2a357e7e060"
      },
      "cell_type": "code",
      "source": [
        "targets=new_df[[ 'Sales Rating']]\n",
        "rank_x_train, rank_x_test, rank_y_train, rank_y_test = train_test_split(rankFeatures,targets,test_size=0.2)\n",
        "\n",
        "from sklearn import linear_model\n",
        "from sklearn.linear_model import LinearRegression\n",
        "regr = linear_model.LinearRegression()\n",
        "regr.fit(rank_x_train, rank_y_train)\n",
        "\n",
        "LinearRegression(copy_X=True, fit_intercept=True, n_jobs=None, normalize=False)\n",
        "\n",
        "np.mean((regr.predict(rank_x_test) - rank_y_test)**2)\n",
        "regr.score(rank_x_test, rank_y_test) \n",
        "\n",
        "\n"
      ],
      "execution_count": 237,
      "outputs": [
        {
          "output_type": "execute_result",
          "data": {
            "text/plain": [
              "0.9612807769704205"
            ]
          },
          "metadata": {
            "tags": []
          },
          "execution_count": 237
        }
      ]
    },
    {
      "metadata": {
        "id": "pzQHdE_ZJW8v",
        "colab_type": "text"
      },
      "cell_type": "markdown",
      "source": [
        "(1)  For the Costomer Satisfaction Rating, I trained the model using Linear Regression. The resulting mean square is 0.98\n",
        "\n",
        "(2)For the Sales Rating, I trained the model using Linear Regression. The resulting mean square is 0.96\n",
        "\n",
        "(3) For the Fired I trained the model using the K-Nearest Neighbor with a score of 0.93"
      ]
    },
    {
      "metadata": {
        "deletable": false,
        "nbgrader": {
          "checksum": "256a03be452a3ad9de29b793a22a7c28",
          "grade": false,
          "grade_id": "cell-c4bad209682c7022",
          "locked": false,
          "schema_version": 1,
          "solution": true
        },
        "id": "2ENJFnFCe-1d",
        "colab_type": "code",
        "colab": {}
      },
      "cell_type": "code",
      "source": [
        "# Enter all the features you want to use in a list and save it to selection_features\n",
        "# These are the features for the model that will directly hire the top applicants\n",
        "# YOUR CODE HERE\n",
        "selection_features = new_df[[ 'Years of Experience', 'Years of Volunteering', 'Education']]"
      ],
      "execution_count": 0,
      "outputs": []
    },
    {
      "metadata": {
        "deletable": false,
        "editable": false,
        "nbgrader": {
          "checksum": "a6b02cbd6f7418d4619aab8525689ad3",
          "grade": false,
          "grade_id": "cell-b4b87681c2bdc21a",
          "locked": true,
          "schema_version": 1,
          "solution": false
        },
        "id": "nG_BDawUe-1g",
        "colab_type": "text"
      },
      "cell_type": "markdown",
      "source": [
        "Why did you choose the features you did?"
      ]
    },
    {
      "metadata": {
        "deletable": false,
        "nbgrader": {
          "checksum": "c3a66cc8fc7852d9ab140f04b60b96fd",
          "grade": false,
          "grade_id": "cell-b95231da655a979d",
          "locked": false,
          "schema_version": 1,
          "solution": true
        },
        "id": "p2PEUGsge-1g",
        "colab_type": "code",
        "colab": {}
      },
      "cell_type": "code",
      "source": [
        "## Save your reasoning in a string to the variable selection_reason\n",
        "\n",
        "# YOUR CODE HERE\n",
        "selection_reason = 'Employees who has highest years of experience and volunteering typically has a better experience dealing with technical and emotional challanges when dealing with customer. Education is important because it defines a trained background of an employee.'"
      ],
      "execution_count": 0,
      "outputs": []
    },
    {
      "metadata": {
        "deletable": false,
        "editable": false,
        "nbgrader": {
          "checksum": "0d876a0c394a9cab4f2e9432bf738b7f",
          "grade": true,
          "grade_id": "cell-34d2462a6b2f374c",
          "locked": true,
          "points": 20,
          "schema_version": 1,
          "solution": false
        },
        "id": "UVdBaoWve-1i",
        "colab_type": "code",
        "colab": {}
      },
      "cell_type": "code",
      "source": [
        "assert isinstance(selection_reason, str)\n",
        "assert len(selection_reason) > 20"
      ],
      "execution_count": 0,
      "outputs": []
    },
    {
      "metadata": {
        "deletable": false,
        "editable": false,
        "nbgrader": {
          "checksum": "6e3af11ace509f21b1938998872c97b6",
          "grade": false,
          "grade_id": "cell-5d3c9cf0fe1dac76",
          "locked": true,
          "schema_version": 1,
          "solution": false
        },
        "id": "Xjg_YpRfe-1j",
        "colab_type": "text"
      },
      "cell_type": "markdown",
      "source": [
        "Why was your choice different from or the same as the ranking features?\n"
      ]
    },
    {
      "metadata": {
        "deletable": false,
        "nbgrader": {
          "checksum": "9c5c99cff4106a3bfd1ace73635e114c",
          "grade": false,
          "grade_id": "cell-4479d690eeb487ad",
          "locked": false,
          "schema_version": 1,
          "solution": true
        },
        "id": "SI6BWYc8e-1l",
        "colab_type": "code",
        "colab": {}
      },
      "cell_type": "code",
      "source": [
        "# Save your reasoning in a string to the variable\n",
        "# same_reason if the features are the same\n",
        "# different_reason if the features are different\n",
        "# YOUR CODE HERE\n",
        "different_reason = \"I removed gender because I believe a person's gender does not determine their success in a field.\""
      ],
      "execution_count": 0,
      "outputs": []
    },
    {
      "metadata": {
        "deletable": false,
        "editable": false,
        "nbgrader": {
          "checksum": "ca728e671caaab8c76201f0e6a5811d6",
          "grade": true,
          "grade_id": "cell-f875ee0056d6eb98",
          "locked": true,
          "points": 20,
          "schema_version": 1,
          "solution": false
        },
        "id": "R-qU-pNJe-1m",
        "colab_type": "code",
        "colab": {
          "base_uri": "https://localhost:8080/",
          "height": 34
        },
        "outputId": "7b0ee682-3b4c-45d7-c7af-b04870a1cc07"
      },
      "cell_type": "code",
      "source": [
        "if all([rf in selection_features for rf in rank_features]) and all([sf in rank_features for sf in selection_features]):\n",
        "    print(\"Your features for ranking and selection are the same.\")\n",
        "    assert isinstance(same_reason, str)\n",
        "    assert len(same_reason) > 20\n",
        "else:\n",
        "    print(\"Your features for ranking and selection are different.\")\n",
        "    assert isinstance(different_reason, str)\n",
        "    assert len(different_reason) > 20"
      ],
      "execution_count": 248,
      "outputs": [
        {
          "output_type": "stream",
          "text": [
            "Your features for ranking and selection are different.\n"
          ],
          "name": "stdout"
        }
      ]
    },
    {
      "metadata": {
        "deletable": false,
        "nbgrader": {
          "checksum": "7cee30863e806b81ba8cdc6408e2ab11",
          "grade": false,
          "grade_id": "cell-fe98928b7423b02b",
          "locked": false,
          "schema_version": 1,
          "solution": true
        },
        "id": "VRxzQjzJe-1o",
        "colab_type": "code",
        "colab": {
          "base_uri": "https://localhost:8080/",
          "height": 34
        },
        "outputId": "95ae7420-dd50-43aa-ea38-c307a66bdf4c"
      },
      "cell_type": "code",
      "source": [
        "# Perform a train and test split on the data with the variable names:\n",
        "# selection_x_train for the training features\n",
        "# selection_x_test for the testing features\n",
        "# selection_y_train for the training targets\n",
        "# selection_y_test for the testing targets\n",
        "# The test dataset should be 20% of the total dataset\n",
        "\n",
        "# YOUR CODE HERE\n",
        "targets=new_df[['Sales Rating']]\n",
        "selection_x_train, selection_x_test, selection_y_train, selection_y_test = train_test_split(selection_features,targets,test_size=0.2)\n",
        "from sklearn import linear_model\n",
        "from sklearn.linear_model import LinearRegression\n",
        "regr = linear_model.LinearRegression()\n",
        "regr.fit(selection_x_train, selection_y_train)\n",
        "LinearRegression(copy_X=True, fit_intercept=True, n_jobs=None, normalize=False)\n",
        "np.mean((regr.predict(selection_x_test) - selection_y_test)**2)\n",
        "regr.score(selection_x_test, selection_y_test) \n"
      ],
      "execution_count": 251,
      "outputs": [
        {
          "output_type": "stream",
          "text": [
            "0.967774323141\n"
          ],
          "name": "stdout"
        }
      ]
    },
    {
      "metadata": {
        "deletable": false,
        "editable": false,
        "nbgrader": {
          "checksum": "2744e59c5f90eed2d6cadcacaa17c275",
          "grade": true,
          "grade_id": "cell-be29120b1249cd74",
          "locked": true,
          "points": 10,
          "schema_version": 1,
          "solution": false
        },
        "id": "QeUp3EBVe-1s",
        "colab_type": "code",
        "colab": {}
      },
      "cell_type": "code",
      "source": [
        "assert (len(selection_x_train) / (len(selection_x_test) + len(selection_x_train))) == 0.8\n",
        "assert (len(selection_y_train) / (len(selection_y_test) + len(selection_y_train))) == 0.8\n",
        "assert len(selection_x_train) == len(selection_y_train)\n",
        "assert len(selection_x_test) == len(selection_y_test)"
      ],
      "execution_count": 0,
      "outputs": []
    },
    {
      "metadata": {
        "deletable": false,
        "editable": false,
        "nbgrader": {
          "checksum": "64d98f4aead8beecad6d5fea0ec538e9",
          "grade": false,
          "grade_id": "cell-3ae20ccdd5d080b7",
          "locked": true,
          "schema_version": 1,
          "solution": false
        },
        "id": "vd6n6t3Ye-1x",
        "colab_type": "text"
      },
      "cell_type": "markdown",
      "source": [
        "Now let's see if the model performs differently."
      ]
    },
    {
      "metadata": {
        "deletable": false,
        "nbgrader": {
          "checksum": "26db92419fa8391e2fc320e109fa44d9",
          "grade": true,
          "grade_id": "cell-43f1427eb940e017",
          "locked": false,
          "points": 30,
          "schema_version": 1,
          "solution": true
        },
        "id": "OdqkUgtie-1x",
        "colab_type": "code",
        "colab": {
          "base_uri": "https://localhost:8080/",
          "height": 34
        },
        "outputId": "4b56886c-480a-47b0-fdc1-fa9f78f38115"
      },
      "cell_type": "code",
      "source": [
        "# Select models of your choosing, import them and perform a parameter search to train them on each of the targets\n",
        "# Determine an appropriate metric for measuring your performance and report that.\n",
        "\n",
        "# YOUR CODE HERE\n",
        "targets=new_df[[ 'Customer Satisfaction Rating']]\n",
        "selection_x_train, selection_x_test, selection_y_train, selection_y_test = train_test_split(selection_features,targets,test_size=0.2)\n",
        "from sklearn import linear_model\n",
        "from sklearn.linear_model import LinearRegression\n",
        "regr = linear_model.LinearRegression()\n",
        "regr.fit(selection_x_train, selection_y_train)\n",
        "LinearRegression(copy_X=True, fit_intercept=True, n_jobs=None, normalize=False)\n",
        "np.mean((regr.predict(selection_x_test) - selection_y_test)**2)\n",
        "regr.score(selection_x_test, selection_y_test) \n"
      ],
      "execution_count": 254,
      "outputs": [
        {
          "output_type": "stream",
          "text": [
            "0.944157445537\n"
          ],
          "name": "stdout"
        }
      ]
    },
    {
      "metadata": {
        "id": "dlvuNp3bMY9C",
        "colab_type": "code",
        "colab": {
          "base_uri": "https://localhost:8080/",
          "height": 1924
        },
        "outputId": "50cbe2d1-1324-4c71-c282-f2adcecb8e94"
      },
      "cell_type": "code",
      "source": [
        "targets=new_df[[ 'Fired']]\n",
        "\n",
        "selection_x_train, selection_x_test, selection_y_train, selection_y_test = train_test_split(rankFeatures,targets,test_size=0.2)\n",
        "\n",
        "lab_enc = preprocessing.LabelEncoder()\n",
        "selection_y_train = lab_enc.fit_transform(selection_y_train)\n",
        "\n",
        "selection_y_test = lab_enc.fit_transform(selection_y_test)\n",
        "training_scores = get_knn_training_scores(ks, selection_x_train, selection_y_train)\n",
        "validation_scores = get_knn_validation_scores(ks, selection_x_train, selection_y_train, selection_x_test, selection_y_test)\n",
        "\n",
        "\n",
        "scores = []\n",
        "from sklearn import metrics,preprocessing,datasets,tree\n",
        "from sklearn.metrics import accuracy_score, classification_report\n",
        "from sklearn.neighbors import KNeighborsClassifier\n",
        "\n",
        "\n",
        "clf6= KNeighborsClassifier(n_neighbors=10)\n",
        "clf6.fit(selection_x_train, selection_y_train)\n",
        "y_pred = clf6.predict(selection_x_test)\n",
        "scores = metrics.accuracy_score(selection_y_test, y_pred)\n",
        "scores = np.array(scores)\n",
        "print('mean: ',scores.max())\n",
        "print('avg: ',scores.mean())\n",
        "conf=confusion_matrix(selection_y_test,y_pred)\n",
        "print(confusion_matrix(selection_y_test,y_pred))\n",
        "print(classification_report(selection_y_test,y_pred))"
      ],
      "execution_count": 257,
      "outputs": [
        {
          "output_type": "stream",
          "text": [
            "/usr/local/lib/python2.7/dist-packages/sklearn/externals/joblib/parallel.py:268: DeprecationWarning: check_pickle is deprecated in joblib 0.12 and will be removed in 0.13\n",
            "  ' removed in 0.13', DeprecationWarning)\n",
            "/usr/local/lib/python2.7/dist-packages/sklearn/externals/joblib/parallel.py:268: DeprecationWarning: check_pickle is deprecated in joblib 0.12 and will be removed in 0.13\n",
            "  ' removed in 0.13', DeprecationWarning)\n",
            "/usr/local/lib/python2.7/dist-packages/sklearn/externals/joblib/parallel.py:268: DeprecationWarning: check_pickle is deprecated in joblib 0.12 and will be removed in 0.13\n",
            "  ' removed in 0.13', DeprecationWarning)\n",
            "/usr/local/lib/python2.7/dist-packages/sklearn/externals/joblib/parallel.py:268: DeprecationWarning: check_pickle is deprecated in joblib 0.12 and will be removed in 0.13\n",
            "  ' removed in 0.13', DeprecationWarning)\n",
            "/usr/local/lib/python2.7/dist-packages/sklearn/externals/joblib/parallel.py:268: DeprecationWarning: check_pickle is deprecated in joblib 0.12 and will be removed in 0.13\n",
            "  ' removed in 0.13', DeprecationWarning)\n",
            "/usr/local/lib/python2.7/dist-packages/sklearn/externals/joblib/parallel.py:268: DeprecationWarning: check_pickle is deprecated in joblib 0.12 and will be removed in 0.13\n",
            "  ' removed in 0.13', DeprecationWarning)\n",
            "/usr/local/lib/python2.7/dist-packages/sklearn/externals/joblib/parallel.py:268: DeprecationWarning: check_pickle is deprecated in joblib 0.12 and will be removed in 0.13\n",
            "  ' removed in 0.13', DeprecationWarning)\n",
            "/usr/local/lib/python2.7/dist-packages/sklearn/externals/joblib/parallel.py:268: DeprecationWarning: check_pickle is deprecated in joblib 0.12 and will be removed in 0.13\n",
            "  ' removed in 0.13', DeprecationWarning)\n",
            "/usr/local/lib/python2.7/dist-packages/sklearn/externals/joblib/parallel.py:268: DeprecationWarning: check_pickle is deprecated in joblib 0.12 and will be removed in 0.13\n",
            "  ' removed in 0.13', DeprecationWarning)\n",
            "/usr/local/lib/python2.7/dist-packages/sklearn/externals/joblib/parallel.py:268: DeprecationWarning: check_pickle is deprecated in joblib 0.12 and will be removed in 0.13\n",
            "  ' removed in 0.13', DeprecationWarning)\n",
            "/usr/local/lib/python2.7/dist-packages/sklearn/externals/joblib/parallel.py:268: DeprecationWarning: check_pickle is deprecated in joblib 0.12 and will be removed in 0.13\n",
            "  ' removed in 0.13', DeprecationWarning)\n",
            "/usr/local/lib/python2.7/dist-packages/sklearn/externals/joblib/parallel.py:268: DeprecationWarning: check_pickle is deprecated in joblib 0.12 and will be removed in 0.13\n",
            "  ' removed in 0.13', DeprecationWarning)\n",
            "/usr/local/lib/python2.7/dist-packages/sklearn/externals/joblib/parallel.py:268: DeprecationWarning: check_pickle is deprecated in joblib 0.12 and will be removed in 0.13\n",
            "  ' removed in 0.13', DeprecationWarning)\n",
            "/usr/local/lib/python2.7/dist-packages/sklearn/externals/joblib/parallel.py:268: DeprecationWarning: check_pickle is deprecated in joblib 0.12 and will be removed in 0.13\n",
            "  ' removed in 0.13', DeprecationWarning)\n",
            "/usr/local/lib/python2.7/dist-packages/sklearn/externals/joblib/parallel.py:268: DeprecationWarning: check_pickle is deprecated in joblib 0.12 and will be removed in 0.13\n",
            "  ' removed in 0.13', DeprecationWarning)\n",
            "/usr/local/lib/python2.7/dist-packages/sklearn/externals/joblib/parallel.py:268: DeprecationWarning: check_pickle is deprecated in joblib 0.12 and will be removed in 0.13\n",
            "  ' removed in 0.13', DeprecationWarning)\n",
            "/usr/local/lib/python2.7/dist-packages/sklearn/externals/joblib/parallel.py:268: DeprecationWarning: check_pickle is deprecated in joblib 0.12 and will be removed in 0.13\n",
            "  ' removed in 0.13', DeprecationWarning)\n",
            "/usr/local/lib/python2.7/dist-packages/sklearn/externals/joblib/parallel.py:268: DeprecationWarning: check_pickle is deprecated in joblib 0.12 and will be removed in 0.13\n",
            "  ' removed in 0.13', DeprecationWarning)\n",
            "/usr/local/lib/python2.7/dist-packages/sklearn/externals/joblib/parallel.py:268: DeprecationWarning: check_pickle is deprecated in joblib 0.12 and will be removed in 0.13\n",
            "  ' removed in 0.13', DeprecationWarning)\n",
            "/usr/local/lib/python2.7/dist-packages/sklearn/externals/joblib/parallel.py:268: DeprecationWarning: check_pickle is deprecated in joblib 0.12 and will be removed in 0.13\n",
            "  ' removed in 0.13', DeprecationWarning)\n",
            "/usr/local/lib/python2.7/dist-packages/sklearn/externals/joblib/parallel.py:268: DeprecationWarning: check_pickle is deprecated in joblib 0.12 and will be removed in 0.13\n",
            "  ' removed in 0.13', DeprecationWarning)\n",
            "/usr/local/lib/python2.7/dist-packages/sklearn/externals/joblib/parallel.py:268: DeprecationWarning: check_pickle is deprecated in joblib 0.12 and will be removed in 0.13\n",
            "  ' removed in 0.13', DeprecationWarning)\n",
            "/usr/local/lib/python2.7/dist-packages/sklearn/externals/joblib/parallel.py:268: DeprecationWarning: check_pickle is deprecated in joblib 0.12 and will be removed in 0.13\n",
            "  ' removed in 0.13', DeprecationWarning)\n",
            "/usr/local/lib/python2.7/dist-packages/sklearn/externals/joblib/parallel.py:268: DeprecationWarning: check_pickle is deprecated in joblib 0.12 and will be removed in 0.13\n",
            "  ' removed in 0.13', DeprecationWarning)\n",
            "/usr/local/lib/python2.7/dist-packages/sklearn/externals/joblib/parallel.py:268: DeprecationWarning: check_pickle is deprecated in joblib 0.12 and will be removed in 0.13\n",
            "  ' removed in 0.13', DeprecationWarning)\n",
            "/usr/local/lib/python2.7/dist-packages/sklearn/externals/joblib/parallel.py:268: DeprecationWarning: check_pickle is deprecated in joblib 0.12 and will be removed in 0.13\n",
            "  ' removed in 0.13', DeprecationWarning)\n",
            "/usr/local/lib/python2.7/dist-packages/sklearn/externals/joblib/parallel.py:268: DeprecationWarning: check_pickle is deprecated in joblib 0.12 and will be removed in 0.13\n",
            "  ' removed in 0.13', DeprecationWarning)\n",
            "/usr/local/lib/python2.7/dist-packages/sklearn/externals/joblib/parallel.py:268: DeprecationWarning: check_pickle is deprecated in joblib 0.12 and will be removed in 0.13\n",
            "  ' removed in 0.13', DeprecationWarning)\n",
            "/usr/local/lib/python2.7/dist-packages/sklearn/externals/joblib/parallel.py:268: DeprecationWarning: check_pickle is deprecated in joblib 0.12 and will be removed in 0.13\n",
            "  ' removed in 0.13', DeprecationWarning)\n",
            "/usr/local/lib/python2.7/dist-packages/sklearn/externals/joblib/parallel.py:268: DeprecationWarning: check_pickle is deprecated in joblib 0.12 and will be removed in 0.13\n",
            "  ' removed in 0.13', DeprecationWarning)\n",
            "/usr/local/lib/python2.7/dist-packages/sklearn/externals/joblib/parallel.py:268: DeprecationWarning: check_pickle is deprecated in joblib 0.12 and will be removed in 0.13\n",
            "  ' removed in 0.13', DeprecationWarning)\n",
            "/usr/local/lib/python2.7/dist-packages/sklearn/externals/joblib/parallel.py:268: DeprecationWarning: check_pickle is deprecated in joblib 0.12 and will be removed in 0.13\n",
            "  ' removed in 0.13', DeprecationWarning)\n",
            "/usr/local/lib/python2.7/dist-packages/sklearn/externals/joblib/parallel.py:268: DeprecationWarning: check_pickle is deprecated in joblib 0.12 and will be removed in 0.13\n",
            "  ' removed in 0.13', DeprecationWarning)\n",
            "/usr/local/lib/python2.7/dist-packages/sklearn/externals/joblib/parallel.py:268: DeprecationWarning: check_pickle is deprecated in joblib 0.12 and will be removed in 0.13\n",
            "  ' removed in 0.13', DeprecationWarning)\n",
            "/usr/local/lib/python2.7/dist-packages/sklearn/externals/joblib/parallel.py:268: DeprecationWarning: check_pickle is deprecated in joblib 0.12 and will be removed in 0.13\n",
            "  ' removed in 0.13', DeprecationWarning)\n",
            "/usr/local/lib/python2.7/dist-packages/sklearn/externals/joblib/parallel.py:268: DeprecationWarning: check_pickle is deprecated in joblib 0.12 and will be removed in 0.13\n",
            "  ' removed in 0.13', DeprecationWarning)\n",
            "/usr/local/lib/python2.7/dist-packages/sklearn/externals/joblib/parallel.py:268: DeprecationWarning: check_pickle is deprecated in joblib 0.12 and will be removed in 0.13\n",
            "  ' removed in 0.13', DeprecationWarning)\n",
            "/usr/local/lib/python2.7/dist-packages/sklearn/externals/joblib/parallel.py:268: DeprecationWarning: check_pickle is deprecated in joblib 0.12 and will be removed in 0.13\n",
            "  ' removed in 0.13', DeprecationWarning)\n",
            "/usr/local/lib/python2.7/dist-packages/sklearn/externals/joblib/parallel.py:268: DeprecationWarning: check_pickle is deprecated in joblib 0.12 and will be removed in 0.13\n",
            "  ' removed in 0.13', DeprecationWarning)\n",
            "/usr/local/lib/python2.7/dist-packages/sklearn/externals/joblib/parallel.py:268: DeprecationWarning: check_pickle is deprecated in joblib 0.12 and will be removed in 0.13\n",
            "  ' removed in 0.13', DeprecationWarning)\n",
            "/usr/local/lib/python2.7/dist-packages/sklearn/externals/joblib/parallel.py:268: DeprecationWarning: check_pickle is deprecated in joblib 0.12 and will be removed in 0.13\n",
            "  ' removed in 0.13', DeprecationWarning)\n",
            "/usr/local/lib/python2.7/dist-packages/sklearn/externals/joblib/parallel.py:268: DeprecationWarning: check_pickle is deprecated in joblib 0.12 and will be removed in 0.13\n",
            "  ' removed in 0.13', DeprecationWarning)\n",
            "/usr/local/lib/python2.7/dist-packages/sklearn/externals/joblib/parallel.py:268: DeprecationWarning: check_pickle is deprecated in joblib 0.12 and will be removed in 0.13\n",
            "  ' removed in 0.13', DeprecationWarning)\n",
            "/usr/local/lib/python2.7/dist-packages/sklearn/externals/joblib/parallel.py:268: DeprecationWarning: check_pickle is deprecated in joblib 0.12 and will be removed in 0.13\n",
            "  ' removed in 0.13', DeprecationWarning)\n",
            "/usr/local/lib/python2.7/dist-packages/sklearn/externals/joblib/parallel.py:268: DeprecationWarning: check_pickle is deprecated in joblib 0.12 and will be removed in 0.13\n",
            "  ' removed in 0.13', DeprecationWarning)\n",
            "/usr/local/lib/python2.7/dist-packages/sklearn/externals/joblib/parallel.py:268: DeprecationWarning: check_pickle is deprecated in joblib 0.12 and will be removed in 0.13\n",
            "  ' removed in 0.13', DeprecationWarning)\n",
            "/usr/local/lib/python2.7/dist-packages/sklearn/externals/joblib/parallel.py:268: DeprecationWarning: check_pickle is deprecated in joblib 0.12 and will be removed in 0.13\n",
            "  ' removed in 0.13', DeprecationWarning)\n",
            "/usr/local/lib/python2.7/dist-packages/sklearn/externals/joblib/parallel.py:268: DeprecationWarning: check_pickle is deprecated in joblib 0.12 and will be removed in 0.13\n",
            "  ' removed in 0.13', DeprecationWarning)\n"
          ],
          "name": "stderr"
        },
        {
          "output_type": "stream",
          "text": [
            "('mean: ', 0.9275)\n",
            "('avg: ', 0.9275)\n",
            "[[371   0]\n",
            " [ 29   0]]\n",
            "              precision    recall  f1-score   support\n",
            "\n",
            "           0       0.93      1.00      0.96       371\n",
            "           1       0.00      0.00      0.00        29\n",
            "\n",
            "   micro avg       0.93      0.93      0.93       400\n",
            "   macro avg       0.46      0.50      0.48       400\n",
            "weighted avg       0.86      0.93      0.89       400\n",
            "\n"
          ],
          "name": "stdout"
        },
        {
          "output_type": "stream",
          "text": [
            "/usr/local/lib/python2.7/dist-packages/sklearn/externals/joblib/parallel.py:268: DeprecationWarning: check_pickle is deprecated in joblib 0.12 and will be removed in 0.13\n",
            "  ' removed in 0.13', DeprecationWarning)\n"
          ],
          "name": "stderr"
        }
      ]
    },
    {
      "metadata": {
        "deletable": false,
        "nbgrader": {
          "checksum": "c3ebd1bd1152d40a72177a5b9ff15be2",
          "grade": true,
          "grade_id": "cell-5df6d98d3b874670",
          "locked": false,
          "points": 20,
          "schema_version": 1,
          "solution": true
        },
        "id": "g64TcGvHe-12",
        "colab_type": "code",
        "colab": {}
      },
      "cell_type": "code",
      "source": [
        "# Follow this up with a comparison between the performance on your 2 models using the different features.\n",
        "# You should print something like\n",
        "# Using rank features for target (target) the model scored (score)\n",
        "# versus using the selection features where it scored (score)\n",
        "# YOUR CODE HERE\n",
        "\n"
      ],
      "execution_count": 0,
      "outputs": []
    },
    {
      "metadata": {
        "id": "mTmafkf3Mysu",
        "colab_type": "text"
      },
      "cell_type": "markdown",
      "source": [
        "(1)  For the Costomer Satisfaction Rating, I trained the model using Linear Regression. The resulting mean square is 0.944\n",
        "​\n",
        "(2)For the Sales Rating, I trained the model using Linear Regression. The resulting mean square is 0.9677\n",
        "​\n",
        "(3) For the Fired I trained the model using the K-Nearest Neighbor with a score of 0.9275"
      ]
    },
    {
      "metadata": {
        "deletable": false,
        "editable": false,
        "nbgrader": {
          "checksum": "03dcba3c87298cd428ec01f9a0075d6c",
          "grade": false,
          "grade_id": "cell-4a3caccc18c17350",
          "locked": true,
          "schema_version": 1,
          "solution": false
        },
        "id": "budjYJJme-15",
        "colab_type": "text"
      },
      "cell_type": "markdown",
      "source": [
        "## Feedback"
      ]
    },
    {
      "metadata": {
        "deletable": false,
        "nbgrader": {
          "checksum": "687d8bbd0750d67bdc439a0a539f4563",
          "grade": false,
          "grade_id": "cell-259e62fb9f936804",
          "locked": false,
          "schema_version": 1,
          "solution": true
        },
        "id": "w9WFFJO9e-16",
        "colab_type": "code",
        "cellView": "both",
        "colab": {
          "base_uri": "https://localhost:8080/",
          "height": 34
        },
        "outputId": "15cc34d6-c57d-4b65-8f7c-c7570e980b46"
      },
      "cell_type": "code",
      "source": [
        "#@title\n",
        "def feedback():\n",
        "    \"\"\"Provide feedback on the contents of this exercise\n",
        "    \n",
        "    Returns:\n",
        "        string\n",
        "    \"\"\"\n",
        "    # YOUR CODE HERE\n",
        "print('This assignment is too long to do for just 1 week right before finals...')"
      ],
      "execution_count": 259,
      "outputs": [
        {
          "output_type": "stream",
          "text": [
            "This assignment is too long to do for just 1 week right before finals...\n"
          ],
          "name": "stdout"
        }
      ]
    },
    {
      "metadata": {
        "deletable": false,
        "editable": false,
        "nbgrader": {
          "checksum": "a981d530666ab499761c90062b408a01",
          "grade": true,
          "grade_id": "cell-865e5f961cfd020f",
          "locked": true,
          "points": 0,
          "schema_version": 1,
          "solution": false
        },
        "id": "0IX68AIWe-19",
        "colab_type": "code",
        "cellView": "both",
        "colab": {}
      },
      "cell_type": "code",
      "source": [
        "#@title\n"
      ],
      "execution_count": 0,
      "outputs": []
    }
  ]
}