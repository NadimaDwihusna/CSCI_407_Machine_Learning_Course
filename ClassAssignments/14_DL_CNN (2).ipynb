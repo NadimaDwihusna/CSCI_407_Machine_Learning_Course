{
 "cells": [
  {
   "cell_type": "markdown",
   "metadata": {
    "colab_type": "text",
    "deletable": false,
    "editable": false,
    "id": "VJwJk5uMQ4S2",
    "nbgrader": {
     "checksum": "b16d32b8bae42191cef76e7dff6ba7a1",
     "grade": false,
     "grade_id": "cell-8624ebbfca3f9d05",
     "locked": true,
     "schema_version": 1,
     "solution": false
    }
   },
   "source": [
    "# Deep Learning - Convolutional Neural Networks"
   ]
  },
  {
   "cell_type": "code",
   "execution_count": 1,
   "metadata": {
    "colab": {
     "base_uri": "https://localhost:8080/",
     "height": 34
    },
    "colab_type": "code",
    "deletable": false,
    "editable": false,
    "id": "pUAkOOU6Q4S4",
    "nbgrader": {
     "checksum": "9a8f88d64e10e5afea8b17b81ce3272b",
     "grade": false,
     "grade_id": "cell-69b5ab127f73f4ab",
     "locked": true,
     "schema_version": 1,
     "solution": false
    },
    "outputId": "d88355d5-a600-4b12-a357-02294f3d72ed"
   },
   "outputs": [
    {
     "name": "stderr",
     "output_type": "stream",
     "text": [
      "Using TensorFlow backend.\n"
     ]
    }
   ],
   "source": [
    "import tensorflow as tf\n",
    "from tensorflow import keras\n",
    "from keras.datasets import cifar10, mnist\n",
    "from keras import Sequential\n",
    "from keras.layers import Dense, Dropout, Flatten, Conv2D, MaxPool2D\n",
    "import numpy as np\n",
    "import scipy\n",
    "import matplotlib\n",
    "import matplotlib.pyplot as plt\n",
    "\n",
    "np.random.seed(0)"
   ]
  },
  {
   "cell_type": "code",
   "execution_count": 2,
   "metadata": {
    "colab": {
     "base_uri": "https://localhost:8080/",
     "height": 84
    },
    "colab_type": "code",
    "deletable": false,
    "editable": false,
    "id": "UPlCngTVQ4S7",
    "nbgrader": {
     "checksum": "57091f3933e9e09c47d7e7963bc556f8",
     "grade": false,
     "grade_id": "cell-2f12505f86743d95",
     "locked": true,
     "schema_version": 1,
     "solution": false
    },
    "outputId": "b0aa7f48-909e-4ba1-fd2a-ba5d2ceed531"
   },
   "outputs": [
    {
     "name": "stdout",
     "output_type": "stream",
     "text": [
      "Downloading data from https://s3.amazonaws.com/img-datasets/mnist.npz\n",
      "11493376/11490434 [==============================] - 0s 0us/step\n",
      "CPU times: user 342 ms, sys: 97.3 ms, total: 439 ms\n",
      "Wall time: 622 ms\n"
     ]
    }
   ],
   "source": [
    "%%time\n",
    "(x_train, y_train), (x_test, y_test) = mnist.load_data()"
   ]
  },
  {
   "cell_type": "code",
   "execution_count": 3,
   "metadata": {
    "colab": {
     "base_uri": "https://localhost:8080/",
     "height": 54
    },
    "colab_type": "code",
    "deletable": false,
    "editable": false,
    "id": "94X2rdYHQ4S-",
    "nbgrader": {
     "checksum": "b230debc4340c914b5da05c93aa47979",
     "grade": false,
     "grade_id": "cell-43ee2cdae7268658",
     "locked": true,
     "schema_version": 1,
     "solution": false
    },
    "outputId": "73c142c9-7877-443c-cd7d-64031264f327"
   },
   "outputs": [
    {
     "name": "stdout",
     "output_type": "stream",
     "text": [
      "The mnist data was loaded with 60000 training samples and 10000 testing samples. Each sample is a 28 x 28 pixel image.\n"
     ]
    }
   ],
   "source": [
    "s1 = x_train.shape\n",
    "s2 = x_test.shape\n",
    "print(f\"The mnist data was loaded with {s1[0]} training samples and {s2[0]} testing samples. Each sample is a {s1[1]} x {s1[2]} pixel image.\")\n"
   ]
  },
  {
   "cell_type": "code",
   "execution_count": 4,
   "metadata": {
    "colab": {
     "base_uri": "https://localhost:8080/",
     "height": 1428
    },
    "colab_type": "code",
    "deletable": false,
    "editable": false,
    "id": "k0sbdEaOQ4TB",
    "nbgrader": {
     "checksum": "eeab6d80e9f2a8ff6cb9c4d1f44897cc",
     "grade": false,
     "grade_id": "cell-5c9c291b795e1704",
     "locked": true,
     "schema_version": 1,
     "solution": false
    },
    "outputId": "be647a23-e452-4a04-b022-5b9e3a627960"
   },
   "outputs": [
    {
     "data": {
      "text/plain": [
       "array([[  0,   0,   0,   0,   0,   0,   0,   0,   0,   0,   0,   0,   0,\n",
       "          0,   0,   0,   0,   0,   0,   0,   0,   0,   0,   0,   0,   0,\n",
       "          0,   0],\n",
       "       [  0,   0,   0,   0,   0,   0,   0,   0,   0,   0,   0,   0,   0,\n",
       "          0,   0,   0,   0,   0,   0,   0,   0,   0,   0,   0,   0,   0,\n",
       "          0,   0],\n",
       "       [  0,   0,   0,   0,   0,   0,   0,   0,   0,   0,   0,   0,   0,\n",
       "          0,   0,   0,   0,   0,   0,   0,   0,   0,   0,   0,   0,   0,\n",
       "          0,   0],\n",
       "       [  0,   0,   0,   0,   0,   0,   0,   0,   0,   0,   0,   0,   0,\n",
       "          0,   0,   0,   0,   0,   0,   0,   0,   0,   0,   0,   0,   0,\n",
       "          0,   0],\n",
       "       [  0,   0,   0,   0,   0,   0,   0,   0,   0,   0,   0,   0,   0,\n",
       "          0,   0,   0,   0,   0,   0,   0,   0,   0,   0,   0,   0,   0,\n",
       "          0,   0],\n",
       "       [  0,   0,   0,   0,   0,   0,   0,   0,   0,   0,   0,   0,   3,\n",
       "         18,  18,  18, 126, 136, 175,  26, 166, 255, 247, 127,   0,   0,\n",
       "          0,   0],\n",
       "       [  0,   0,   0,   0,   0,   0,   0,   0,  30,  36,  94, 154, 170,\n",
       "        253, 253, 253, 253, 253, 225, 172, 253, 242, 195,  64,   0,   0,\n",
       "          0,   0],\n",
       "       [  0,   0,   0,   0,   0,   0,   0,  49, 238, 253, 253, 253, 253,\n",
       "        253, 253, 253, 253, 251,  93,  82,  82,  56,  39,   0,   0,   0,\n",
       "          0,   0],\n",
       "       [  0,   0,   0,   0,   0,   0,   0,  18, 219, 253, 253, 253, 253,\n",
       "        253, 198, 182, 247, 241,   0,   0,   0,   0,   0,   0,   0,   0,\n",
       "          0,   0],\n",
       "       [  0,   0,   0,   0,   0,   0,   0,   0,  80, 156, 107, 253, 253,\n",
       "        205,  11,   0,  43, 154,   0,   0,   0,   0,   0,   0,   0,   0,\n",
       "          0,   0],\n",
       "       [  0,   0,   0,   0,   0,   0,   0,   0,   0,  14,   1, 154, 253,\n",
       "         90,   0,   0,   0,   0,   0,   0,   0,   0,   0,   0,   0,   0,\n",
       "          0,   0],\n",
       "       [  0,   0,   0,   0,   0,   0,   0,   0,   0,   0,   0, 139, 253,\n",
       "        190,   2,   0,   0,   0,   0,   0,   0,   0,   0,   0,   0,   0,\n",
       "          0,   0],\n",
       "       [  0,   0,   0,   0,   0,   0,   0,   0,   0,   0,   0,  11, 190,\n",
       "        253,  70,   0,   0,   0,   0,   0,   0,   0,   0,   0,   0,   0,\n",
       "          0,   0],\n",
       "       [  0,   0,   0,   0,   0,   0,   0,   0,   0,   0,   0,   0,  35,\n",
       "        241, 225, 160, 108,   1,   0,   0,   0,   0,   0,   0,   0,   0,\n",
       "          0,   0],\n",
       "       [  0,   0,   0,   0,   0,   0,   0,   0,   0,   0,   0,   0,   0,\n",
       "         81, 240, 253, 253, 119,  25,   0,   0,   0,   0,   0,   0,   0,\n",
       "          0,   0],\n",
       "       [  0,   0,   0,   0,   0,   0,   0,   0,   0,   0,   0,   0,   0,\n",
       "          0,  45, 186, 253, 253, 150,  27,   0,   0,   0,   0,   0,   0,\n",
       "          0,   0],\n",
       "       [  0,   0,   0,   0,   0,   0,   0,   0,   0,   0,   0,   0,   0,\n",
       "          0,   0,  16,  93, 252, 253, 187,   0,   0,   0,   0,   0,   0,\n",
       "          0,   0],\n",
       "       [  0,   0,   0,   0,   0,   0,   0,   0,   0,   0,   0,   0,   0,\n",
       "          0,   0,   0,   0, 249, 253, 249,  64,   0,   0,   0,   0,   0,\n",
       "          0,   0],\n",
       "       [  0,   0,   0,   0,   0,   0,   0,   0,   0,   0,   0,   0,   0,\n",
       "          0,  46, 130, 183, 253, 253, 207,   2,   0,   0,   0,   0,   0,\n",
       "          0,   0],\n",
       "       [  0,   0,   0,   0,   0,   0,   0,   0,   0,   0,   0,   0,  39,\n",
       "        148, 229, 253, 253, 253, 250, 182,   0,   0,   0,   0,   0,   0,\n",
       "          0,   0],\n",
       "       [  0,   0,   0,   0,   0,   0,   0,   0,   0,   0,  24, 114, 221,\n",
       "        253, 253, 253, 253, 201,  78,   0,   0,   0,   0,   0,   0,   0,\n",
       "          0,   0],\n",
       "       [  0,   0,   0,   0,   0,   0,   0,   0,  23,  66, 213, 253, 253,\n",
       "        253, 253, 198,  81,   2,   0,   0,   0,   0,   0,   0,   0,   0,\n",
       "          0,   0],\n",
       "       [  0,   0,   0,   0,   0,   0,  18, 171, 219, 253, 253, 253, 253,\n",
       "        195,  80,   9,   0,   0,   0,   0,   0,   0,   0,   0,   0,   0,\n",
       "          0,   0],\n",
       "       [  0,   0,   0,   0,  55, 172, 226, 253, 253, 253, 253, 244, 133,\n",
       "         11,   0,   0,   0,   0,   0,   0,   0,   0,   0,   0,   0,   0,\n",
       "          0,   0],\n",
       "       [  0,   0,   0,   0, 136, 253, 253, 253, 212, 135, 132,  16,   0,\n",
       "          0,   0,   0,   0,   0,   0,   0,   0,   0,   0,   0,   0,   0,\n",
       "          0,   0],\n",
       "       [  0,   0,   0,   0,   0,   0,   0,   0,   0,   0,   0,   0,   0,\n",
       "          0,   0,   0,   0,   0,   0,   0,   0,   0,   0,   0,   0,   0,\n",
       "          0,   0],\n",
       "       [  0,   0,   0,   0,   0,   0,   0,   0,   0,   0,   0,   0,   0,\n",
       "          0,   0,   0,   0,   0,   0,   0,   0,   0,   0,   0,   0,   0,\n",
       "          0,   0],\n",
       "       [  0,   0,   0,   0,   0,   0,   0,   0,   0,   0,   0,   0,   0,\n",
       "          0,   0,   0,   0,   0,   0,   0,   0,   0,   0,   0,   0,   0,\n",
       "          0,   0]], dtype=uint8)"
      ]
     },
     "execution_count": 4,
     "metadata": {
      "tags": []
     },
     "output_type": "execute_result"
    }
   ],
   "source": [
    "example = x_train[0]\n",
    "example"
   ]
  },
  {
   "cell_type": "code",
   "execution_count": 5,
   "metadata": {
    "colab": {
     "base_uri": "https://localhost:8080/",
     "height": 364
    },
    "colab_type": "code",
    "deletable": false,
    "editable": false,
    "id": "jodx4IPgQ4TE",
    "nbgrader": {
     "checksum": "a97a0ac0eb749d4de8e5884d67e438cc",
     "grade": false,
     "grade_id": "cell-7b7af0d942b6b6bc",
     "locked": true,
     "schema_version": 1,
     "solution": false
    },
    "outputId": "ec78cf1e-52c5-4b50-fcc2-73c0c025a850"
   },
   "outputs": [
    {
     "data": {
      "text/plain": [
       "<matplotlib.image.AxesImage at 0x7f71ef208080>"
      ]
     },
     "execution_count": 5,
     "metadata": {
      "tags": []
     },
     "output_type": "execute_result"
    },
    {
     "data": {
      "image/png": "[encoded data removed]",
      "text/plain": [
       "<matplotlib.figure.Figure at 0x7f71fb4987f0>"
      ]
     },
     "metadata": {
      "tags": []
     },
     "output_type": "display_data"
    }
   ],
   "source": [
    "plt.imshow(example)"
   ]
  },
  {
   "cell_type": "code",
   "execution_count": 0,
   "metadata": {
    "colab": {},
    "colab_type": "code",
    "deletable": false,
    "id": "w4cctOFAQ4TI",
    "nbgrader": {
     "checksum": "6aea10c2f3c6c6486988a5f2130f1e41",
     "grade": false,
     "grade_id": "cell-887e94c3f19aac00",
     "locked": false,
     "schema_version": 1,
     "solution": true
    }
   },
   "outputs": [],
   "source": [
    "def calculate_conv_shape(X, K, padding=0, stride=1):\n",
    "    \"\"\"Calculate the shape of the output of a convolution \n",
    "    \n",
    "    Args:\n",
    "        X (np.array): The input matrix\n",
    "        K (np.array): The filter matrix\n",
    "        padding (int, optional): Defaults to 0. The padding dimension\n",
    "        stride (int, optional): Defaults to 1. The stride of the convolution\n",
    "    \n",
    "    Returns:\n",
    "        tuple: The shape of the convolution output\n",
    "    \"\"\"\n",
    "    # YOUR CODE HERE\n",
    "    return(int((X.shape[0] - K.shape[0] + 2*padding)/stride + 1), int((X.shape[1] - K.shape[1] + 2*padding)/stride + 1))"
   ]
  },
  {
   "cell_type": "code",
   "execution_count": 7,
   "metadata": {
    "colab": {
     "base_uri": "https://localhost:8080/",
     "height": 34
    },
    "colab_type": "code",
    "deletable": false,
    "editable": false,
    "id": "h5L9F9auQ4TK",
    "nbgrader": {
     "checksum": "c6f9e5d241ddf9ab608a8e53bf4aea26",
     "grade": false,
     "grade_id": "cell-f77d68a4c1196592",
     "locked": true,
     "schema_version": 1,
     "solution": false
    },
    "outputId": "de22598e-c3d5-4101-e13d-9cfc59e9b7a8"
   },
   "outputs": [
    {
     "data": {
      "text/plain": [
       "(28, 28)"
      ]
     },
     "execution_count": 7,
     "metadata": {
      "tags": []
     },
     "output_type": "execute_result"
    }
   ],
   "source": [
    "\n",
    "sharpen = np.array([\n",
    "    [0, -1, 0],\n",
    "    [-1, 8, -1],\n",
    "    [0, -1, 0]\n",
    "])\n",
    "calculate_conv_shape(example, sharpen, padding=1)"
   ]
  },
  {
   "cell_type": "code",
   "execution_count": 0,
   "metadata": {
    "colab": {},
    "colab_type": "code",
    "deletable": false,
    "editable": false,
    "id": "pp6uftFgQ4TN",
    "nbgrader": {
     "checksum": "1cc4c7341ee35929f764e16e919beded",
     "grade": true,
     "grade_id": "cell-8c49e7193a849321",
     "locked": true,
     "points": 5,
     "schema_version": 1,
     "solution": false
    }
   },
   "outputs": [],
   "source": [
    "ans = calculate_conv_shape(example, sharpen, padding=1)\n",
    "assert isinstance(ans, tuple)\n",
    "assert isinstance(ans[0], int)\n",
    "assert isinstance(ans[1], int)\n",
    "assert ans == (28, 28)\n",
    "ans = calculate_conv_shape(example, sharpen, padding=0, stride=2)\n",
    "assert ans == (13, 13)"
   ]
  },
  {
   "cell_type": "markdown",
   "metadata": {
    "colab_type": "text",
    "deletable": false,
    "editable": false,
    "id": "8HQRM0kXQ4TQ",
    "nbgrader": {
     "checksum": "41023385138b794d59c124dfa32b5922",
     "grade": false,
     "grade_id": "cell-25dbc77554a4c538",
     "locked": true,
     "schema_version": 1,
     "solution": false
    }
   },
   "source": [
    "To apply a convolution, you can use the [convolve](https://docs.scipy.org/doc/scipy-0.15.1/reference/generated/scipy.ndimage.filters.convolve.html) function from scipy. (scipy has already been imported for you above.)"
   ]
  },
  {
   "cell_type": "code",
   "execution_count": 9,
   "metadata": {
    "colab": {
     "base_uri": "https://localhost:8080/",
     "height": 347
    },
    "colab_type": "code",
    "deletable": false,
    "id": "25JtOjnMQ4TS",
    "nbgrader": {
     "checksum": "e10e56930a363025c23f2b0100025231",
     "grade": false,
     "grade_id": "cell-eaf956c226dd39b7",
     "locked": false,
     "schema_version": 1,
     "solution": true
    },
    "outputId": "e81c90dd-e61c-47c0-ec36-b77e7da6f758"
   },
   "outputs": [
    {
     "data": {
      "image/png": "[encoded data removed]",
      "text/plain": [
       "<matplotlib.figure.Figure at 0x7f71ef1d0400>"
      ]
     },
     "metadata": {
      "tags": []
     },
     "output_type": "display_data"
    }
   ],
   "source": [
    "# Apply the sharpen filter to the example and save the output to sharpened_image\n",
    "# YOUR CODE HERE\n",
    "sharpened_image = scipy.ndimage.filters.convolve(example,sharpen)\n",
    "\n",
    "plt.imshow(sharpened_image)\n",
    "plt.show()"
   ]
  },
  {
   "cell_type": "code",
   "execution_count": 10,
   "metadata": {
    "colab": {
     "base_uri": "https://localhost:8080/",
     "height": 347
    },
    "colab_type": "code",
    "deletable": false,
    "id": "k2I7VfIvQ4TU",
    "nbgrader": {
     "checksum": "020474d8b5163d1551448961c9088113",
     "grade": false,
     "grade_id": "cell-1051e90fd643f6ab",
     "locked": false,
     "schema_version": 1,
     "solution": true
    },
    "outputId": "1161ee34-6574-44ee-a3a3-cae098e1833a"
   },
   "outputs": [
    {
     "data": {
      "image/png": "[encoded data removed]",
      "text/plain": [
       "<matplotlib.figure.Figure at 0x7f71ef1d0128>"
      ]
     },
     "metadata": {
      "tags": []
     },
     "output_type": "display_data"
    }
   ],
   "source": [
    "\n",
    "# Apply a filter of your choice (saved to my_filter) and save the output image to filtered_image\n",
    "# YOUR CODE HERE\n",
    "\n",
    "my_filter = np.array([\n",
    "    [0, 0, 0],\n",
    "    [0, 1, 0],\n",
    "    [0, 0, 0]\n",
    "])\n",
    "filtered_image = scipy.ndimage.filters.convolve(example,my_filter)\n",
    "\n",
    "plt.imshow(filtered_image)\n",
    "plt.show()"
   ]
  },
  {
   "cell_type": "code",
   "execution_count": 0,
   "metadata": {
    "colab": {},
    "colab_type": "code",
    "deletable": false,
    "editable": false,
    "id": "FL_GGTHzQ4TX",
    "nbgrader": {
     "checksum": "21b64248d1a73f689cba5f35525ceaa0",
     "grade": true,
     "grade_id": "cell-dab2b2dd97bd278f",
     "locked": true,
     "points": 5,
     "schema_version": 1,
     "solution": false
    }
   },
   "outputs": [],
   "source": [
    "assert sharpened_image.shape == example.shape\n",
    "assert filtered_image.shape == example.shape\n",
    "assert my_filter.shape == (3,3)"
   ]
  },
  {
   "cell_type": "code",
   "execution_count": 12,
   "metadata": {
    "colab": {
     "base_uri": "https://localhost:8080/",
     "height": 202
    },
    "colab_type": "code",
    "deletable": false,
    "id": "WkPTelN3Q4Tb",
    "nbgrader": {
     "checksum": "4f1d2543eb9bcdbdd2191ad51b2e3559",
     "grade": false,
     "grade_id": "cell-dd8d2962acc9833c",
     "locked": false,
     "schema_version": 1,
     "solution": true
    },
    "outputId": "faeff71d-2ef3-4697-8ec0-f76b5f0aee90"
   },
   "outputs": [
    {
     "name": "stdout",
     "output_type": "stream",
     "text": [
      "Epoch 1/5\n",
      "60000/60000 [==============================] - 8s 127us/step - loss: 9.1228 - acc: 0.4328\n",
      "Epoch 2/5\n",
      "60000/60000 [==============================] - 7s 116us/step - loss: 8.4924 - acc: 0.4727\n",
      "Epoch 3/5\n",
      "60000/60000 [==============================] - 7s 116us/step - loss: 8.3858 - acc: 0.4794\n",
      "Epoch 4/5\n",
      "60000/60000 [==============================] - 7s 114us/step - loss: 8.3388 - acc: 0.4824\n",
      "Epoch 5/5\n",
      "60000/60000 [==============================] - 7s 114us/step - loss: 8.4092 - acc: 0.4782\n"
     ]
    },
    {
     "data": {
      "text/plain": [
       "<keras.callbacks.History at 0x7f71ec91a3c8>"
      ]
     },
     "execution_count": 12,
     "metadata": {
      "tags": []
     },
     "output_type": "execute_result"
    }
   ],
   "source": [
    "# Create a simple NN model with 2 hidden dense layers and an output layer\n",
    "# You can choose any number of neurons per Dense layer ex. 100 or 200\n",
    "# This is a classification task with 10 output classes so make sure you adjust the last output layer's hyperparameters accordingly\n",
    "# Since the input data is a matrix, you will want to use the Flatten layer \n",
    "# Save the Sequential model to simple_model and its layers to simple_layers\n",
    "\n",
    "# YOUR CODE HERE\n",
    "simple_layers = [\n",
    "    Flatten(input_shape=example.shape),\n",
    "    Dense(100, activation='relu'), \n",
    "    Dropout(0.01),\n",
    "    Dense(100, activation='relu'),\n",
    "    Dropout(0.01),\n",
    "    Dense(10, activation='softmax')\n",
    "]\n",
    "\n",
    "simple_model = Sequential(simple_layers)\n",
    "\n",
    "\n",
    "simple_model.compile(optimizer=\"adam\", loss='sparse_categorical_crossentropy', metrics=['accuracy'])\n",
    "simple_model.fit(x_train, y_train, epochs=5)"
   ]
  },
  {
   "cell_type": "code",
   "execution_count": 13,
   "metadata": {
    "colab": {
     "base_uri": "https://localhost:8080/",
     "height": 34
    },
    "colab_type": "code",
    "deletable": false,
    "editable": false,
    "id": "_SB_23ZxQ4Te",
    "nbgrader": {
     "checksum": "e874f14f57712a30b494cbc87065f2e2",
     "grade": true,
     "grade_id": "cell-b9330f9b40580d4b",
     "locked": true,
     "points": 5,
     "schema_version": 1,
     "solution": false
    },
    "outputId": "872b9ab9-2aaf-4f76-e487-091ee2b4ad58"
   },
   "outputs": [
    {
     "name": "stdout",
     "output_type": "stream",
     "text": [
      "10000/10000 [==============================] - 0s 48us/step\n"
     ]
    }
   ],
   "source": [
    "assert len(simple_layers) == 6\n",
    "assert isinstance(simple_layers[0], Flatten)\n",
    "assert isinstance(simple_layers[1], Dense)\n",
    "assert isinstance(simple_layers[3], Dense)\n",
    "assert isinstance(simple_layers[5], Dense)\n",
    "assert isinstance(simple_layers[2], Dropout)\n",
    "assert isinstance(simple_layers[4], Dropout)\n",
    "\n",
    "simple_scores = simple_model.evaluate(x_test, y_test)\n",
    "assert simple_scores[1] > 0.3"
   ]
  },
  {
   "cell_type": "code",
   "execution_count": 14,
   "metadata": {
    "colab": {
     "base_uri": "https://localhost:8080/",
     "height": 50
    },
    "colab_type": "code",
    "deletable": false,
    "editable": false,
    "id": "LT0ltFGBQ4Tk",
    "nbgrader": {
     "checksum": "7e7c56bf1514a7c124b4a1e93d3e647a",
     "grade": false,
     "grade_id": "cell-045361b2e3f23134",
     "locked": true,
     "schema_version": 1,
     "solution": false
    },
    "outputId": "98e42a7c-953f-4dc6-a931-38e76c3a9d50"
   },
   "outputs": [
    {
     "name": "stdout",
     "output_type": "stream",
     "text": [
      "\n",
      "The simple model achieves an accuracy of 48.31% on the test data.\n"
     ]
    }
   ],
   "source": [
    "print(f\"\\nThe simple model achieves an accuracy of {simple_scores[1]*100:.2f}% on the test data.\")"
   ]
  },
  {
   "cell_type": "code",
   "execution_count": 36,
   "metadata": {
    "colab": {
     "base_uri": "https://localhost:8080/",
     "height": 67
    },
    "colab_type": "code",
    "deletable": false,
    "id": "3VmlvN47Q4Tn",
    "nbgrader": {
     "checksum": "22c1254e45c32d0ba6d4764c4d35a6a6",
     "grade": false,
     "grade_id": "cell-960d34277a5b576e",
     "locked": false,
     "schema_version": 1,
     "solution": true
    },
    "outputId": "02bbab2b-3a02-4cce-d981-8f31451c6557"
   },
   "outputs": [
    {
     "name": "stdout",
     "output_type": "stream",
     "text": [
      "Epoch 1/1\n",
      "60000/60000 [==============================] - 68s 1ms/step - loss: 0.8386 - acc: 0.7831\n"
     ]
    },
    {
     "data": {
      "text/plain": [
       "<keras.callbacks.History at 0x7f71e8e31e10>"
      ]
     },
     "execution_count": 36,
     "metadata": {
      "tags": []
     },
     "output_type": "execute_result"
    }
   ],
   "source": [
    "# Create a CNN model with 4 convolutional layers, 2 dense fully connected hidden layers and the output layer\n",
    "# Use Max pooling after every convolutional layer and use 32, 64, 128, 128 filters respectively\n",
    "# You will need to flatten the output from the feature learning component \n",
    "# You can choose any number of neurons per Dense layer ex. 100 or 200\n",
    "# Save the Sequential model to cnn_model and its layers to cnn_layers\n",
    "\n",
    "# YOUR CODE HERE\n",
    "#Conv2D, MaxPool2D\n",
    "\n",
    "#X_train = x_train.reshape(x_train.shape[0], img_cols, img_rows, 1)\n",
    "#X_test = x_test.reshape(x_test.shape[0], img_cols, img_rows, 1)\n",
    "\n",
    "\n",
    "cnn_layers = [\n",
    "    Conv2D(filters=32,kernel_size=(2, 2),input_shape=(28, 28, 1)),\n",
    "    MaxPool2D(pool_size=[1, 1], strides=2),\n",
    "    Conv2D(filters=64,kernel_size=(2, 2)),\n",
    "    MaxPool2D(pool_size=[1, 1], strides=2),\n",
    "    Conv2D(filters=128,kernel_size=(2, 2)),\n",
    "    MaxPool2D(pool_size=[1, 1], strides=2),\n",
    "    Conv2D(filters=128,kernel_size=(2, 2)),\n",
    "    MaxPool2D(pool_size=[1, 1], strides=2),\n",
    "    Flatten(),\n",
    "    Dense(100, activation='relu'),\n",
    "    Dense(100, activation='relu'),\n",
    "    Dense(10, activation='softmax')#output\n",
    "]\n",
    "\n",
    "cnn_model = Sequential(cnn_layers)\n",
    "\n",
    "#[\n",
    "#    Flatten(input_shape=example.shape),\n",
    "#    Dense(100, activation='relu'), \n",
    "#    Dropout(0.01),\n",
    "#    Dense(100, activation='relu'),\n",
    "#    Dropout(0.01),\n",
    "#    Dense(10, activation='softmax')\n",
    "#]\n",
    "\n",
    "#conv2 = tf.layers.conv2d(\n",
    "#    inputs=pool1,\n",
    "#    filters=64,\n",
    "#    kernel_size=[5, 5],\n",
    "#    padding=\"same\",\n",
    "#    activation=tf.nn.relu)\n",
    "\n",
    "#pool2 = tf.layers.max_pooling2d(inputs=conv2, pool_size=[2, 2], strides=2)\n",
    "\n",
    "cnn_model.compile(optimizer=\"adam\", loss='sparse_categorical_crossentropy', metrics=['accuracy'])\n",
    "cnn_model.fit(x_train.reshape(-1, 28, 28 ,1), y_train, epochs=1)"
   ]
  },
  {
   "cell_type": "code",
   "execution_count": 40,
   "metadata": {
    "colab": {
     "base_uri": "https://localhost:8080/",
     "height": 34
    },
    "colab_type": "code",
    "deletable": false,
    "editable": false,
    "id": "cRhGICCoQ4To",
    "nbgrader": {
     "checksum": "e669fd5f7a7fc1d5cfb44ec4649f20bb",
     "grade": true,
     "grade_id": "cell-44d2df9e1f2284ec",
     "locked": true,
     "points": 5,
     "schema_version": 1,
     "solution": false
    },
    "outputId": "dae1d6c7-f461-4936-9b97-0d4ea3656d1c"
   },
   "outputs": [
    {
     "name": "stdout",
     "output_type": "stream",
     "text": [
      "10000/10000 [==============================] - 3s 326us/step\n"
     ]
    }
   ],
   "source": [
    "assert len(cnn_layers) == 12\n",
    "assert isinstance(cnn_layers[0], Conv2D)\n",
    "assert isinstance(cnn_layers[2], Conv2D)\n",
    "assert isinstance(cnn_layers[4], Conv2D)\n",
    "assert isinstance(cnn_layers[6], Conv2D)\n",
    "assert isinstance(cnn_layers[1], MaxPool2D)\n",
    "assert isinstance(cnn_layers[3], MaxPool2D)\n",
    "assert isinstance(cnn_layers[5], MaxPool2D)\n",
    "assert isinstance(cnn_layers[7], MaxPool2D)\n",
    "assert isinstance(cnn_layers[8], Flatten)\n",
    "assert isinstance(cnn_layers[9], Dense)\n",
    "assert isinstance(cnn_layers[10], Dense)\n",
    "assert isinstance(cnn_layers[11], Dense)\n",
    "\n",
    "cnn_scores = cnn_model.evaluate(x_test.reshape(-1, 28, 28 ,1), y_test)\n",
    "assert cnn_scores[1] > 0.8"
   ]
  },
  {
   "cell_type": "code",
   "execution_count": 38,
   "metadata": {
    "colab": {
     "base_uri": "https://localhost:8080/",
     "height": 50
    },
    "colab_type": "code",
    "deletable": false,
    "editable": false,
    "id": "IwU5Q6r_Q4Ts",
    "nbgrader": {
     "checksum": "77ce3357bb04aad496cfa936707911c1",
     "grade": false,
     "grade_id": "cell-a6157eb6365d54be",
     "locked": true,
     "schema_version": 1,
     "solution": false
    },
    "outputId": "5f783365-2878-42e5-d082-707dcf86a406"
   },
   "outputs": [
    {
     "name": "stdout",
     "output_type": "stream",
     "text": [
      "\n",
      "The CNN model achieves an accuracy of 85.19% on the test data.\n"
     ]
    }
   ],
   "source": [
    "print(f\"\\nThe CNN model achieves an accuracy of {cnn_scores[1]*100:.2f}% on the test data.\")"
   ]
  },
  {
   "cell_type": "code",
   "execution_count": 39,
   "metadata": {
    "colab": {
     "base_uri": "https://localhost:8080/",
     "height": 364
    },
    "colab_type": "code",
    "deletable": false,
    "editable": false,
    "id": "lxc_nAj2Q4Tu",
    "nbgrader": {
     "checksum": "966a8febe17cf6cc621d77a148483f49",
     "grade": false,
     "grade_id": "cell-87e10c07e5c41ec6",
     "locked": true,
     "schema_version": 1,
     "solution": false
    },
    "outputId": "0ef9538a-4c40-4f83-9e3f-f5e7c02be107"
   },
   "outputs": [
    {
     "name": "stdout",
     "output_type": "stream",
     "text": [
      "The simple model predicts this number is a 3 and the CNN predicts it is a 3.\n"
     ]
    },
    {
     "data": {
      "image/png": "[encoded data removed]",
      "text/plain": [
       "<matplotlib.figure.Figure at 0x7f71e874c630>"
      ]
     },
     "metadata": {
      "tags": []
     },
     "output_type": "display_data"
    }
   ],
   "source": [
    "# Change this value to test out some numbers and see how the models score\n",
    "i = 245\n",
    "\n",
    "new_example = x_test[i]\n",
    "\n",
    "simple_new_example = new_example.reshape(-1, 28, 28)\n",
    "cnn_new_example=new_example.reshape(-1, 28, 28, 1)\n",
    "\n",
    "simple_predict = simple_model.predict(simple_new_example).argmax()\n",
    "cnn_predict = cnn_model.predict(cnn_new_example).argmax()\n",
    "\n",
    "plt.imshow(new_example)\n",
    "print(f\"The simple model predicts this number is a {simple_predict} and the CNN predicts it is a {cnn_predict}.\")"
   ]
  },
  {
   "cell_type": "markdown",
   "metadata": {
    "colab_type": "text",
    "deletable": false,
    "editable": false,
    "id": "iz3c7MmoQ4Ty",
    "nbgrader": {
     "checksum": "48f97c6b49b742a0a7ebbd9fc0415266",
     "grade": false,
     "grade_id": "cell-ad05bf85bb55dc8e",
     "locked": true,
     "schema_version": 1,
     "solution": false
    }
   },
   "source": [
    "## Feedback"
   ]
  },
  {
   "cell_type": "code",
   "execution_count": 0,
   "metadata": {
    "colab": {},
    "colab_type": "code",
    "deletable": false,
    "id": "5dyqLDKYQ4T0",
    "nbgrader": {
     "checksum": "ed936ab53a1391c5e6af8df699a1dbf5",
     "grade": false,
     "grade_id": "feedback",
     "locked": false,
     "schema_version": 1,
     "solution": true
    }
   },
   "outputs": [],
   "source": [
    "def feedback():\n",
    "    \"\"\"Provide feedback on the contents of this exercise\n",
    "    \n",
    "    Returns:\n",
    "        string\n",
    "    \"\"\"\n",
    "    # YOUR CODE HERE\n",
    "    raise NotImplementedError()"
   ]
  },
  {
   "cell_type": "code",
   "execution_count": 0,
   "metadata": {
    "colab": {},
    "colab_type": "code",
    "deletable": false,
    "editable": false,
    "id": "WAd3NbRjQ4T2",
    "nbgrader": {
     "checksum": "f39f6185a54850c2f1f9b5b2a17b7543",
     "grade": true,
     "grade_id": "feedback-tests",
     "locked": true,
     "points": 0,
     "schema_version": 1,
     "solution": false
    }
   },
   "outputs": [],
   "source": []
  }
 ],
 "metadata": {
  "colab": {
   "name": "14 - DL - CNN.ipynb",
   "provenance": [],
   "version": "0.3.2"
  },
  "kernelspec": {
   "display_name": "Python 3",
   "language": "python",
   "name": "python3"
  },
  "language_info": {
   "codemirror_mode": {
    "name": "ipython",
    "version": 3
   },
   "file_extension": ".py",
   "mimetype": "text/x-python",
   "name": "python",
   "nbconvert_exporter": "python",
   "pygments_lexer": "ipython3",
   "version": "3.6.5"
  }
 },
 "nbformat": 4,
 "nbformat_minor": 1
}
