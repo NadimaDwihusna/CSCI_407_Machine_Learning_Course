{
  "nbformat": 4,
  "nbformat_minor": 0,
  "metadata": {
    "colab": {
      "name": "18+-+Transfer+Learning.ipynb",
      "version": "0.3.2",
      "provenance": []
    },
    "kernelspec": {
      "name": "python3",
      "display_name": "Python 3"
    },
    "accelerator": "GPU"
  },
  "cells": [
    {
      "metadata": {
        "deletable": false,
        "editable": false,
        "nbgrader": {
          "checksum": "d273675751b20a3e1e69a353fc227cfc",
          "grade": false,
          "grade_id": "cell-c9d79ad28495f780",
          "locked": true,
          "schema_version": 1,
          "solution": false
        },
        "id": "ApDTB0v05K9b",
        "colab_type": "text"
      },
      "cell_type": "markdown",
      "source": [
        "# Transfer Learning\n",
        "\n",
        "We've already looked an example of transfer learning when working with application in Natural Language Processing. For sentiment classification, we used various feature representations including using GloVe representations as the chosen word embedding. That was one example of transfer learning where the approach we used was a feature representation transfer.\n",
        "\n",
        "In this exercise we will apply transfer learning to computer vision where we will incorporate both parameter transfer as well as feature representation transfer. You can take a look at the available pre-trained models in keras on the [applications page](https://keras.io/applications) in the documentation. In practice, we rarely build a model from scratch and instead use transfer learning to gain the benefit of state of the art models.\n",
        "\n",
        "For thie exercise, we will use the [CIFAR10 dataset](https://keras.io/datasets/#cifar10-small-image-classification)."
      ]
    },
    {
      "metadata": {
        "deletable": false,
        "editable": false,
        "nbgrader": {
          "checksum": "7864865bdeace0f1b7f28ab0ce1221ee",
          "grade": false,
          "grade_id": "cell-efba043cb3f09871",
          "locked": true,
          "schema_version": 1,
          "solution": false
        },
        "id": "5JH_LOku5K9d",
        "colab_type": "code",
        "colab": {}
      },
      "cell_type": "code",
      "source": [
        "import numpy as np\n",
        "import matplotlib\n",
        "import matplotlib.pyplot as plt\n",
        "\n",
        "import tensorflow as tf\n",
        "import tensorflow.keras as keras\n",
        "\n",
        "from keras.datasets import cifar10\n",
        "from keras.applications.vgg16 import VGG16\n",
        "from keras.layers import Dense, Flatten\n",
        "from keras import Model\n",
        "\n",
        "\n",
        "(x_train, y_train), (x_test, y_test) = cifar10.load_data()\n",
        "num_classes=10"
      ],
      "execution_count": 0,
      "outputs": []
    },
    {
      "metadata": {
        "id": "PMOIx2G45K9h",
        "colab_type": "code",
        "colab": {
          "base_uri": "https://localhost:8080/",
          "height": 470
        },
        "outputId": "da5ec888-74d1-4f9d-915b-a27d03e9dc8b"
      },
      "cell_type": "code",
      "source": [
        "from tensorflow.python.client import device_lib\n",
        "device_lib.list_local_devices()"
      ],
      "execution_count": 25,
      "outputs": [
        {
          "output_type": "execute_result",
          "data": {
            "text/plain": [
              "[name: \"/device:CPU:0\"\n",
              " device_type: \"CPU\"\n",
              " memory_limit: 268435456\n",
              " locality {\n",
              " }\n",
              " incarnation: 6775885265189099095, name: \"/device:XLA_CPU:0\"\n",
              " device_type: \"XLA_CPU\"\n",
              " memory_limit: 17179869184\n",
              " locality {\n",
              " }\n",
              " incarnation: 2299736370697904220\n",
              " physical_device_desc: \"device: XLA_CPU device\", name: \"/device:XLA_GPU:0\"\n",
              " device_type: \"XLA_GPU\"\n",
              " memory_limit: 17179869184\n",
              " locality {\n",
              " }\n",
              " incarnation: 14611478685688115740\n",
              " physical_device_desc: \"device: XLA_GPU device\", name: \"/device:GPU:0\"\n",
              " device_type: \"GPU\"\n",
              " memory_limit: 11281553818\n",
              " locality {\n",
              "   bus_id: 1\n",
              "   links {\n",
              "   }\n",
              " }\n",
              " incarnation: 11459303132775809712\n",
              " physical_device_desc: \"device: 0, name: Tesla K80, pci bus id: 0000:00:04.0, compute capability: 3.7\"]"
            ]
          },
          "metadata": {
            "tags": []
          },
          "execution_count": 25
        }
      ]
    },
    {
      "metadata": {
        "deletable": false,
        "editable": false,
        "nbgrader": {
          "checksum": "0a085a3e907fd22237f828179d8e90eb",
          "grade": false,
          "grade_id": "cell-da2aa308afa6cd45",
          "locked": true,
          "schema_version": 1,
          "solution": false
        },
        "id": "UV0VcDqG5K9k",
        "colab_type": "code",
        "colab": {
          "base_uri": "https://localhost:8080/",
          "height": 34
        },
        "outputId": "d6796faa-5983-4d0e-a5db-1aabf7c25d7f"
      },
      "cell_type": "code",
      "source": [
        "x_train.shape, y_train.shape"
      ],
      "execution_count": 26,
      "outputs": [
        {
          "output_type": "execute_result",
          "data": {
            "text/plain": [
              "((50000, 32, 32, 3), (50000, 1))"
            ]
          },
          "metadata": {
            "tags": []
          },
          "execution_count": 26
        }
      ]
    },
    {
      "metadata": {
        "id": "8pzqkh9A5K9n",
        "colab_type": "code",
        "colab": {
          "base_uri": "https://localhost:8080/",
          "height": 34
        },
        "outputId": "3c4887f5-fcf3-432f-fa77-1b9b4f0f6bff"
      },
      "cell_type": "code",
      "source": [
        "y_train.min(), y_train.max()"
      ],
      "execution_count": 27,
      "outputs": [
        {
          "output_type": "execute_result",
          "data": {
            "text/plain": [
              "(0, 9)"
            ]
          },
          "metadata": {
            "tags": []
          },
          "execution_count": 27
        }
      ]
    },
    {
      "metadata": {
        "deletable": false,
        "editable": false,
        "nbgrader": {
          "checksum": "00cf449dc4d14f90fff998cd9a087ef3",
          "grade": false,
          "grade_id": "cell-00565449f93db419",
          "locked": true,
          "schema_version": 1,
          "solution": false
        },
        "id": "aV-TgfPa5K9q",
        "colab_type": "code",
        "colab": {
          "base_uri": "https://localhost:8080/",
          "height": 34
        },
        "outputId": "1bdd2b39-ffd7-4bdc-a786-f9b92dd5ff04"
      },
      "cell_type": "code",
      "source": [
        "x_test.shape, y_test.shape"
      ],
      "execution_count": 28,
      "outputs": [
        {
          "output_type": "execute_result",
          "data": {
            "text/plain": [
              "((10000, 32, 32, 3), (10000, 1))"
            ]
          },
          "metadata": {
            "tags": []
          },
          "execution_count": 28
        }
      ]
    },
    {
      "metadata": {
        "id": "MOENT6XV5K9t",
        "colab_type": "code",
        "colab": {
          "base_uri": "https://localhost:8080/",
          "height": 34
        },
        "outputId": "946414e2-2b80-4fc3-fb6a-50267f2bffd7"
      },
      "cell_type": "code",
      "source": [
        "y_train = keras.utils.to_categorical(y_train, num_classes)\n",
        "y_test = keras.utils.to_categorical(y_test, num_classes)\n",
        "\n",
        "y_train.shape, y_test.shape, y_train.min(), y_train.max()"
      ],
      "execution_count": 29,
      "outputs": [
        {
          "output_type": "execute_result",
          "data": {
            "text/plain": [
              "((50000, 10), (10000, 10), 0.0, 1.0)"
            ]
          },
          "metadata": {
            "tags": []
          },
          "execution_count": 29
        }
      ]
    },
    {
      "metadata": {
        "deletable": false,
        "editable": false,
        "nbgrader": {
          "checksum": "6142f6b53a1c2fef034113ebd40cfdd2",
          "grade": false,
          "grade_id": "cell-46a3e8197a25e135",
          "locked": true,
          "schema_version": 1,
          "solution": false
        },
        "id": "SmIt7Qzh5K9w",
        "colab_type": "text"
      },
      "cell_type": "markdown",
      "source": [
        "First, we will use a VGG-16 model to extract features from a sample. The VGG-16 model without the fully connected layers is equivalent to just the pretrained convolutional layers. By passing data through the model we are able to extract features based on the knowledge from the pretrained imagenet dataset."
      ]
    },
    {
      "metadata": {
        "deletable": false,
        "nbgrader": {
          "checksum": "4d0f572ffafa7ad9be978fb6832282f6",
          "grade": false,
          "grade_id": "cell-cbf2a8f1fde34aa8",
          "locked": false,
          "schema_version": 1,
          "solution": true
        },
        "id": "maD9zMAw5K9x",
        "colab_type": "code",
        "colab": {}
      },
      "cell_type": "code",
      "source": [
        "# Load a VGG16 model with imagenet weights, without the fully connected layers, and with the adjusted input shape for our data\n",
        "# Save the model as vgg_model\n",
        "\n",
        "# YOUR CODE HERE\n",
        "vgg_model = VGG16(weights='imagenet',include_top=False,input_shape=(32,32,3), classes=10)"
      ],
      "execution_count": 0,
      "outputs": []
    },
    {
      "metadata": {
        "deletable": false,
        "editable": false,
        "nbgrader": {
          "checksum": "c0ef0c7b96d2bce168920de695e896d4",
          "grade": true,
          "grade_id": "cell-7cc41b089035d39a",
          "locked": true,
          "points": 5,
          "schema_version": 1,
          "solution": false
        },
        "id": "LdUXZPGU5K90",
        "colab_type": "code",
        "colab": {}
      },
      "cell_type": "code",
      "source": [
        "assert vgg_model"
      ],
      "execution_count": 0,
      "outputs": []
    },
    {
      "metadata": {
        "id": "vmkM4LqP5K93",
        "colab_type": "code",
        "colab": {
          "base_uri": "https://localhost:8080/",
          "height": 34
        },
        "outputId": "67d670a6-27df-45a1-aedb-085c50e3f5ba"
      },
      "cell_type": "code",
      "source": [
        "example = x_train[10]\n",
        "example.shape"
      ],
      "execution_count": 32,
      "outputs": [
        {
          "output_type": "execute_result",
          "data": {
            "text/plain": [
              "(32, 32, 3)"
            ]
          },
          "metadata": {
            "tags": []
          },
          "execution_count": 32
        }
      ]
    },
    {
      "metadata": {
        "id": "K4Hq6QZD5K96",
        "colab_type": "code",
        "colab": {
          "base_uri": "https://localhost:8080/",
          "height": 347
        },
        "outputId": "ff301197-bfd5-4288-d3d1-4039351ea334"
      },
      "cell_type": "code",
      "source": [
        "plt.imshow(example)\n",
        "plt.show()"
      ],
      "execution_count": 33,
      "outputs": [
        {
          "output_type": "display_data",
          "data": {
            "image/png": "[encoded data removed]",
            "text/plain": [
              "<matplotlib.figure.Figure at 0x7f9b697cf320>"
            ]
          },
          "metadata": {
            "tags": []
          }
        }
      ]
    },
    {
      "metadata": {
        "deletable": false,
        "nbgrader": {
          "checksum": "738a81836e1e43319cea901589117ca8",
          "grade": false,
          "grade_id": "cell-9efc493f08237ae8",
          "locked": false,
          "schema_version": 1,
          "solution": true
        },
        "id": "IRNfB92Y5K99",
        "colab_type": "code",
        "colab": {}
      },
      "cell_type": "code",
      "source": [
        "# Use the vgg_model you loaded to extract the features for the example image\n",
        "# save the output to example_vgg\n",
        "\n",
        "# YOUR CODE HERE\n",
        "example = np.expand_dims(example, axis=0)\n",
        "example_vgg = vgg_model.predict(example)"
      ],
      "execution_count": 0,
      "outputs": []
    },
    {
      "metadata": {
        "deletable": false,
        "editable": false,
        "nbgrader": {
          "checksum": "5a354bd81201b8539fa818c87b10bd40",
          "grade": true,
          "grade_id": "cell-0c7351fe695136f1",
          "locked": true,
          "points": 5,
          "schema_version": 1,
          "solution": false
        },
        "id": "pCnwQ1LU5K9_",
        "colab_type": "code",
        "colab": {}
      },
      "cell_type": "code",
      "source": [
        "assert np.squeeze(example_vgg).shape == (512,)"
      ],
      "execution_count": 0,
      "outputs": []
    },
    {
      "metadata": {
        "deletable": false,
        "editable": false,
        "nbgrader": {
          "checksum": "e3c4feea5d3442add676aa194c5183e9",
          "grade": false,
          "grade_id": "cell-8d58e4bfcd6581ec",
          "locked": true,
          "schema_version": 1,
          "solution": false
        },
        "id": "carDqGct5K-D",
        "colab_type": "text"
      },
      "cell_type": "markdown",
      "source": [
        "Now let's create our own fully connected layers and add those after the `vgg_model`. We can then predict train our model on the CIFAR10 dataset and predict its classes.\n",
        "\n"
      ]
    },
    {
      "metadata": {
        "deletable": false,
        "nbgrader": {
          "checksum": "8ee531a956af34e77fbcec998bac3138",
          "grade": false,
          "grade_id": "cell-2dbbcd51c1a9bcf5",
          "locked": false,
          "schema_version": 1,
          "solution": true
        },
        "id": "mwOfqNhC5K-E",
        "colab_type": "code",
        "colab": {}
      },
      "cell_type": "code",
      "source": [
        "# Flatten the Convolutional layers' output then\n",
        "# Add 3 Dense layers with 256 units each followed by the output layer\n",
        "# Use the functional API to do this\n",
        "# Save the final output from the layers as `predictions`\n",
        "\n",
        "x = vgg_model.output\n",
        "# YOUR CODE HERE\n",
        "\n",
        "x = Flatten()(x)\n",
        "a = Dense(256, activation='tanh')(x)\n",
        "b = Dense(256, activation='tanh')(a)\n",
        "c = Dense(256, activation='tanh')(b)\n",
        "predictions = Dense(10, activation='softmax')(c)\n",
        "\n",
        "vgg_complete = Model(vgg_model.input, predictions)"
      ],
      "execution_count": 0,
      "outputs": []
    },
    {
      "metadata": {
        "deletable": false,
        "editable": false,
        "nbgrader": {
          "checksum": "97cf91aa294f3ffbbab690eebec68821",
          "grade": true,
          "grade_id": "cell-ccdc0af6567cf083",
          "locked": true,
          "points": 5,
          "schema_version": 1,
          "solution": false
        },
        "id": "kgWpRCBK5K-I",
        "colab_type": "code",
        "colab": {}
      },
      "cell_type": "code",
      "source": [
        "assert len(vgg_complete.layers) - len(vgg_model.layers) == 5\n",
        "assert vgg_complete.layers[-2].units == 256\n",
        "assert vgg_complete.layers[-3].units == 256\n",
        "assert vgg_complete.layers[-4].units == 256"
      ],
      "execution_count": 0,
      "outputs": []
    },
    {
      "metadata": {
        "id": "QKMOcQMB5K-N",
        "colab_type": "code",
        "colab": {
          "base_uri": "https://localhost:8080/",
          "height": 941
        },
        "outputId": "d01e5c70-c18d-48c3-e3d2-e1f041575572"
      },
      "cell_type": "code",
      "source": [
        "vgg_complete.summary()"
      ],
      "execution_count": 38,
      "outputs": [
        {
          "output_type": "stream",
          "text": [
            "_________________________________________________________________\n",
            "Layer (type)                 Output Shape              Param #   \n",
            "=================================================================\n",
            "input_2 (InputLayer)         (None, 32, 32, 3)         0         \n",
            "_________________________________________________________________\n",
            "block1_conv1 (Conv2D)        (None, 32, 32, 64)        1792      \n",
            "_________________________________________________________________\n",
            "block1_conv2 (Conv2D)        (None, 32, 32, 64)        36928     \n",
            "_________________________________________________________________\n",
            "block1_pool (MaxPooling2D)   (None, 16, 16, 64)        0         \n",
            "_________________________________________________________________\n",
            "block2_conv1 (Conv2D)        (None, 16, 16, 128)       73856     \n",
            "_________________________________________________________________\n",
            "block2_conv2 (Conv2D)        (None, 16, 16, 128)       147584    \n",
            "_________________________________________________________________\n",
            "block2_pool (MaxPooling2D)   (None, 8, 8, 128)         0         \n",
            "_________________________________________________________________\n",
            "block3_conv1 (Conv2D)        (None, 8, 8, 256)         295168    \n",
            "_________________________________________________________________\n",
            "block3_conv2 (Conv2D)        (None, 8, 8, 256)         590080    \n",
            "_________________________________________________________________\n",
            "block3_conv3 (Conv2D)        (None, 8, 8, 256)         590080    \n",
            "_________________________________________________________________\n",
            "block3_pool (MaxPooling2D)   (None, 4, 4, 256)         0         \n",
            "_________________________________________________________________\n",
            "block4_conv1 (Conv2D)        (None, 4, 4, 512)         1180160   \n",
            "_________________________________________________________________\n",
            "block4_conv2 (Conv2D)        (None, 4, 4, 512)         2359808   \n",
            "_________________________________________________________________\n",
            "block4_conv3 (Conv2D)        (None, 4, 4, 512)         2359808   \n",
            "_________________________________________________________________\n",
            "block4_pool (MaxPooling2D)   (None, 2, 2, 512)         0         \n",
            "_________________________________________________________________\n",
            "block5_conv1 (Conv2D)        (None, 2, 2, 512)         2359808   \n",
            "_________________________________________________________________\n",
            "block5_conv2 (Conv2D)        (None, 2, 2, 512)         2359808   \n",
            "_________________________________________________________________\n",
            "block5_conv3 (Conv2D)        (None, 2, 2, 512)         2359808   \n",
            "_________________________________________________________________\n",
            "block5_pool (MaxPooling2D)   (None, 1, 1, 512)         0         \n",
            "_________________________________________________________________\n",
            "flatten_2 (Flatten)          (None, 512)               0         \n",
            "_________________________________________________________________\n",
            "dense_5 (Dense)              (None, 256)               131328    \n",
            "_________________________________________________________________\n",
            "dense_6 (Dense)              (None, 256)               65792     \n",
            "_________________________________________________________________\n",
            "dense_7 (Dense)              (None, 256)               65792     \n",
            "_________________________________________________________________\n",
            "dense_8 (Dense)              (None, 10)                2570      \n",
            "=================================================================\n",
            "Total params: 14,980,170\n",
            "Trainable params: 14,980,170\n",
            "Non-trainable params: 0\n",
            "_________________________________________________________________\n"
          ],
          "name": "stdout"
        }
      ]
    },
    {
      "metadata": {
        "id": "pkGC6Fg_5K-R",
        "colab_type": "code",
        "colab": {}
      },
      "cell_type": "code",
      "source": [
        "# Keep the feature extraction weights as is from the trained ImageNet\n",
        "# This will reduce the time it takes to train the model\n",
        "# Try setting the value to True instead and run the next cell to look at the difference in ETA.\n",
        "for layer in vgg_model.layers:\n",
        "    layer.trainable=False"
      ],
      "execution_count": 0,
      "outputs": []
    },
    {
      "metadata": {
        "deletable": false,
        "editable": false,
        "nbgrader": {
          "checksum": "ec81d20401a4869948014ee7d7e78a64",
          "grade": false,
          "grade_id": "cell-555ef11edc47dba7",
          "locked": true,
          "schema_version": 1,
          "solution": false
        },
        "id": "QxLAo0EM5K-U",
        "colab_type": "code",
        "colab": {
          "base_uri": "https://localhost:8080/",
          "height": 67
        },
        "outputId": "c6b9cb9a-9174-4c44-d95e-4dc942866186"
      },
      "cell_type": "code",
      "source": [
        "\n",
        "# This cell will take a while. Double check your work before continuing\n",
        "vgg_complete.compile(\"adam\", loss=\"categorical_crossentropy\", metrics=[\"accuracy\"])\n",
        "vgg_complete.fit(x_train, y_train, epochs=1, batch_size=128)"
      ],
      "execution_count": 40,
      "outputs": [
        {
          "output_type": "stream",
          "text": [
            "Epoch 1/1\n",
            "50000/50000 [==============================] - 17s 349us/step - loss: 1.3610 - acc: 0.5198\n"
          ],
          "name": "stdout"
        },
        {
          "output_type": "execute_result",
          "data": {
            "text/plain": [
              "<keras.callbacks.History at 0x7f9b67cf70b8>"
            ]
          },
          "metadata": {
            "tags": []
          },
          "execution_count": 40
        }
      ]
    },
    {
      "metadata": {
        "deletable": false,
        "nbgrader": {
          "checksum": "8d0e7056fc8a9484386dd38f07728bdc",
          "grade": false,
          "grade_id": "cell-ce8717f26f9f5d79",
          "locked": false,
          "schema_version": 1,
          "solution": true
        },
        "id": "q2IANMPi5K-Z",
        "colab_type": "code",
        "colab": {}
      },
      "cell_type": "code",
      "source": [
        "# Report the accuracy on the test set\n",
        "# Save it as acc\n",
        "\n",
        "# YOUR CODE HERE\n",
        "x,y = x_test,y_test\n",
        "\n",
        "acc = vgg_complete.evaluate(x,y,verbose=0)[1]\n"
      ],
      "execution_count": 0,
      "outputs": []
    },
    {
      "metadata": {
        "deletable": false,
        "editable": false,
        "nbgrader": {
          "checksum": "18b16fcf9ae16b9cd14912d902f038db",
          "grade": true,
          "grade_id": "cell-eb960da5a7f7d0ab",
          "locked": true,
          "points": 5,
          "schema_version": 1,
          "solution": false
        },
        "id": "cBr9-64b5K-d",
        "colab_type": "code",
        "colab": {}
      },
      "cell_type": "code",
      "source": [
        "assert acc > 0.3"
      ],
      "execution_count": 0,
      "outputs": []
    },
    {
      "metadata": {
        "deletable": false,
        "editable": false,
        "nbgrader": {
          "checksum": "e86f2671f8c1880306cd30d2a338be4d",
          "grade": false,
          "grade_id": "cell-7de667b2ebfee86b",
          "locked": true,
          "schema_version": 1,
          "solution": false
        },
        "id": "lZqVhNjL5K-f",
        "colab_type": "code",
        "colab": {
          "base_uri": "https://localhost:8080/",
          "height": 34
        },
        "outputId": "24a1b798-b4b1-45e6-a912-3937e4c510c7"
      },
      "cell_type": "code",
      "source": [
        "print(f\"If you were to guess just one class all the time, your accuracy would be 0.1. Your model accuracy is {acc:.3f}\")"
      ],
      "execution_count": 43,
      "outputs": [
        {
          "output_type": "stream",
          "text": [
            "If you were to guess just one class all the time, your accuracy would be 0.1. Your model accuracy is 0.557\n"
          ],
          "name": "stdout"
        }
      ]
    },
    {
      "metadata": {
        "deletable": false,
        "editable": false,
        "nbgrader": {
          "checksum": "feac2b34a20fc9f52ac6606cac738ac9",
          "grade": false,
          "grade_id": "cell-d77ae0b5a37d13a7",
          "locked": true,
          "schema_version": 1,
          "solution": false
        },
        "id": "5JQE1RRv5K-h",
        "colab_type": "text"
      },
      "cell_type": "markdown",
      "source": [
        "## Feedback"
      ]
    },
    {
      "metadata": {
        "deletable": false,
        "nbgrader": {
          "checksum": "ed936ab53a1391c5e6af8df699a1dbf5",
          "grade": false,
          "grade_id": "feedback",
          "locked": false,
          "schema_version": 1,
          "solution": true
        },
        "id": "EkGMHJas5K-i",
        "colab_type": "code",
        "colab": {}
      },
      "cell_type": "code",
      "source": [
        "def feedback():\n",
        "    \"\"\"Provide feedback on the contents of this exercise\n",
        "    \n",
        "    Returns:\n",
        "        string\n",
        "    \"\"\"\n",
        "    # YOUR CODE HERE\n",
        "    raise NotImplementedError()"
      ],
      "execution_count": 0,
      "outputs": []
    },
    {
      "metadata": {
        "deletable": false,
        "editable": false,
        "nbgrader": {
          "checksum": "f39f6185a54850c2f1f9b5b2a17b7543",
          "grade": true,
          "grade_id": "feedback-tests",
          "locked": true,
          "points": 0,
          "schema_version": 1,
          "solution": false
        },
        "id": "0zaa7_m55K-l",
        "colab_type": "code",
        "colab": {}
      },
      "cell_type": "code",
      "source": [
        ""
      ],
      "execution_count": 0,
      "outputs": []
    }
  ]
}