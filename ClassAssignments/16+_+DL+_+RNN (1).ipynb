{
  "nbformat": 4,
  "nbformat_minor": 0,
  "metadata": {
    "colab": {
      "name": "16+-+DL+-+RNN.ipynb",
      "version": "0.3.2",
      "provenance": []
    },
    "kernelspec": {
      "name": "python3",
      "display_name": "Python 3"
    }
  },
  "cells": [
    {
      "metadata": {
        "deletable": false,
        "editable": false,
        "nbgrader": {
          "checksum": "148a186cdc339d18c6a3c0bf33ad5a6e",
          "grade": false,
          "grade_id": "cell-d07e9bbbd9efabf6",
          "locked": true,
          "schema_version": 1,
          "solution": false
        },
        "id": "w5jTuysrmk12",
        "colab_type": "text"
      },
      "cell_type": "markdown",
      "source": [
        "# Deep Learning - Recurrent Neural Networks"
      ]
    },
    {
      "metadata": {
        "deletable": false,
        "editable": false,
        "nbgrader": {
          "checksum": "76bc0ff3bb343df44eb9281f19d32881",
          "grade": false,
          "grade_id": "cell-aaad388f467a51c0",
          "locked": true,
          "schema_version": 1,
          "solution": false
        },
        "id": "BeX7LNJcmk13",
        "colab_type": "code",
        "colab": {}
      },
      "cell_type": "code",
      "source": [
        "import tensorflow as tf\n",
        "import tensorflow.keras as keras\n",
        "from keras.preprocessing import sequence\n",
        "from keras.layers import SimpleRNN, GRU, LSTM, Embedding, Dense\n",
        "from keras import Sequential\n",
        "from keras.datasets import imdb"
      ],
      "execution_count": 0,
      "outputs": []
    },
    {
      "metadata": {
        "deletable": false,
        "editable": false,
        "nbgrader": {
          "checksum": "c6fadf4f4f321461f70a68ccfbb21f64",
          "grade": false,
          "grade_id": "cell-bda9bc8e1d0c997d",
          "locked": true,
          "schema_version": 1,
          "solution": false
        },
        "id": "BXDJA01fmk17",
        "colab_type": "text"
      },
      "cell_type": "markdown",
      "source": [
        "We will be using the IMDB dataset outlined in the keras documentation [here](https://keras.io/datasets/#imdb-movie-reviews-sentiment-classification). We will be applying a supervised learning application to text where we predict the sentiment of the IMDB reviews.\n",
        "\n",
        "Take a look at the imports above. For the RNN based imports see the [RNN documentation](https://keras.io/layers/recurrent). For preprocessing using `sequence` see the [sequence documentation](https://keras.io/preprocessing/sequence). For Embedding, see the [Embedding documentation](https://keras.io/layers/embeddings/)."
      ]
    },
    {
      "metadata": {
        "deletable": false,
        "editable": false,
        "nbgrader": {
          "checksum": "257838f74061ae830d9d6f55eabd08ed",
          "grade": false,
          "grade_id": "cell-c5683134993794d6",
          "locked": true,
          "schema_version": 1,
          "solution": false
        },
        "id": "N7e8xhI5mk19",
        "colab_type": "code",
        "colab": {
          "base_uri": "https://localhost:8080/",
          "height": 50
        },
        "outputId": "7f1ff310-3e21-4635-faf2-1aa04a3b9538"
      },
      "cell_type": "code",
      "source": [
        "maxlen = 100 # Only use sentences up to this many words\n",
        "n = 20000 # Only use the most frequent n words\n",
        "(x_train, y_train), (x_test, y_test) = imdb.load_data(num_words=n)"
      ],
      "execution_count": 3,
      "outputs": [
        {
          "output_type": "stream",
          "text": [
            "Downloading data from https://s3.amazonaws.com/text-datasets/imdb.npz\n",
            "17465344/17464789 [==============================] - 1s 0us/step\n"
          ],
          "name": "stdout"
        }
      ]
    },
    {
      "metadata": {
        "deletable": false,
        "editable": false,
        "nbgrader": {
          "checksum": "c7c4a5c23bee6c65b41a116d5dcaf6c7",
          "grade": false,
          "grade_id": "cell-2d04aa072205ee4a",
          "locked": true,
          "schema_version": 1,
          "solution": false
        },
        "id": "rCfHPWecmk2A",
        "colab_type": "code",
        "colab": {
          "base_uri": "https://localhost:8080/",
          "height": 34
        },
        "outputId": "f0092be6-b70d-4ffb-fbad-72a8fa8f163c"
      },
      "cell_type": "code",
      "source": [
        "x_train.shape"
      ],
      "execution_count": 4,
      "outputs": [
        {
          "output_type": "execute_result",
          "data": {
            "text/plain": [
              "(25000,)"
            ]
          },
          "metadata": {
            "tags": []
          },
          "execution_count": 4
        }
      ]
    },
    {
      "metadata": {
        "deletable": false,
        "editable": false,
        "nbgrader": {
          "checksum": "a4c3388aacf1d735a644960c64697ef8",
          "grade": false,
          "grade_id": "cell-c69f7bd45588c10f",
          "locked": true,
          "schema_version": 1,
          "solution": false
        },
        "id": "am2LeOE4mk2D",
        "colab_type": "code",
        "colab": {
          "base_uri": "https://localhost:8080/",
          "height": 34
        },
        "outputId": "c8697e74-359f-427c-f624-952e655cf875"
      },
      "cell_type": "code",
      "source": [
        "x_test.shape"
      ],
      "execution_count": 5,
      "outputs": [
        {
          "output_type": "execute_result",
          "data": {
            "text/plain": [
              "(25000,)"
            ]
          },
          "metadata": {
            "tags": []
          },
          "execution_count": 5
        }
      ]
    },
    {
      "metadata": {
        "deletable": false,
        "editable": false,
        "nbgrader": {
          "checksum": "b123c8981fb62ef850e3f8921796d5c0",
          "grade": false,
          "grade_id": "cell-59607cac09a99a93",
          "locked": true,
          "schema_version": 1,
          "solution": false
        },
        "id": "jQgI4Xx2mk2G",
        "colab_type": "code",
        "colab": {
          "base_uri": "https://localhost:8080/",
          "height": 185
        },
        "outputId": "de8e0a51-58b4-4a06-e306-d32fcbb53911"
      },
      "cell_type": "code",
      "source": [
        "for i in range(10):\n",
        "    print(f\"Element {i} has a length of {len(x_train[i])}\")"
      ],
      "execution_count": 6,
      "outputs": [
        {
          "output_type": "stream",
          "text": [
            "Element 0 has a length of 218\n",
            "Element 1 has a length of 189\n",
            "Element 2 has a length of 141\n",
            "Element 3 has a length of 550\n",
            "Element 4 has a length of 147\n",
            "Element 5 has a length of 43\n",
            "Element 6 has a length of 123\n",
            "Element 7 has a length of 562\n",
            "Element 8 has a length of 233\n",
            "Element 9 has a length of 130\n"
          ],
          "name": "stdout"
        }
      ]
    },
    {
      "metadata": {
        "deletable": false,
        "editable": false,
        "nbgrader": {
          "checksum": "25138d378e0de2c56acc6fc7c8a80cce",
          "grade": false,
          "grade_id": "cell-9d17ff409cf0ed6a",
          "locked": true,
          "schema_version": 1,
          "solution": false
        },
        "id": "NiAW7uqomk2J",
        "colab_type": "code",
        "colab": {
          "base_uri": "https://localhost:8080/",
          "height": 34
        },
        "outputId": "48a4d090-7336-42aa-8746-21502d87e0c0"
      },
      "cell_type": "code",
      "source": [
        "x_train[0][:10]"
      ],
      "execution_count": 7,
      "outputs": [
        {
          "output_type": "execute_result",
          "data": {
            "text/plain": [
              "[1, 14, 22, 16, 43, 530, 973, 1622, 1385, 65]"
            ]
          },
          "metadata": {
            "tags": []
          },
          "execution_count": 7
        }
      ]
    },
    {
      "metadata": {
        "deletable": false,
        "editable": false,
        "nbgrader": {
          "checksum": "f01af8b921e7219a1d6496f80022e99e",
          "grade": false,
          "grade_id": "cell-29008f854c9ed905",
          "locked": true,
          "schema_version": 1,
          "solution": false
        },
        "id": "48GIdruQmk2M",
        "colab_type": "code",
        "colab": {}
      },
      "cell_type": "code",
      "source": [
        "x_train = sequence.pad_sequences(x_train, maxlen=maxlen)\n",
        "x_test = sequence.pad_sequences(x_test, maxlen=maxlen)"
      ],
      "execution_count": 0,
      "outputs": []
    },
    {
      "metadata": {
        "deletable": false,
        "editable": false,
        "nbgrader": {
          "checksum": "ce4ea6cd24d56fdd9e3646d504c1638b",
          "grade": false,
          "grade_id": "cell-26b3b6b877561751",
          "locked": true,
          "schema_version": 1,
          "solution": false
        },
        "id": "MgFSpI96mk2P",
        "colab_type": "code",
        "colab": {
          "base_uri": "https://localhost:8080/",
          "height": 34
        },
        "outputId": "55b6a318-498d-4cb2-9c3e-aa31534d3f9c"
      },
      "cell_type": "code",
      "source": [
        "x_train.shape, x_test.shape"
      ],
      "execution_count": 9,
      "outputs": [
        {
          "output_type": "execute_result",
          "data": {
            "text/plain": [
              "((25000, 100), (25000, 100))"
            ]
          },
          "metadata": {
            "tags": []
          },
          "execution_count": 9
        }
      ]
    },
    {
      "metadata": {
        "deletable": false,
        "editable": false,
        "nbgrader": {
          "checksum": "eb0658983557cfc6d5d749c18d5c3a08",
          "grade": false,
          "grade_id": "cell-80d546e03cc3a91a",
          "locked": true,
          "schema_version": 1,
          "solution": false
        },
        "id": "uv589Jjqmk2T",
        "colab_type": "text"
      },
      "cell_type": "markdown",
      "source": [
        "Each data sample is a sequence of integers that represent the index of the word in our vocabulary. This saves on storage when compared to a vector that's as long as our vocabulary with all 0's and just one 1 as discussed in the lecture. We will be using the [Embedding layer](https://keras.io/layers/embeddings/) to adapt this for our neural network."
      ]
    },
    {
      "metadata": {
        "deletable": false,
        "editable": false,
        "nbgrader": {
          "checksum": "2793d772ae01513635a946f32a65d908",
          "grade": false,
          "grade_id": "cell-9c1b0c9c7d26e3fc",
          "locked": true,
          "schema_version": 1,
          "solution": false
        },
        "id": "GJx30vu2mk2V",
        "colab_type": "code",
        "colab": {
          "base_uri": "https://localhost:8080/",
          "height": 50
        },
        "outputId": "b0e112b8-3dec-43eb-8378-7ca88dd054e1"
      },
      "cell_type": "code",
      "source": [
        "print(f\"All values of the targets are integers with the following max and min values\")\n",
        "print(f\"{y_train.max()}, {y_train.min()}\")"
      ],
      "execution_count": 10,
      "outputs": [
        {
          "output_type": "stream",
          "text": [
            "All values of the targets are integers with the following max and min values\n",
            "1, 0\n"
          ],
          "name": "stdout"
        }
      ]
    },
    {
      "metadata": {
        "deletable": false,
        "editable": false,
        "nbgrader": {
          "checksum": "0346e2170feadaf176a0c0d32ccb8513",
          "grade": false,
          "grade_id": "cell-a96be599550f72f2",
          "locked": true,
          "schema_version": 1,
          "solution": false
        },
        "id": "M0M0ECkEmk2Y",
        "colab_type": "text"
      },
      "cell_type": "markdown",
      "source": [
        "We will build three networks, using basic RNNs, GRUs and LSTMs. We will then compare their performance in predicting the classes of reviews appropriately."
      ]
    },
    {
      "metadata": {
        "deletable": false,
        "nbgrader": {
          "checksum": "105945e2926f98ed566a7df64f314a5b",
          "grade": false,
          "grade_id": "cell-89247ca5db4b603e",
          "locked": false,
          "schema_version": 1,
          "solution": true
        },
        "id": "riapV8q3mk2Z",
        "colab_type": "code",
        "colab": {}
      },
      "cell_type": "code",
      "source": [
        "# Define simple_layers which will go into a Sequential model saved as my_simple\n",
        "# Here we are creating a simple RNN using one SimpleRNN layer with a dropout and recurrent_dropout\n",
        "# You will need to use an Embedding layer before that to convert the data appropriately\n",
        "# Determine an embedding size and use that for your SimpleRNN layer's output dimensions as well\n",
        "# Finally, create an output layer that applies to our dataset task of binary classification\n",
        "\n",
        "# YOUR CODE HERE\n",
        "simple_layers = [\n",
        "    Embedding(20000, 100),# input_length=10),\n",
        "    SimpleRNN(100, dropout=0.01, recurrent_dropout=0.001),\n",
        "    Dense(1, activation='tanh'),\n",
        "]\n",
        "\n",
        "my_simple = Sequential(simple_layers)\n",
        "\n",
        "#my_simple.compile()\n",
        "#output_array = "
      ],
      "execution_count": 0,
      "outputs": []
    },
    {
      "metadata": {
        "deletable": false,
        "editable": false,
        "nbgrader": {
          "checksum": "0a8cf4a1554786648cfb1318f2bc79dc",
          "grade": true,
          "grade_id": "cell-a693cb84784a5e8d",
          "locked": true,
          "points": 5,
          "schema_version": 1,
          "solution": false
        },
        "id": "xFccCxS6mk2c",
        "colab_type": "code",
        "colab": {}
      },
      "cell_type": "code",
      "source": [
        "assert len(simple_layers) == 3\n",
        "assert isinstance(simple_layers[0], Embedding)\n",
        "assert isinstance(simple_layers[1], SimpleRNN)\n",
        "assert isinstance(simple_layers[2], Dense)\n",
        "assert simple_layers[0].output_dim == simple_layers[1].units\n",
        "assert simple_layers[1].dropout > 0\n",
        "assert simple_layers[1].recurrent_dropout > 0\n",
        "assert my_simple"
      ],
      "execution_count": 0,
      "outputs": []
    },
    {
      "metadata": {
        "deletable": false,
        "editable": false,
        "nbgrader": {
          "checksum": "8d73657260a770b1f13296effcaa37d9",
          "grade": false,
          "grade_id": "cell-10a0d33cc462aa67",
          "locked": true,
          "schema_version": 1,
          "solution": false
        },
        "id": "x6bsnLFsmk2h",
        "colab_type": "code",
        "colab": {
          "base_uri": "https://localhost:8080/",
          "height": 104
        },
        "outputId": "1b5f70f6-9ae4-421f-a40f-3463e9f26ff8"
      },
      "cell_type": "code",
      "source": [
        "%%time\n",
        "my_simple.compile(loss='binary_crossentropy',optimizer='adam',metrics=['accuracy'])\n",
        "my_simple.fit(x_train, y_train, batch_size=32, epochs=1)"
      ],
      "execution_count": 13,
      "outputs": [
        {
          "output_type": "stream",
          "text": [
            "Epoch 1/1\n",
            "25000/25000 [==============================] - 60s 2ms/step - loss: 2.0890 - acc: 0.4875\n",
            "CPU times: user 1min 39s, sys: 3.88 s, total: 1min 43s\n",
            "Wall time: 1min 1s\n"
          ],
          "name": "stdout"
        }
      ]
    },
    {
      "metadata": {
        "deletable": false,
        "nbgrader": {
          "checksum": "27dffb7ef9f8fea71f2e2ebf31ebb806",
          "grade": false,
          "grade_id": "cell-9b7b7778053b0aa3",
          "locked": false,
          "schema_version": 1,
          "solution": true
        },
        "id": "5iMNFQdDmk2l",
        "colab_type": "code",
        "colab": {}
      },
      "cell_type": "code",
      "source": [
        "# Define gru_layers which will go into a Sequential model saved as my_gru\n",
        "# Here we are creating an RNN using GRUs, add 1 GRU layer with a dropout and recurrent_dropout\n",
        "# You will need to use an Embedding layer before that to convert the data appropriately\n",
        "# Determine an embedding size and use that for your GRU layer's output dimensions as well\n",
        "# Finally, create an output layer that applies to our dataset task of binary classification\n",
        "\n",
        "# YOUR CODE HERE\n",
        "gru_layers = [\n",
        "    Embedding(20000, 100),# input_length=10),\n",
        "    GRU(100, dropout=0.01, recurrent_dropout=0.001),\n",
        "    Dense(1, activation='tanh'),\n",
        "]\n",
        "my_gru = Sequential(gru_layers)"
      ],
      "execution_count": 0,
      "outputs": []
    },
    {
      "metadata": {
        "deletable": false,
        "editable": false,
        "nbgrader": {
          "checksum": "4f9a717049b8744e9490f324fba1fc24",
          "grade": true,
          "grade_id": "cell-c69132493de5ac88",
          "locked": true,
          "points": 5,
          "schema_version": 1,
          "solution": false
        },
        "id": "4QMxgEmumk2o",
        "colab_type": "code",
        "colab": {}
      },
      "cell_type": "code",
      "source": [
        "assert len(gru_layers) == 3\n",
        "assert isinstance(gru_layers[0], Embedding)\n",
        "assert isinstance(gru_layers[1], GRU)\n",
        "assert isinstance(gru_layers[2], Dense)\n",
        "assert gru_layers[0].output_dim == gru_layers[1].units\n",
        "assert gru_layers[1].dropout > 0\n",
        "assert gru_layers[1].recurrent_dropout > 0\n",
        "assert my_gru"
      ],
      "execution_count": 0,
      "outputs": []
    },
    {
      "metadata": {
        "deletable": false,
        "editable": false,
        "nbgrader": {
          "checksum": "3f8a2793b9cf15063bcafef69ea11131",
          "grade": false,
          "grade_id": "cell-5c71db6dcb81eb2a",
          "locked": true,
          "schema_version": 1,
          "solution": false
        },
        "id": "EQO9e-Y_mk2q",
        "colab_type": "code",
        "colab": {
          "base_uri": "https://localhost:8080/",
          "height": 104
        },
        "outputId": "fefc841e-af39-4a61-98e2-3955b1133eb9"
      },
      "cell_type": "code",
      "source": [
        "%%time\n",
        "my_gru.compile(loss='binary_crossentropy',optimizer='adam',metrics=['accuracy'])\n",
        "my_gru.fit(x_train, y_train, batch_size=32, epochs=1)"
      ],
      "execution_count": 16,
      "outputs": [
        {
          "output_type": "stream",
          "text": [
            "Epoch 1/1\n",
            "25000/25000 [==============================] - 114s 5ms/step - loss: 0.5987 - acc: 0.7148\n",
            "CPU times: user 3min 21s, sys: 6.42 s, total: 3min 27s\n",
            "Wall time: 1min 54s\n"
          ],
          "name": "stdout"
        }
      ]
    },
    {
      "metadata": {
        "deletable": false,
        "nbgrader": {
          "checksum": "5e8437dc71a099319e3f2eaa9b8c0d16",
          "grade": false,
          "grade_id": "cell-798617aedf043516",
          "locked": false,
          "schema_version": 1,
          "solution": true
        },
        "id": "7FigLxqOmk2v",
        "colab_type": "code",
        "colab": {}
      },
      "cell_type": "code",
      "source": [
        "# Define lstm_layers which will go into a Sequential model saved as my_lstm\n",
        "# Here we are creating an RNN using LSTMs, add 1 LSTM layer with a dropout and recurrent_dropout\n",
        "# You will need to use an Embedding layer before that to convert the data appropriately\n",
        "# Determine an embedding size and use that for your LSTM layer's output dimensions as well\n",
        "# Finally, create an output layer that applies to our dataset task of binary classification\n",
        "\n",
        "# YOUR CODE HERE\n",
        "lstm_layers = [\n",
        "    Embedding(20000,100),\n",
        "    LSTM(100, dropout=0.01, recurrent_dropout=0.001),\n",
        "    Dense(1, activation='tanh')\n",
        "]\n",
        "my_lstm = Sequential(lstm_layers)"
      ],
      "execution_count": 0,
      "outputs": []
    },
    {
      "metadata": {
        "deletable": false,
        "editable": false,
        "nbgrader": {
          "checksum": "1a0e568fe8c02d9e8ae681db979b4886",
          "grade": true,
          "grade_id": "cell-58a52ce9bceabdee",
          "locked": true,
          "points": 5,
          "schema_version": 1,
          "solution": false
        },
        "id": "NttunIHWmk2y",
        "colab_type": "code",
        "colab": {}
      },
      "cell_type": "code",
      "source": [
        "assert len(lstm_layers) == 3\n",
        "assert isinstance(lstm_layers[0], Embedding)\n",
        "assert isinstance(lstm_layers[1], LSTM)\n",
        "assert isinstance(lstm_layers[2], Dense)\n",
        "assert lstm_layers[0].output_dim == lstm_layers[1].units\n",
        "assert lstm_layers[1].dropout > 0\n",
        "assert lstm_layers[1].recurrent_dropout > 0\n",
        "assert my_lstm"
      ],
      "execution_count": 0,
      "outputs": []
    },
    {
      "metadata": {
        "deletable": false,
        "editable": false,
        "nbgrader": {
          "checksum": "64f5b9ef67549c3ccdd52cf22907a0ed",
          "grade": false,
          "grade_id": "cell-33238b0da6c68f44",
          "locked": true,
          "schema_version": 1,
          "solution": false
        },
        "id": "6EvavJRemk20",
        "colab_type": "code",
        "colab": {
          "base_uri": "https://localhost:8080/",
          "height": 104
        },
        "outputId": "f7c03948-e991-43e9-d68c-fb191399a7bc"
      },
      "cell_type": "code",
      "source": [
        "%%time\n",
        "my_lstm.compile(loss='binary_crossentropy',optimizer='adam',metrics=['accuracy'])\n",
        "my_lstm.fit(x_train, y_train, batch_size=32, epochs=1)"
      ],
      "execution_count": 19,
      "outputs": [
        {
          "output_type": "stream",
          "text": [
            "Epoch 1/1\n",
            "25000/25000 [==============================] - 133s 5ms/step - loss: 0.5347 - acc: 0.7588\n",
            "CPU times: user 3min 58s, sys: 7.62 s, total: 4min 6s\n",
            "Wall time: 2min 14s\n"
          ],
          "name": "stdout"
        }
      ]
    },
    {
      "metadata": {
        "deletable": false,
        "nbgrader": {
          "checksum": "9adc509e79a47e763178ab41854de43a",
          "grade": false,
          "grade_id": "cell-43b2247e569276bc",
          "locked": false,
          "schema_version": 1,
          "solution": true
        },
        "id": "0kgRK_Lxmk22",
        "colab_type": "code",
        "colab": {}
      },
      "cell_type": "code",
      "source": [
        "# Evaluate your models on the test set and save the loss and accuracies to \n",
        "# the appropriate variables:\n",
        "# model_name_loss, model_name_acc\n",
        "\n",
        "# YOUR CODE HERE train fit calculate\n",
        "x,y = x_test,y_test\n",
        "my_simple_loss, my_simple_acc = my_simple.evaluate(x,y,verbose=0)\n",
        "\n",
        "my_gru_loss, my_gru_acc = my_gru.evaluate(x,y,verbose=0)\n",
        "\n",
        "my_lstm_loss, my_lstm_acc = my_lstm.evaluate(x,y,verbose=0)"
      ],
      "execution_count": 0,
      "outputs": []
    },
    {
      "metadata": {
        "deletable": false,
        "editable": false,
        "nbgrader": {
          "checksum": "a0a15ab1242ee6a422212cdf05c096d1",
          "grade": false,
          "grade_id": "cell-24347394026d518c",
          "locked": true,
          "schema_version": 1,
          "solution": false
        },
        "id": "7Tv43F3umk25",
        "colab_type": "code",
        "colab": {
          "base_uri": "https://localhost:8080/",
          "height": 67
        },
        "outputId": "f22c96ba-6215-4a20-841f-e020f3de6af2"
      },
      "cell_type": "code",
      "source": [
        "print(f\"Your simple model achieved an accuracy of {my_simple_acc:.2}.\")\n",
        "print(f\"Your GRU model achieved an accuracy of {my_gru_acc:.2}.\")\n",
        "print(f\"Your LSTM model achieved an accuracy of {my_lstm_acc:.2}.\")"
      ],
      "execution_count": 23,
      "outputs": [
        {
          "output_type": "stream",
          "text": [
            "Your simple model achieved an accuracy of 0.15.\n",
            "Your GRU model achieved an accuracy of 0.76.\n",
            "Your LSTM model achieved an accuracy of 0.82.\n"
          ],
          "name": "stdout"
        }
      ]
    },
    {
      "metadata": {
        "deletable": false,
        "editable": false,
        "nbgrader": {
          "checksum": "3426ed141c7ecdfcb8765e570940a3de",
          "grade": false,
          "grade_id": "cell-95c1830b360ac2b2",
          "locked": true,
          "schema_version": 1,
          "solution": false
        },
        "id": "QrVYsh43mk28",
        "colab_type": "text"
      },
      "cell_type": "markdown",
      "source": [
        "Note that we are only running these models with 1 layer and training them for only 1 epoch. We can easily achieve better results by stacking multiple layers but the model would take a much longer time to train."
      ]
    },
    {
      "metadata": {
        "deletable": false,
        "editable": false,
        "nbgrader": {
          "checksum": "d09aaaa2e38735c05865905d77323d90",
          "grade": true,
          "grade_id": "cell-3e1e2805ce275b4c",
          "locked": true,
          "points": 5,
          "schema_version": 1,
          "solution": false
        },
        "id": "NCHxm76tmk2-",
        "colab_type": "code",
        "colab": {}
      },
      "cell_type": "code",
      "source": [
        "assert my_simple_acc > 0.1\n",
        "assert my_gru_acc > 0.6\n",
        "assert my_lstm_acc > 0.7"
      ],
      "execution_count": 0,
      "outputs": []
    },
    {
      "metadata": {
        "deletable": false,
        "editable": false,
        "nbgrader": {
          "checksum": "830573f46459d11e5238532d8759463e",
          "grade": false,
          "grade_id": "cell-bc503c7f94e3b8bf",
          "locked": true,
          "schema_version": 1,
          "solution": false
        },
        "id": "YkBhC-O0mk3A",
        "colab_type": "text"
      },
      "cell_type": "markdown",
      "source": [
        "## Feedback"
      ]
    },
    {
      "metadata": {
        "deletable": false,
        "nbgrader": {
          "checksum": "ed936ab53a1391c5e6af8df699a1dbf5",
          "grade": false,
          "grade_id": "feedback",
          "locked": false,
          "schema_version": 1,
          "solution": true
        },
        "id": "HwKJp6G7mk3B",
        "colab_type": "code",
        "colab": {}
      },
      "cell_type": "code",
      "source": [
        "def feedback():\n",
        "    \"\"\"Provide feedback on the contents of this exercise\n",
        "    \n",
        "    Returns:\n",
        "        string\n",
        "    \"\"\"\n",
        "    # YOUR CODE HERE\n",
        "    raise NotImplementedError()"
      ],
      "execution_count": 0,
      "outputs": []
    },
    {
      "metadata": {
        "deletable": false,
        "editable": false,
        "nbgrader": {
          "checksum": "f39f6185a54850c2f1f9b5b2a17b7543",
          "grade": true,
          "grade_id": "feedback-tests",
          "locked": true,
          "points": 0,
          "schema_version": 1,
          "solution": false
        },
        "id": "mkrvlY51mk3F",
        "colab_type": "code",
        "colab": {}
      },
      "cell_type": "code",
      "source": [
        ""
      ],
      "execution_count": 0,
      "outputs": []
    }
  ]
}