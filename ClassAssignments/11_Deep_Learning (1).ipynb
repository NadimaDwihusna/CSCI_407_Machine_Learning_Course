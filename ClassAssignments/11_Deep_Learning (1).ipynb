{
  "nbformat": 4,
  "nbformat_minor": 0,
  "metadata": {
    "colab": {
      "name": "11 - Deep Learning.ipynb",
      "version": "0.3.2",
      "provenance": []
    },
    "kernelspec": {
      "name": "python3",
      "display_name": "Python 3"
    }
  },
  "cells": [
    {
      "metadata": {
        "deletable": false,
        "editable": false,
        "nbgrader": {
          "checksum": "24167670d09bdb61d1a595ce5cbb79c9",
          "grade": false,
          "grade_id": "cell-4fb3a6f3d58fd28b",
          "locked": true,
          "schema_version": 1,
          "solution": false
        },
        "id": "88Fd3gjuNqWo",
        "colab_type": "text"
      },
      "cell_type": "markdown",
      "source": [
        "# Deep Learning\n",
        "\n",
        "In this exercise, you will use a deep neural network to predict the values of houses based on some provided input data. You will use keras to build the model. Below is a description of how the keras models are set up."
      ]
    },
    {
      "metadata": {
        "deletable": false,
        "editable": false,
        "nbgrader": {
          "checksum": "6005674ac4967e470a14779876113c34",
          "grade": false,
          "grade_id": "cell-d07727b5ced87bf2",
          "locked": true,
          "schema_version": 1,
          "solution": false
        },
        "id": "0hflaAYYNqWq",
        "colab_type": "code",
        "colab": {}
      },
      "cell_type": "code",
      "source": [
        "import tensorflow as tf\n",
        "import tensorflow.keras as keras\n",
        "import numpy as np\n",
        "\n",
        "np.random.seed(0)"
      ],
      "execution_count": 0,
      "outputs": []
    },
    {
      "metadata": {
        "deletable": false,
        "editable": false,
        "nbgrader": {
          "checksum": "9671de294010d6b1c7292a418de83b6e",
          "grade": false,
          "grade_id": "cell-9b0245844d72bf80",
          "locked": true,
          "schema_version": 1,
          "solution": false
        },
        "id": "5QxDly01NqWt",
        "colab_type": "code",
        "colab": {
          "base_uri": "https://localhost:8080/",
          "height": 51
        },
        "outputId": "01c850d7-0998-4574-854b-5096e72a7c8c"
      },
      "cell_type": "code",
      "source": [
        "(x_train, y_train), (x_test, y_test) = tf.keras.datasets.boston_housing.load_data()"
      ],
      "execution_count": 2,
      "outputs": [
        {
          "output_type": "stream",
          "text": [
            "Downloading data from https://storage.googleapis.com/tensorflow/tf-keras-datasets/boston_housing.npz\n",
            "57344/57026 [==============================] - 0s 0us/step\n"
          ],
          "name": "stdout"
        }
      ]
    },
    {
      "metadata": {
        "deletable": false,
        "editable": false,
        "nbgrader": {
          "checksum": "3527a9c335ebfaef9a7e5705a051f3e7",
          "grade": false,
          "grade_id": "cell-e2de7844f2c7f49e",
          "locked": true,
          "schema_version": 1,
          "solution": false
        },
        "id": "qIUORfugNqWw",
        "colab_type": "code",
        "colab": {
          "base_uri": "https://localhost:8080/",
          "height": 34
        },
        "outputId": "60309e08-9d83-478a-be7e-7f5589c1addc"
      },
      "cell_type": "code",
      "source": [
        "x_train.shape"
      ],
      "execution_count": 3,
      "outputs": [
        {
          "output_type": "execute_result",
          "data": {
            "text/plain": [
              "(404, 13)"
            ]
          },
          "metadata": {
            "tags": []
          },
          "execution_count": 3
        }
      ]
    },
    {
      "metadata": {
        "deletable": false,
        "editable": false,
        "nbgrader": {
          "checksum": "77b73fcd17ac138c678b9c355259bb7f",
          "grade": false,
          "grade_id": "cell-33b45d559f48738f",
          "locked": true,
          "schema_version": 1,
          "solution": false
        },
        "id": "2aG1JQTbNqWy",
        "colab_type": "code",
        "colab": {
          "base_uri": "https://localhost:8080/",
          "height": 34
        },
        "outputId": "64cec5ad-2ace-41f8-ee57-4bfe5be89317"
      },
      "cell_type": "code",
      "source": [
        "y_train.shape"
      ],
      "execution_count": 4,
      "outputs": [
        {
          "output_type": "execute_result",
          "data": {
            "text/plain": [
              "(404,)"
            ]
          },
          "metadata": {
            "tags": []
          },
          "execution_count": 4
        }
      ]
    },
    {
      "metadata": {
        "deletable": false,
        "editable": false,
        "nbgrader": {
          "checksum": "f8d293a6e2d86c0ca74af9b20b395d2a",
          "grade": false,
          "grade_id": "cell-831e0268417ab95a",
          "locked": true,
          "schema_version": 1,
          "solution": false
        },
        "id": "c-tUErJYNqW1",
        "colab_type": "code",
        "colab": {
          "base_uri": "https://localhost:8080/",
          "height": 34
        },
        "outputId": "f9bd1789-5d57-47d3-8739-b84e61b0dc5e"
      },
      "cell_type": "code",
      "source": [
        "y_train.mean(), y_train.std()"
      ],
      "execution_count": 5,
      "outputs": [
        {
          "output_type": "execute_result",
          "data": {
            "text/plain": [
              "(22.395049504950492, 9.199035423364862)"
            ]
          },
          "metadata": {
            "tags": []
          },
          "execution_count": 5
        }
      ]
    },
    {
      "metadata": {
        "deletable": false,
        "editable": false,
        "nbgrader": {
          "checksum": "014ebf37af531587765a98e35734641e",
          "grade": false,
          "grade_id": "cell-2f0fe3b3a560d952",
          "locked": true,
          "schema_version": 1,
          "solution": false
        },
        "id": "bXEi3A1ONqW5",
        "colab_type": "text"
      },
      "cell_type": "markdown",
      "source": [
        "The keras model consists of multiple parts:\n",
        "\n",
        "1. Construct the model layers, neurons per layer, activation function\n",
        "1. Determine the loss function, metrics and optimization method\n",
        "1. Fit the model to some data\n",
        "1. Evaluate the model using the same metric\n",
        "\n",
        "Some relevant docs:\n",
        " - [initializers](https://keras.io/initializers/)\n",
        " - [loss functions](https://www.tensorflow.org/api_docs/python/tf/keras/losses)\n",
        " - [regularizations](https://keras.io/regularizers/)\n",
        " - [optimizers](https://keras.io/optimizers/)\n",
        " - [metrics](https://www.tensorflow.org/api_docs/python/tf/keras/metrics)\n"
      ]
    },
    {
      "metadata": {
        "deletable": false,
        "editable": false,
        "nbgrader": {
          "checksum": "f3dd5f5299a0c880478d542d5ac8cea0",
          "grade": false,
          "grade_id": "cell-cae21934fa064b47",
          "locked": true,
          "schema_version": 1,
          "solution": false
        },
        "id": "39YyU_wnNqW6",
        "colab_type": "text"
      },
      "cell_type": "markdown",
      "source": [
        "First, to construct a model, use the [Sequential](https://keras.io/getting-started/sequential-model-guide/) object. You can pass multiple layers to the sequential object. For this exercise, we will only be using the [Dense](https://keras.io/layers/core/#dense) layers."
      ]
    },
    {
      "metadata": {
        "deletable": false,
        "nbgrader": {
          "checksum": "4b7a9df9aa612c24387bb4e16352bd6b",
          "grade": false,
          "grade_id": "cell-51879de7032d8823",
          "locked": false,
          "schema_version": 1,
          "solution": true
        },
        "id": "_K1MZcOCNqW7",
        "colab_type": "code",
        "colab": {}
      },
      "cell_type": "code",
      "source": [
        "# Create 3 hidden layers and an output layer with 13, 6, 3 neurons respectively and set them to layers\n",
        "# Use any activation you like such as \"relu\" or \"tanh\", you can alternate for each layer\n",
        "# YOUR CODE HERE\n",
        "#raise NotImplementedError()\n",
        "\n",
        "layers = [\n",
        "    keras.layers.Dense(13, input_shape=(13,), activation='relu'), \n",
        "    keras.layers.Dense(6, activation='tanh'), \n",
        "    keras.layers.Dense(3, activation='relu'), \n",
        "    keras.layers.Dense(1, activation='tanh')\n",
        "]\n",
        "model = keras.Sequential(layers)\n"
      ],
      "execution_count": 0,
      "outputs": []
    },
    {
      "metadata": {
        "id": "kPeCZYseSWWI",
        "colab_type": "code",
        "colab": {
          "base_uri": "https://localhost:8080/",
          "height": 34
        },
        "outputId": "01747841-1bf9-4cfa-87b6-5f546fb45f62"
      },
      "cell_type": "code",
      "source": [
        "len(layers)"
      ],
      "execution_count": 62,
      "outputs": [
        {
          "output_type": "execute_result",
          "data": {
            "text/plain": [
              "4"
            ]
          },
          "metadata": {
            "tags": []
          },
          "execution_count": 62
        }
      ]
    },
    {
      "metadata": {
        "deletable": false,
        "editable": false,
        "nbgrader": {
          "checksum": "860beaa7b288adcace8a3e483737b742",
          "grade": true,
          "grade_id": "cell-ee74eff075f222ed",
          "locked": true,
          "points": 5,
          "schema_version": 1,
          "solution": false
        },
        "id": "wgESnLwkNqW9",
        "colab_type": "code",
        "colab": {}
      },
      "cell_type": "code",
      "source": [
        "assert len(layers) == 4\n",
        "for i,layer in enumerate(layers):\n",
        "    assert isinstance(layers[i], keras.layers.Dense) \n",
        "    assert layer.weights[1].shape == [13,6,3,1][i]"
      ],
      "execution_count": 0,
      "outputs": []
    },
    {
      "metadata": {
        "deletable": false,
        "nbgrader": {
          "checksum": "e68f565f584eb5f9037e27a7cc55a6b2",
          "grade": false,
          "grade_id": "cell-9c5dcca57115d02a",
          "locked": false,
          "schema_version": 1,
          "solution": true
        },
        "id": "CnBGREsKNqXB",
        "colab_type": "code",
        "colab": {}
      },
      "cell_type": "code",
      "source": [
        "# Set up the model to do the following:\n",
        "# - use stochastic gradient descent to fit the model\n",
        "# - use mean absolute error as its loss function\n",
        "# - use mean absolute error as one of its metrics\n",
        "\n",
        "# YOUR CODE HERE\n",
        "model.compile(optimizer='SGD',\n",
        "              loss='mean_absolute_error',\n",
        "              metrics=['mean_absolute_error'])\n"
      ],
      "execution_count": 0,
      "outputs": []
    },
    {
      "metadata": {
        "deletable": false,
        "editable": false,
        "nbgrader": {
          "checksum": "25fa9e41e8dd253b09e578b10c49d8dd",
          "grade": true,
          "grade_id": "cell-0746e29c34118826",
          "locked": true,
          "points": 5,
          "schema_version": 1,
          "solution": false
        },
        "id": "O7-DIb66NqXE",
        "colab_type": "code",
        "colab": {}
      },
      "cell_type": "code",
      "source": [
        "assert isinstance(model.optimizer, keras.optimizers.SGD)\n",
        "assert model.loss in [\"mae\", \"mean_absolute_error\"]\n",
        "assert \"mae\" in model.metrics or \"mean_absolute_error\" in model.metrics"
      ],
      "execution_count": 0,
      "outputs": []
    },
    {
      "metadata": {
        "deletable": false,
        "editable": false,
        "nbgrader": {
          "checksum": "d8a9b2e8c47a7fe3d043d565b5c269f6",
          "grade": false,
          "grade_id": "cell-d8bbd77fa779d371",
          "locked": true,
          "schema_version": 1,
          "solution": false
        },
        "id": "EvdZ8KxMNqXH",
        "colab_type": "code",
        "colab": {
          "base_uri": "https://localhost:8080/",
          "height": 1972
        },
        "outputId": "34b73f51-11fd-48f6-e87b-2945d4901f4c"
      },
      "cell_type": "code",
      "source": [
        "# Now fit the model and print a summary for it\n",
        "model.fit(x_train, y_train, epochs=50)\n",
        "model.summary()"
      ],
      "execution_count": 70,
      "outputs": [
        {
          "output_type": "stream",
          "text": [
            "Epoch 1/50\n",
            "404/404 [==============================] - 0s 1ms/step - loss: 22.3371 - mean_absolute_error: 22.3371\n",
            "Epoch 2/50\n",
            "404/404 [==============================] - 0s 41us/step - loss: 22.2114 - mean_absolute_error: 22.2114\n",
            "Epoch 3/50\n",
            "404/404 [==============================] - 0s 42us/step - loss: 22.0964 - mean_absolute_error: 22.0964\n",
            "Epoch 4/50\n",
            "404/404 [==============================] - 0s 42us/step - loss: 21.9963 - mean_absolute_error: 21.9963\n",
            "Epoch 5/50\n",
            "404/404 [==============================] - 0s 42us/step - loss: 21.9120 - mean_absolute_error: 21.9120\n",
            "Epoch 6/50\n",
            "404/404 [==============================] - 0s 41us/step - loss: 21.8424 - mean_absolute_error: 21.8424\n",
            "Epoch 7/50\n",
            "404/404 [==============================] - 0s 43us/step - loss: 21.7853 - mean_absolute_error: 21.7853\n",
            "Epoch 8/50\n",
            "404/404 [==============================] - 0s 43us/step - loss: 21.7386 - mean_absolute_error: 21.7386\n",
            "Epoch 9/50\n",
            "404/404 [==============================] - 0s 47us/step - loss: 21.7002 - mean_absolute_error: 21.7002\n",
            "Epoch 10/50\n",
            "404/404 [==============================] - 0s 41us/step - loss: 21.6683 - mean_absolute_error: 21.6683\n",
            "Epoch 11/50\n",
            "404/404 [==============================] - 0s 42us/step - loss: 21.6417 - mean_absolute_error: 21.6417\n",
            "Epoch 12/50\n",
            "404/404 [==============================] - 0s 44us/step - loss: 21.6192 - mean_absolute_error: 21.6192\n",
            "Epoch 13/50\n",
            "404/404 [==============================] - 0s 43us/step - loss: 21.6001 - mean_absolute_error: 21.6001\n",
            "Epoch 14/50\n",
            "404/404 [==============================] - 0s 48us/step - loss: 21.5837 - mean_absolute_error: 21.5837\n",
            "Epoch 15/50\n",
            "404/404 [==============================] - 0s 46us/step - loss: 21.5695 - mean_absolute_error: 21.5695\n",
            "Epoch 16/50\n",
            "404/404 [==============================] - 0s 46us/step - loss: 21.5571 - mean_absolute_error: 21.5571\n",
            "Epoch 17/50\n",
            "404/404 [==============================] - 0s 49us/step - loss: 21.5463 - mean_absolute_error: 21.5463\n",
            "Epoch 18/50\n",
            "404/404 [==============================] - 0s 43us/step - loss: 21.5367 - mean_absolute_error: 21.5367\n",
            "Epoch 19/50\n",
            "404/404 [==============================] - 0s 43us/step - loss: 21.5281 - mean_absolute_error: 21.5281\n",
            "Epoch 20/50\n",
            "404/404 [==============================] - 0s 45us/step - loss: 21.5205 - mean_absolute_error: 21.5205\n",
            "Epoch 21/50\n",
            "404/404 [==============================] - 0s 47us/step - loss: 21.5137 - mean_absolute_error: 21.5137\n",
            "Epoch 22/50\n",
            "404/404 [==============================] - 0s 47us/step - loss: 21.5075 - mean_absolute_error: 21.5075\n",
            "Epoch 23/50\n",
            "404/404 [==============================] - 0s 45us/step - loss: 21.5019 - mean_absolute_error: 21.5019\n",
            "Epoch 24/50\n",
            "404/404 [==============================] - 0s 45us/step - loss: 21.4968 - mean_absolute_error: 21.4968\n",
            "Epoch 25/50\n",
            "404/404 [==============================] - 0s 42us/step - loss: 21.4922 - mean_absolute_error: 21.4922\n",
            "Epoch 26/50\n",
            "404/404 [==============================] - 0s 43us/step - loss: 21.4879 - mean_absolute_error: 21.4879\n",
            "Epoch 27/50\n",
            "404/404 [==============================] - 0s 40us/step - loss: 21.4840 - mean_absolute_error: 21.4840\n",
            "Epoch 28/50\n",
            "404/404 [==============================] - 0s 42us/step - loss: 21.4804 - mean_absolute_error: 21.4804\n",
            "Epoch 29/50\n",
            "404/404 [==============================] - 0s 44us/step - loss: 21.4770 - mean_absolute_error: 21.4770\n",
            "Epoch 30/50\n",
            "404/404 [==============================] - 0s 43us/step - loss: 21.4739 - mean_absolute_error: 21.4739\n",
            "Epoch 31/50\n",
            "404/404 [==============================] - 0s 42us/step - loss: 21.4710 - mean_absolute_error: 21.4710\n",
            "Epoch 32/50\n",
            "404/404 [==============================] - 0s 52us/step - loss: 21.4684 - mean_absolute_error: 21.4684\n",
            "Epoch 33/50\n",
            "404/404 [==============================] - 0s 44us/step - loss: 21.4658 - mean_absolute_error: 21.4658\n",
            "Epoch 34/50\n",
            "404/404 [==============================] - 0s 44us/step - loss: 21.4635 - mean_absolute_error: 21.4635\n",
            "Epoch 35/50\n",
            "404/404 [==============================] - 0s 44us/step - loss: 21.4613 - mean_absolute_error: 21.4613\n",
            "Epoch 36/50\n",
            "404/404 [==============================] - 0s 44us/step - loss: 21.4592 - mean_absolute_error: 21.4592\n",
            "Epoch 37/50\n",
            "404/404 [==============================] - 0s 48us/step - loss: 21.4573 - mean_absolute_error: 21.4573\n",
            "Epoch 38/50\n",
            "404/404 [==============================] - 0s 46us/step - loss: 21.4554 - mean_absolute_error: 21.4554\n",
            "Epoch 39/50\n",
            "404/404 [==============================] - 0s 52us/step - loss: 21.4537 - mean_absolute_error: 21.4537\n",
            "Epoch 40/50\n",
            "404/404 [==============================] - 0s 51us/step - loss: 21.4521 - mean_absolute_error: 21.4521\n",
            "Epoch 41/50\n",
            "404/404 [==============================] - 0s 49us/step - loss: 21.4505 - mean_absolute_error: 21.4505\n",
            "Epoch 42/50\n",
            "404/404 [==============================] - 0s 42us/step - loss: 21.4490 - mean_absolute_error: 21.4490\n",
            "Epoch 43/50\n",
            "404/404 [==============================] - 0s 40us/step - loss: 21.4476 - mean_absolute_error: 21.4476\n",
            "Epoch 44/50\n",
            "404/404 [==============================] - 0s 45us/step - loss: 21.4463 - mean_absolute_error: 21.4463\n",
            "Epoch 45/50\n",
            "404/404 [==============================] - 0s 40us/step - loss: 21.4450 - mean_absolute_error: 21.4450\n",
            "Epoch 46/50\n",
            "404/404 [==============================] - 0s 41us/step - loss: 21.4438 - mean_absolute_error: 21.4438\n",
            "Epoch 47/50\n",
            "404/404 [==============================] - 0s 42us/step - loss: 21.4427 - mean_absolute_error: 21.4427\n",
            "Epoch 48/50\n",
            "404/404 [==============================] - 0s 42us/step - loss: 21.4416 - mean_absolute_error: 21.4416\n",
            "Epoch 49/50\n",
            "404/404 [==============================] - 0s 50us/step - loss: 21.4405 - mean_absolute_error: 21.4405\n",
            "Epoch 50/50\n",
            "404/404 [==============================] - 0s 41us/step - loss: 21.4395 - mean_absolute_error: 21.4395\n",
            "_________________________________________________________________\n",
            "Layer (type)                 Output Shape              Param #   \n",
            "=================================================================\n",
            "dense_62 (Dense)             (None, 13)                182       \n",
            "_________________________________________________________________\n",
            "dense_63 (Dense)             (None, 6)                 84        \n",
            "_________________________________________________________________\n",
            "dense_64 (Dense)             (None, 3)                 21        \n",
            "_________________________________________________________________\n",
            "dense_65 (Dense)             (None, 1)                 4         \n",
            "=================================================================\n",
            "Total params: 291\n",
            "Trainable params: 291\n",
            "Non-trainable params: 0\n",
            "_________________________________________________________________\n"
          ],
          "name": "stdout"
        }
      ]
    },
    {
      "metadata": {
        "deletable": false,
        "editable": false,
        "nbgrader": {
          "checksum": "5979703b794f01a2821f23e974076f93",
          "grade": false,
          "grade_id": "cell-d280c00c6cabc586",
          "locked": true,
          "schema_version": 1,
          "solution": false
        },
        "id": "XnPiAzQlNqXK",
        "colab_type": "code",
        "colab": {
          "base_uri": "https://localhost:8080/",
          "height": 51
        },
        "outputId": "eeccf191-e927-4a09-b958-b1f67b10767f"
      },
      "cell_type": "code",
      "source": [
        "# Here we can evaluate how our model does based on the test data\n",
        "model.evaluate(x_test, y_test)"
      ],
      "execution_count": 71,
      "outputs": [
        {
          "output_type": "stream",
          "text": [
            "102/102 [==============================] - 0s 818us/step\n"
          ],
          "name": "stdout"
        },
        {
          "output_type": "execute_result",
          "data": {
            "text/plain": [
              "[22.122359518911324, 22.122359518911324]"
            ]
          },
          "metadata": {
            "tags": []
          },
          "execution_count": 71
        }
      ]
    },
    {
      "metadata": {
        "deletable": false,
        "editable": false,
        "nbgrader": {
          "checksum": "bbf1560afd7512cba3aa96d70fd96ab0",
          "grade": false,
          "grade_id": "cell-f88eeeebe2137b4d",
          "locked": true,
          "schema_version": 1,
          "solution": false
        },
        "id": "S-VZJMjsNqXM",
        "colab_type": "text"
      },
      "cell_type": "markdown",
      "source": [
        "Now let's try another optimizer instead of stochastic gradient descent. [Adam](https://keras.io/optimizers/#adam) is the recommended default for training neural networks since it usually performs quite well. In the next cell, compile the model with adam instead of sgd and use the same loss and metrics. After compiling, fit the data for as many epochs as you think it takes to see the value start to converge."
      ]
    },
    {
      "metadata": {
        "deletable": false,
        "nbgrader": {
          "checksum": "f42a483db0decace40861c20d3971e73",
          "grade": false,
          "grade_id": "cell-bee688f3d919be61",
          "locked": false,
          "schema_version": 1,
          "solution": true
        },
        "id": "FynnTzuUNqXO",
        "colab_type": "code",
        "colab": {}
      },
      "cell_type": "code",
      "source": [
        "# Compile the model using adam\n",
        "# YOUR CODE HERE\n",
        "\n",
        "model.compile(optimizer='Adam',\n",
        "              loss='mean_absolute_error',\n",
        "              metrics=['mean_absolute_error'])"
      ],
      "execution_count": 0,
      "outputs": []
    },
    {
      "metadata": {
        "deletable": false,
        "editable": false,
        "nbgrader": {
          "checksum": "bfea89f456ba664ef82c6ad9db0e6ea3",
          "grade": true,
          "grade_id": "cell-fe8cd91b8b780964",
          "locked": true,
          "points": 5,
          "schema_version": 1,
          "solution": false
        },
        "id": "IkTwTpCVNqXS",
        "colab_type": "code",
        "colab": {}
      },
      "cell_type": "code",
      "source": [
        "assert isinstance(model.optimizer, keras.optimizers.Adam)\n",
        "assert model.loss in [\"mae\", \"mean_absolute_error\"]\n",
        "assert \"mae\" in model.metrics or \"mean_absolute_error\" in model.metrics"
      ],
      "execution_count": 0,
      "outputs": []
    },
    {
      "metadata": {
        "deletable": false,
        "editable": false,
        "nbgrader": {
          "checksum": "7c0fd9f800dd0097d1fc6f8f231066ff",
          "grade": false,
          "grade_id": "cell-d5b63d6e873e152e",
          "locked": true,
          "schema_version": 1,
          "solution": false
        },
        "id": "OHgT50D7NqXW",
        "colab_type": "code",
        "colab": {
          "base_uri": "https://localhost:8080/",
          "height": 51
        },
        "outputId": "42d330f3-189e-46d9-975a-4dc9a2a1af8b"
      },
      "cell_type": "code",
      "source": [
        "model.evaluate(x_test, y_test)"
      ],
      "execution_count": 74,
      "outputs": [
        {
          "output_type": "stream",
          "text": [
            "102/102 [==============================] - 0s 2ms/step\n"
          ],
          "name": "stdout"
        },
        {
          "output_type": "execute_result",
          "data": {
            "text/plain": [
              "[22.122359518911324, 22.122359518911324]"
            ]
          },
          "metadata": {
            "tags": []
          },
          "execution_count": 74
        }
      ]
    },
    {
      "metadata": {
        "deletable": false,
        "editable": false,
        "nbgrader": {
          "checksum": "5ad5cb2f66611cb66544923bb1daef30",
          "grade": false,
          "grade_id": "cell-9ce06e7b86737575",
          "locked": true,
          "schema_version": 1,
          "solution": false
        },
        "id": "O4IqIXNMNqXZ",
        "colab_type": "text"
      },
      "cell_type": "markdown",
      "source": [
        "Now recreate the model with dropout layers. Add 2 dropout layers, each after the first or second layer respectively. Select a low value of dropout that results in a good score."
      ]
    },
    {
      "metadata": {
        "deletable": false,
        "nbgrader": {
          "checksum": "85466d06b24948ef13db699d6942298a",
          "grade": false,
          "grade_id": "cell-d5040e44398f8dc9",
          "locked": false,
          "schema_version": 1,
          "solution": true
        },
        "id": "oHeMNyEpNqXa",
        "colab_type": "code",
        "colab": {}
      },
      "cell_type": "code",
      "source": [
        "# YOUR CODE HERE\n",
        "layers = [\n",
        "    keras.layers.Dense(13, input_shape=(13,), activation='relu'), \n",
        "    keras.layers.Dropout(0.1),\n",
        "    keras.layers.Dense(6, activation='tanh'),\n",
        "    keras.layers.Dropout(0.01),\n",
        "    keras.layers.Dense(3, activation='relu'), \n",
        "    keras.layers.Dense(1, activation='tanh')\n",
        "]\n",
        "model = keras.Sequential(layers)\n",
        "\n",
        "\n",
        "model.compile(optimizer='Adam',\n",
        "              loss='mean_absolute_error',\n",
        "              metrics=['mean_absolute_error'])"
      ],
      "execution_count": 0,
      "outputs": []
    },
    {
      "metadata": {
        "deletable": false,
        "editable": false,
        "nbgrader": {
          "checksum": "6887239d6583ff33ab2d4a0bc67b2c77",
          "grade": true,
          "grade_id": "cell-b6c7e6e2ddc6742a",
          "locked": true,
          "points": 5,
          "schema_version": 1,
          "solution": false
        },
        "id": "f95Mtd-gNqXd",
        "colab_type": "code",
        "colab": {}
      },
      "cell_type": "code",
      "source": [
        "assert len(layers) == 6\n",
        "assert isinstance(layers[1], keras.layers.Dropout)\n",
        "assert isinstance(layers[3], keras.layers.Dropout)\n",
        "for i,layer in enumerate(layers):\n",
        "    if i not in [1,3]:\n",
        "        assert isinstance(layers[i], keras.layers.Dense) \n",
        "        assert layer.weights[1].shape == [13,0,6,0,3,1][i]"
      ],
      "execution_count": 0,
      "outputs": []
    },
    {
      "metadata": {
        "deletable": false,
        "editable": false,
        "nbgrader": {
          "checksum": "f9966c8415ea47dd929702ca4e9e962d",
          "grade": false,
          "grade_id": "cell-6179f8d29fe18a67",
          "locked": true,
          "schema_version": 1,
          "solution": false
        },
        "id": "ioMNrTKZNqXf",
        "colab_type": "code",
        "colab": {
          "base_uri": "https://localhost:8080/",
          "height": 340
        },
        "outputId": "7deb3544-64e8-41d2-e955-218b7c9d8501"
      },
      "cell_type": "code",
      "source": [
        "model.compile(optimizer='adam', loss='mae', metrics=['mae', \"mse\"])\n",
        "model.fit(x_train, y_train, epochs=500, verbose=0)\n",
        "model.summary()"
      ],
      "execution_count": 90,
      "outputs": [
        {
          "output_type": "stream",
          "text": [
            "_________________________________________________________________\n",
            "Layer (type)                 Output Shape              Param #   \n",
            "=================================================================\n",
            "dense_74 (Dense)             (None, 13)                182       \n",
            "_________________________________________________________________\n",
            "dropout_6 (Dropout)          (None, 13)                0         \n",
            "_________________________________________________________________\n",
            "dense_75 (Dense)             (None, 6)                 84        \n",
            "_________________________________________________________________\n",
            "dropout_7 (Dropout)          (None, 6)                 0         \n",
            "_________________________________________________________________\n",
            "dense_76 (Dense)             (None, 3)                 21        \n",
            "_________________________________________________________________\n",
            "dense_77 (Dense)             (None, 1)                 4         \n",
            "=================================================================\n",
            "Total params: 291\n",
            "Trainable params: 291\n",
            "Non-trainable params: 0\n",
            "_________________________________________________________________\n"
          ],
          "name": "stdout"
        }
      ]
    },
    {
      "metadata": {
        "deletable": false,
        "editable": false,
        "nbgrader": {
          "checksum": "fb0913cba0c0963d9bbea2016ac4f5b3",
          "grade": false,
          "grade_id": "cell-9ed3ec168ee4a1e5",
          "locked": true,
          "schema_version": 1,
          "solution": false
        },
        "id": "YitSVIpnNqXi",
        "colab_type": "code",
        "colab": {
          "base_uri": "https://localhost:8080/",
          "height": 51
        },
        "outputId": "e4f8b732-9440-4c57-dfc4-3e6f60826a17"
      },
      "cell_type": "code",
      "source": [
        "model.evaluate(x_test, y_test)"
      ],
      "execution_count": 92,
      "outputs": [
        {
          "output_type": "stream",
          "text": [
            "102/102 [==============================] - 0s 93us/step\n"
          ],
          "name": "stdout"
        },
        {
          "output_type": "execute_result",
          "data": {
            "text/plain": [
              "[22.078435561236212, 22.078435561236212, 570.7011335784314]"
            ]
          },
          "metadata": {
            "tags": []
          },
          "execution_count": 92
        }
      ]
    },
    {
      "metadata": {
        "deletable": false,
        "editable": false,
        "nbgrader": {
          "checksum": "92cd81b54e6431d104554eef1db546f4",
          "grade": false,
          "grade_id": "cell-06909b3cd0248748",
          "locked": true,
          "schema_version": 1,
          "solution": false
        },
        "id": "_NWoYjwuNqXl",
        "colab_type": "text"
      },
      "cell_type": "markdown",
      "source": [
        "Select a dropout rate that gets an okay score."
      ]
    },
    {
      "metadata": {
        "deletable": false,
        "editable": false,
        "nbgrader": {
          "checksum": "23648526b4581cb6ea5df76b63c45274",
          "grade": false,
          "grade_id": "cell-bdd8daf85b096db9",
          "locked": true,
          "schema_version": 1,
          "solution": false
        },
        "id": "879bZriXNqXo",
        "colab_type": "text"
      },
      "cell_type": "markdown",
      "source": [
        "## Feedback"
      ]
    },
    {
      "metadata": {
        "deletable": false,
        "nbgrader": {
          "checksum": "ed936ab53a1391c5e6af8df699a1dbf5",
          "grade": false,
          "grade_id": "feedback",
          "locked": false,
          "schema_version": 1,
          "solution": true
        },
        "id": "lGbRnQe5NqXp",
        "colab_type": "code",
        "colab": {}
      },
      "cell_type": "code",
      "source": [
        "def feedback():\n",
        "    \"\"\"Provide feedback on the contents of this exercise\n",
        "    \n",
        "    Returns:\n",
        "        string\n",
        "    \"\"\"\n",
        "    # YOUR CODE HERE\n",
        "    raise NotImplementedError()"
      ],
      "execution_count": 0,
      "outputs": []
    },
    {
      "metadata": {
        "deletable": false,
        "editable": false,
        "nbgrader": {
          "checksum": "f39f6185a54850c2f1f9b5b2a17b7543",
          "grade": true,
          "grade_id": "feedback-tests",
          "locked": true,
          "points": 0,
          "schema_version": 1,
          "solution": false
        },
        "id": "k9HXgMFaNqXs",
        "colab_type": "code",
        "colab": {}
      },
      "cell_type": "code",
      "source": [
        ""
      ],
      "execution_count": 0,
      "outputs": []
    }
  ]
}