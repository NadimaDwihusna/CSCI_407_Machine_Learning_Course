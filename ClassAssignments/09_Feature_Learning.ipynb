{
  "nbformat": 4,
  "nbformat_minor": 0,
  "metadata": {
    "colab": {
      "name": "09 - Feature Learning.ipynb",
      "version": "0.3.2",
      "provenance": []
    },
    "kernelspec": {
      "name": "python3",
      "display_name": "Python 3"
    }
  },
  "cells": [
    {
      "metadata": {
        "id": "TmbWCY5ccdF1",
        "colab_type": "text"
      },
      "cell_type": "markdown",
      "source": [
        "# Feature Learning\n",
        "\n",
        "In this exercise we will use a dataset with high dimensionality and apply machine learning methods to it after various feature learning methods."
      ]
    },
    {
      "metadata": {
        "id": "LPFvRTK8cdF3",
        "colab_type": "code",
        "colab": {}
      },
      "cell_type": "code",
      "source": [
        "import numpy as np\n",
        "import pandas as pd\n",
        "import matplotlib\n",
        "import matplotlib.pyplot as plt\n",
        "import sklearn as sk\n",
        "\n",
        "plt.style.use(\"ggplot\")"
      ],
      "execution_count": 0,
      "outputs": []
    },
    {
      "metadata": {
        "id": "X3SPWQB8cdF6",
        "colab_type": "code",
        "colab": {}
      },
      "cell_type": "code",
      "source": [
        "from sklearn.datasets import fetch_california_housing\n",
        "from sklearn.model_selection import train_test_split, GridSearchCV\n",
        "from sklearn.feature_selection import SelectKBest, mutual_info_regression, RFE\n",
        "from sklearn.linear_model import LinearRegression, LassoCV\n",
        "from sklearn.decomposition import PCA"
      ],
      "execution_count": 0,
      "outputs": []
    },
    {
      "metadata": {
        "id": "QSRc2jKocdF9",
        "colab_type": "text"
      },
      "cell_type": "markdown",
      "source": [
        "The data we'll be working with is the [California housing dataset](http://scikit-learn.org/stable/datasets/index.html#california-housing-dataset)."
      ]
    },
    {
      "metadata": {
        "id": "P4kWdsdHcdF-",
        "colab_type": "code",
        "colab": {
          "base_uri": "https://localhost:8080/",
          "height": 54
        },
        "outputId": "5be577f1-dfdf-417f-a6bc-fce6715b063f"
      },
      "cell_type": "code",
      "source": [
        "house_data = fetch_california_housing()"
      ],
      "execution_count": 3,
      "outputs": [
        {
          "output_type": "stream",
          "text": [
            "Downloading Cal. housing from https://ndownloader.figshare.com/files/5976036 to /root/scikit_learn_data\n"
          ],
          "name": "stderr"
        }
      ]
    },
    {
      "metadata": {
        "id": "Zmb539oBcdGA",
        "colab_type": "code",
        "colab": {}
      },
      "cell_type": "code",
      "source": [
        "house_features = pd.DataFrame(house_data[\"data\"], columns=house_data[\"feature_names\"])\n",
        "house_prices = pd.Series(house_data[\"target\"])"
      ],
      "execution_count": 0,
      "outputs": []
    },
    {
      "metadata": {
        "id": "MNsfOKFecdGD",
        "colab_type": "code",
        "colab": {
          "base_uri": "https://localhost:8080/",
          "height": 204
        },
        "outputId": "b4ba05ed-8ebd-404e-b9a1-9ec90a429877"
      },
      "cell_type": "code",
      "source": [
        "house_features.head()"
      ],
      "execution_count": 5,
      "outputs": [
        {
          "output_type": "execute_result",
          "data": {
            "text/html": [
              "<div>\n",
              "<style scoped>\n",
              "    .dataframe tbody tr th:only-of-type {\n",
              "        vertical-align: middle;\n",
              "    }\n",
              "\n",
              "    .dataframe tbody tr th {\n",
              "        vertical-align: top;\n",
              "    }\n",
              "\n",
              "    .dataframe thead th {\n",
              "        text-align: right;\n",
              "    }\n",
              "</style>\n",
              "<table border=\"1\" class=\"dataframe\">\n",
              "  <thead>\n",
              "    <tr style=\"text-align: right;\">\n",
              "      <th></th>\n",
              "      <th>MedInc</th>\n",
              "      <th>HouseAge</th>\n",
              "      <th>AveRooms</th>\n",
              "      <th>AveBedrms</th>\n",
              "      <th>Population</th>\n",
              "      <th>AveOccup</th>\n",
              "      <th>Latitude</th>\n",
              "      <th>Longitude</th>\n",
              "    </tr>\n",
              "  </thead>\n",
              "  <tbody>\n",
              "    <tr>\n",
              "      <th>0</th>\n",
              "      <td>8.3252</td>\n",
              "      <td>41.0</td>\n",
              "      <td>6.984127</td>\n",
              "      <td>1.023810</td>\n",
              "      <td>322.0</td>\n",
              "      <td>2.555556</td>\n",
              "      <td>37.88</td>\n",
              "      <td>-122.23</td>\n",
              "    </tr>\n",
              "    <tr>\n",
              "      <th>1</th>\n",
              "      <td>8.3014</td>\n",
              "      <td>21.0</td>\n",
              "      <td>6.238137</td>\n",
              "      <td>0.971880</td>\n",
              "      <td>2401.0</td>\n",
              "      <td>2.109842</td>\n",
              "      <td>37.86</td>\n",
              "      <td>-122.22</td>\n",
              "    </tr>\n",
              "    <tr>\n",
              "      <th>2</th>\n",
              "      <td>7.2574</td>\n",
              "      <td>52.0</td>\n",
              "      <td>8.288136</td>\n",
              "      <td>1.073446</td>\n",
              "      <td>496.0</td>\n",
              "      <td>2.802260</td>\n",
              "      <td>37.85</td>\n",
              "      <td>-122.24</td>\n",
              "    </tr>\n",
              "    <tr>\n",
              "      <th>3</th>\n",
              "      <td>5.6431</td>\n",
              "      <td>52.0</td>\n",
              "      <td>5.817352</td>\n",
              "      <td>1.073059</td>\n",
              "      <td>558.0</td>\n",
              "      <td>2.547945</td>\n",
              "      <td>37.85</td>\n",
              "      <td>-122.25</td>\n",
              "    </tr>\n",
              "    <tr>\n",
              "      <th>4</th>\n",
              "      <td>3.8462</td>\n",
              "      <td>52.0</td>\n",
              "      <td>6.281853</td>\n",
              "      <td>1.081081</td>\n",
              "      <td>565.0</td>\n",
              "      <td>2.181467</td>\n",
              "      <td>37.85</td>\n",
              "      <td>-122.25</td>\n",
              "    </tr>\n",
              "  </tbody>\n",
              "</table>\n",
              "</div>"
            ],
            "text/plain": [
              "   MedInc  HouseAge  AveRooms  AveBedrms  Population  AveOccup  Latitude  \\\n",
              "0  8.3252      41.0  6.984127   1.023810       322.0  2.555556     37.88   \n",
              "1  8.3014      21.0  6.238137   0.971880      2401.0  2.109842     37.86   \n",
              "2  7.2574      52.0  8.288136   1.073446       496.0  2.802260     37.85   \n",
              "3  5.6431      52.0  5.817352   1.073059       558.0  2.547945     37.85   \n",
              "4  3.8462      52.0  6.281853   1.081081       565.0  2.181467     37.85   \n",
              "\n",
              "   Longitude  \n",
              "0    -122.23  \n",
              "1    -122.22  \n",
              "2    -122.24  \n",
              "3    -122.25  \n",
              "4    -122.25  "
            ]
          },
          "metadata": {
            "tags": []
          },
          "execution_count": 5
        }
      ]
    },
    {
      "metadata": {
        "id": "mqUNhIQucdGG",
        "colab_type": "code",
        "colab": {
          "base_uri": "https://localhost:8080/",
          "height": 317
        },
        "outputId": "cbccb964-322b-4112-f0dd-edbb294ab660"
      },
      "cell_type": "code",
      "source": [
        "house_features.describe()"
      ],
      "execution_count": 6,
      "outputs": [
        {
          "output_type": "execute_result",
          "data": {
            "text/html": [
              "<div>\n",
              "<style scoped>\n",
              "    .dataframe tbody tr th:only-of-type {\n",
              "        vertical-align: middle;\n",
              "    }\n",
              "\n",
              "    .dataframe tbody tr th {\n",
              "        vertical-align: top;\n",
              "    }\n",
              "\n",
              "    .dataframe thead th {\n",
              "        text-align: right;\n",
              "    }\n",
              "</style>\n",
              "<table border=\"1\" class=\"dataframe\">\n",
              "  <thead>\n",
              "    <tr style=\"text-align: right;\">\n",
              "      <th></th>\n",
              "      <th>MedInc</th>\n",
              "      <th>HouseAge</th>\n",
              "      <th>AveRooms</th>\n",
              "      <th>AveBedrms</th>\n",
              "      <th>Population</th>\n",
              "      <th>AveOccup</th>\n",
              "      <th>Latitude</th>\n",
              "      <th>Longitude</th>\n",
              "    </tr>\n",
              "  </thead>\n",
              "  <tbody>\n",
              "    <tr>\n",
              "      <th>count</th>\n",
              "      <td>20640.000000</td>\n",
              "      <td>20640.000000</td>\n",
              "      <td>20640.000000</td>\n",
              "      <td>20640.000000</td>\n",
              "      <td>20640.000000</td>\n",
              "      <td>20640.000000</td>\n",
              "      <td>20640.000000</td>\n",
              "      <td>20640.000000</td>\n",
              "    </tr>\n",
              "    <tr>\n",
              "      <th>mean</th>\n",
              "      <td>3.870671</td>\n",
              "      <td>28.639486</td>\n",
              "      <td>5.429000</td>\n",
              "      <td>1.096675</td>\n",
              "      <td>1425.476744</td>\n",
              "      <td>3.070655</td>\n",
              "      <td>35.631861</td>\n",
              "      <td>-119.569704</td>\n",
              "    </tr>\n",
              "    <tr>\n",
              "      <th>std</th>\n",
              "      <td>1.899822</td>\n",
              "      <td>12.585558</td>\n",
              "      <td>2.474173</td>\n",
              "      <td>0.473911</td>\n",
              "      <td>1132.462122</td>\n",
              "      <td>10.386050</td>\n",
              "      <td>2.135952</td>\n",
              "      <td>2.003532</td>\n",
              "    </tr>\n",
              "    <tr>\n",
              "      <th>min</th>\n",
              "      <td>0.499900</td>\n",
              "      <td>1.000000</td>\n",
              "      <td>0.846154</td>\n",
              "      <td>0.333333</td>\n",
              "      <td>3.000000</td>\n",
              "      <td>0.692308</td>\n",
              "      <td>32.540000</td>\n",
              "      <td>-124.350000</td>\n",
              "    </tr>\n",
              "    <tr>\n",
              "      <th>25%</th>\n",
              "      <td>2.563400</td>\n",
              "      <td>18.000000</td>\n",
              "      <td>4.440716</td>\n",
              "      <td>1.006079</td>\n",
              "      <td>787.000000</td>\n",
              "      <td>2.429741</td>\n",
              "      <td>33.930000</td>\n",
              "      <td>-121.800000</td>\n",
              "    </tr>\n",
              "    <tr>\n",
              "      <th>50%</th>\n",
              "      <td>3.534800</td>\n",
              "      <td>29.000000</td>\n",
              "      <td>5.229129</td>\n",
              "      <td>1.048780</td>\n",
              "      <td>1166.000000</td>\n",
              "      <td>2.818116</td>\n",
              "      <td>34.260000</td>\n",
              "      <td>-118.490000</td>\n",
              "    </tr>\n",
              "    <tr>\n",
              "      <th>75%</th>\n",
              "      <td>4.743250</td>\n",
              "      <td>37.000000</td>\n",
              "      <td>6.052381</td>\n",
              "      <td>1.099526</td>\n",
              "      <td>1725.000000</td>\n",
              "      <td>3.282261</td>\n",
              "      <td>37.710000</td>\n",
              "      <td>-118.010000</td>\n",
              "    </tr>\n",
              "    <tr>\n",
              "      <th>max</th>\n",
              "      <td>15.000100</td>\n",
              "      <td>52.000000</td>\n",
              "      <td>141.909091</td>\n",
              "      <td>34.066667</td>\n",
              "      <td>35682.000000</td>\n",
              "      <td>1243.333333</td>\n",
              "      <td>41.950000</td>\n",
              "      <td>-114.310000</td>\n",
              "    </tr>\n",
              "  </tbody>\n",
              "</table>\n",
              "</div>"
            ],
            "text/plain": [
              "             MedInc      HouseAge      AveRooms     AveBedrms    Population  \\\n",
              "count  20640.000000  20640.000000  20640.000000  20640.000000  20640.000000   \n",
              "mean       3.870671     28.639486      5.429000      1.096675   1425.476744   \n",
              "std        1.899822     12.585558      2.474173      0.473911   1132.462122   \n",
              "min        0.499900      1.000000      0.846154      0.333333      3.000000   \n",
              "25%        2.563400     18.000000      4.440716      1.006079    787.000000   \n",
              "50%        3.534800     29.000000      5.229129      1.048780   1166.000000   \n",
              "75%        4.743250     37.000000      6.052381      1.099526   1725.000000   \n",
              "max       15.000100     52.000000    141.909091     34.066667  35682.000000   \n",
              "\n",
              "           AveOccup      Latitude     Longitude  \n",
              "count  20640.000000  20640.000000  20640.000000  \n",
              "mean       3.070655     35.631861   -119.569704  \n",
              "std       10.386050      2.135952      2.003532  \n",
              "min        0.692308     32.540000   -124.350000  \n",
              "25%        2.429741     33.930000   -121.800000  \n",
              "50%        2.818116     34.260000   -118.490000  \n",
              "75%        3.282261     37.710000   -118.010000  \n",
              "max     1243.333333     41.950000   -114.310000  "
            ]
          },
          "metadata": {
            "tags": []
          },
          "execution_count": 6
        }
      ]
    },
    {
      "metadata": {
        "id": "a7saoP0CcdGJ",
        "colab_type": "code",
        "colab": {
          "base_uri": "https://localhost:8080/",
          "height": 119
        },
        "outputId": "716e8720-782a-42f5-8386-ab8248bcaa99"
      },
      "cell_type": "code",
      "source": [
        "house_prices.head()"
      ],
      "execution_count": 7,
      "outputs": [
        {
          "output_type": "execute_result",
          "data": {
            "text/plain": [
              "0    4.526\n",
              "1    3.585\n",
              "2    3.521\n",
              "3    3.413\n",
              "4    3.422\n",
              "dtype: float64"
            ]
          },
          "metadata": {
            "tags": []
          },
          "execution_count": 7
        }
      ]
    },
    {
      "metadata": {
        "id": "-w42V1I4cdGL",
        "colab_type": "code",
        "colab": {
          "base_uri": "https://localhost:8080/",
          "height": 170
        },
        "outputId": "cea60c1f-49d9-4dbe-c00c-f9b56f01e941"
      },
      "cell_type": "code",
      "source": [
        "house_prices.describe()"
      ],
      "execution_count": 8,
      "outputs": [
        {
          "output_type": "execute_result",
          "data": {
            "text/plain": [
              "count    20640.000000\n",
              "mean         2.068558\n",
              "std          1.153956\n",
              "min          0.149990\n",
              "25%          1.196000\n",
              "50%          1.797000\n",
              "75%          2.647250\n",
              "max          5.000010\n",
              "dtype: float64"
            ]
          },
          "metadata": {
            "tags": []
          },
          "execution_count": 8
        }
      ]
    },
    {
      "metadata": {
        "id": "NRs5bCfucdGO",
        "colab_type": "text"
      },
      "cell_type": "markdown",
      "source": [
        "First, we'll split our data in order to determine how well we're doing."
      ]
    },
    {
      "metadata": {
        "id": "XslVsUIscdGP",
        "colab_type": "code",
        "colab": {}
      },
      "cell_type": "code",
      "source": [
        "X_train, X_test, y_train, y_test = train_test_split(house_features, house_prices, test_size=0.2, random_state=0)"
      ],
      "execution_count": 0,
      "outputs": []
    },
    {
      "metadata": {
        "id": "l9z2O4oRcdGS",
        "colab_type": "text"
      },
      "cell_type": "markdown",
      "source": [
        "## Filter Feature Selection\n",
        "\n",
        "Select the best features based on [mutual information score](http://scikit-learn.org/stable/modules/generated/sklearn.feature_selection.mutual_info_regression.html#sklearn.feature_selection.mutual_info_regression) from the training data then transform X_train and X_test into the new shape for the data. See [SelectKBest](http://scikit-learn.org/stable/modules/generated/sklearn.feature_selection.SelectKBest.html#sklearn.feature_selection.SelectKBest)"
      ]
    },
    {
      "metadata": {
        "id": "K-Go4rEmcdGT",
        "colab_type": "code",
        "colab": {}
      },
      "cell_type": "code",
      "source": [
        "# We will select the best k features from all feature selection methods\n",
        "k = 4"
      ],
      "execution_count": 0,
      "outputs": []
    },
    {
      "metadata": {
        "id": "9xgY-nk6cdGW",
        "colab_type": "code",
        "colab": {}
      },
      "cell_type": "code",
      "source": [
        "# Save the transformed values into mi_X_train and mi_X_test\n",
        "# Save the transformer you use into mi_transformer\n",
        "# YOUR CODE HERE\n",
        "# raise NotImplementedError()\n",
        "from sklearn.feature_selection import SelectKBest, chi2\n",
        "mi_transformer = SelectKBest(mutual_info_regression,k=k).fit(X_train,y_train)\n",
        "mi_X_train = mi_transformer.transform(X_train)\n",
        "mi_X_test = mi_transformer.transform(X_test)\n"
      ],
      "execution_count": 0,
      "outputs": []
    },
    {
      "metadata": {
        "id": "TAVnRLFOcdGY",
        "colab_type": "code",
        "colab": {
          "base_uri": "https://localhost:8080/",
          "height": 153
        },
        "outputId": "f15c1ba1-c928-46b8-f6c7-a822e76a4add"
      },
      "cell_type": "code",
      "source": [
        "for feature, importance in zip(house_features.columns, mi_transformer.scores_):\n",
        "    print(f\"The MI score for {feature} is {importance}\")"
      ],
      "execution_count": 49,
      "outputs": [
        {
          "output_type": "stream",
          "text": [
            "The MI score for MedInc is 0.3991390788506015\n",
            "The MI score for HouseAge is 0.03419342325257091\n",
            "The MI score for AveRooms is 0.10811027115559124\n",
            "The MI score for AveBedrms is 0.02980911919124818\n",
            "The MI score for Population is 0.024040304797650514\n",
            "The MI score for AveOccup is 0.06962878089563329\n",
            "The MI score for Latitude is 0.3638702835637435\n",
            "The MI score for Longitude is 0.40294935421706324\n"
          ],
          "name": "stdout"
        }
      ]
    },
    {
      "metadata": {
        "id": "EKar7oZNcdGb",
        "colab_type": "code",
        "colab": {}
      },
      "cell_type": "code",
      "source": [
        "assert mi_transformer.k == k\n",
        "assert isinstance(mi_transformer, SelectKBest)\n",
        "assert len(mi_transformer.scores_) == 8\n",
        "assert mi_X_train.shape == (16512, k)\n",
        "assert mi_X_test.shape == (4128, k)"
      ],
      "execution_count": 0,
      "outputs": []
    },
    {
      "metadata": {
        "id": "F_JjzNOocdGe",
        "colab_type": "text"
      },
      "cell_type": "markdown",
      "source": [
        "Since the focus in this exercise is on the feature learning and not on the supervised learning portion, we will use a simple estimator (linear regression) for the model training portions."
      ]
    },
    {
      "metadata": {
        "id": "5tdqrHmAcdGf",
        "colab_type": "code",
        "colab": {
          "base_uri": "https://localhost:8080/",
          "height": 34
        },
        "outputId": "06251ac8-2399-42f7-8edb-0a92c30a68d9"
      },
      "cell_type": "code",
      "source": [
        "miEst = LinearRegression()\n",
        "miEst.fit(mi_X_train, y_train)"
      ],
      "execution_count": 51,
      "outputs": [
        {
          "output_type": "execute_result",
          "data": {
            "text/plain": [
              "LinearRegression(copy_X=True, fit_intercept=True, n_jobs=1, normalize=False)"
            ]
          },
          "metadata": {
            "tags": []
          },
          "execution_count": 51
        }
      ]
    },
    {
      "metadata": {
        "id": "S5Qtl7HNcdGj",
        "colab_type": "code",
        "colab": {
          "base_uri": "https://localhost:8080/",
          "height": 51
        },
        "outputId": "a3560f50-b28c-4de2-90f7-c844713a89ef"
      },
      "cell_type": "code",
      "source": [
        "print(f\"The mean squared error when training on the MI selected features is {miEst.score(mi_X_train, y_train)}.\")\n",
        "print(f\"When testing on the test data, the mean squared error is {miEst.score(mi_X_test, y_test)}\")"
      ],
      "execution_count": 52,
      "outputs": [
        {
          "output_type": "stream",
          "text": [
            "The mean squared error when training on the MI selected features is 0.5894298141364945.\n",
            "When testing on the test data, the mean squared error is 0.5672465391760814\n"
          ],
          "name": "stdout"
        }
      ]
    },
    {
      "metadata": {
        "id": "Hy4FUU6OcdGm",
        "colab_type": "text"
      },
      "cell_type": "markdown",
      "source": [
        "## Wrapper Feature Selection\n",
        "\n",
        "Now try using [recursive feature elimination](http://scikit-learn.org/stable/modules/generated/sklearn.feature_selection.RFE.html) to select the 2 features we will use instead."
      ]
    },
    {
      "metadata": {
        "id": "5cG-XByRcdGm",
        "colab_type": "code",
        "colab": {}
      },
      "cell_type": "code",
      "source": [
        "# Use an RFE object to determine the k features to select from X_train using a step of 2\n",
        "# Save the rfe object as rfe_transformer\n",
        "# Create rfe_X_train and rfe_X_test which are the updated features based on the RFE output\n",
        "from sklearn.feature_selection import RFE\n",
        "\n",
        "rfeEst = LinearRegression()\n",
        "\n",
        "# YOUR CODE HERE\n",
        "# raise NotImplementedError()\n",
        "rfe_transformer = RFE(rfeEst, k, step=2).fit(X_train,y_train)\n",
        "rfe_X_train = rfe_transformer.transform(X_train)\n",
        "rfe_X_test = rfe_transformer.transform(X_test)\n"
      ],
      "execution_count": 0,
      "outputs": []
    },
    {
      "metadata": {
        "id": "iVduG-YfcdGp",
        "colab_type": "code",
        "colab": {}
      },
      "cell_type": "code",
      "source": [
        "assert isinstance(rfe_transformer, RFE)\n",
        "assert rfe_transformer.step == 2\n",
        "assert len(rfe_transformer.support_) == 8\n",
        "assert mi_X_train.shape == (16512, k)\n",
        "assert mi_X_test.shape == (4128, k)"
      ],
      "execution_count": 0,
      "outputs": []
    },
    {
      "metadata": {
        "id": "4GBX_FV_cdGr",
        "colab_type": "code",
        "colab": {
          "base_uri": "https://localhost:8080/",
          "height": 34
        },
        "outputId": "ee8d1c08-e208-4964-c8d5-ee7713f3f922"
      },
      "cell_type": "code",
      "source": [
        "rfeEst = LinearRegression()\n",
        "rfeEst.fit(rfe_X_train, y_train)"
      ],
      "execution_count": 69,
      "outputs": [
        {
          "output_type": "execute_result",
          "data": {
            "text/plain": [
              "LinearRegression(copy_X=True, fit_intercept=True, n_jobs=1, normalize=False)"
            ]
          },
          "metadata": {
            "tags": []
          },
          "execution_count": 69
        }
      ]
    },
    {
      "metadata": {
        "id": "PwxOCd6ecdGw",
        "colab_type": "code",
        "colab": {
          "base_uri": "https://localhost:8080/",
          "height": 51
        },
        "outputId": "d024a46b-39be-4cda-af71-c979af2b4eba"
      },
      "cell_type": "code",
      "source": [
        "print(f\"The mean squared error when training on the RFE selected features is {rfeEst.score(rfe_X_train, y_train)}.\")\n",
        "print(f\"When testing on the test data, the mean squared error is {rfeEst.score(rfe_X_test, y_test)}\")"
      ],
      "execution_count": 70,
      "outputs": [
        {
          "output_type": "stream",
          "text": [
            "The mean squared error when training on the RFE selected features is 0.5926637486301407.\n",
            "When testing on the test data, the mean squared error is 0.5720072080584462\n"
          ],
          "name": "stdout"
        }
      ]
    },
    {
      "metadata": {
        "id": "lkm2xqn7cdGy",
        "colab_type": "text"
      },
      "cell_type": "markdown",
      "source": [
        "## Embedded Methods\n",
        "\n",
        "For the embedded methods feature selection example, we will use Lasso. For this task you should use [LassoCV](http://scikit-learn.org/stable/modules/generated/sklearn.linear_model.LassoCV.html#sklearn.linear_model.LassoCV) and **not** [Lasso](http://scikit-learn.org/stable/modules/generated/sklearn.linear_model.Lasso.html) so that it trains with various values for alpha.\n",
        "\n",
        "Since this is an embedded method, the feature selection will occur directly in the model."
      ]
    },
    {
      "metadata": {
        "id": "01iA8AMCcdGz",
        "colab_type": "code",
        "colab": {}
      },
      "cell_type": "code",
      "source": [
        "# Create a LassoCV model trained with 10 alphas and save it to lassoClf\n",
        "# YOUR CODE HERE\n",
        "# raise NotImplementedError()\n",
        "from sklearn.linear_model import LassoCV\n",
        "lassoClf = LassoCV(n_alphas =10).fit(X_train,y_train)"
      ],
      "execution_count": 0,
      "outputs": []
    },
    {
      "metadata": {
        "id": "7GWSgJafcdG1",
        "colab_type": "code",
        "colab": {
          "base_uri": "https://localhost:8080/",
          "height": 51
        },
        "outputId": "206cc25e-d0cf-4587-8970-dd7e7c1a5b8c"
      },
      "cell_type": "code",
      "source": [
        "lassoClf.coef_"
      ],
      "execution_count": 73,
      "outputs": [
        {
          "output_type": "execute_result",
          "data": {
            "text/plain": [
              "array([ 3.83899283e-01,  1.13979529e-02,  1.56884471e-03,  0.00000000e+00,\n",
              "       -4.07469366e-07, -4.61025303e-03, -3.24168177e-01, -3.23939467e-01])"
            ]
          },
          "metadata": {
            "tags": []
          },
          "execution_count": 73
        }
      ]
    },
    {
      "metadata": {
        "id": "T0svydR8cdG5",
        "colab_type": "code",
        "colab": {
          "base_uri": "https://localhost:8080/",
          "height": 34
        },
        "outputId": "8ed4f8fe-9049-43fb-c57d-ffec65dd2b04"
      },
      "cell_type": "code",
      "source": [
        "lassoClf.alpha_"
      ],
      "execution_count": 74,
      "outputs": [
        {
          "output_type": "execute_result",
          "data": {
            "text/plain": [
              "0.03577400513173515"
            ]
          },
          "metadata": {
            "tags": []
          },
          "execution_count": 74
        }
      ]
    },
    {
      "metadata": {
        "id": "JWsljzlPcdG7",
        "colab_type": "code",
        "colab": {}
      },
      "cell_type": "code",
      "source": [
        "assert lassoClf\n",
        "assert isinstance(lassoClf, LassoCV)\n",
        "assert len(lassoClf.coef_) == 8"
      ],
      "execution_count": 0,
      "outputs": []
    },
    {
      "metadata": {
        "id": "tfqjNKeFcdG9",
        "colab_type": "code",
        "colab": {
          "base_uri": "https://localhost:8080/",
          "height": 51
        },
        "outputId": "45c3c76a-e603-4b19-ef94-af991950eb9d"
      },
      "cell_type": "code",
      "source": [
        "print(f\"The mean squared error when training using lasso is {lassoClf.score(X_train, y_train)}.\")\n",
        "print(f\"When testing on the test data, the mean squared error is {lassoClf.score(X_test, y_test)}\")"
      ],
      "execution_count": 76,
      "outputs": [
        {
          "output_type": "stream",
          "text": [
            "The mean squared error when training using lasso is 0.5929687839875069.\n",
            "When testing on the test data, the mean squared error is 0.5709853376060584\n"
          ],
          "name": "stdout"
        }
      ]
    },
    {
      "metadata": {
        "id": "Lr4ZJidPcdG_",
        "colab_type": "text"
      },
      "cell_type": "markdown",
      "source": [
        "## Feature Extraction\n",
        "\n",
        "Here we'll use [PCA](http://scikit-learn.org/stable/modules/generated/sklearn.decomposition.PCA.html) to extract features from the data."
      ]
    },
    {
      "metadata": {
        "id": "fia_R-e1cdHA",
        "colab_type": "code",
        "colab": {}
      },
      "cell_type": "code",
      "source": [
        "# Select the best k features using PCA\n",
        "# Save the PCA transformer object as pca_transformer\n",
        "# Transform X_train and X_test into the new shape and save to pca_X_train and pca_X_test\n",
        "\n",
        "# YOUR CODE HERE\n",
        "# raise NotImplementedError()\n",
        "from sklearn.decomposition import PCA\n",
        "\n",
        "pca_transformer = PCA(n_components = k).fit(X_train,y_train)\n",
        "pca_X_test = pca_transformer.transform(X_test)\n",
        "pca_X_train = pca_transformer.transform(X_train)"
      ],
      "execution_count": 0,
      "outputs": []
    },
    {
      "metadata": {
        "id": "lKTLty4OcdHC",
        "colab_type": "code",
        "colab": {}
      },
      "cell_type": "code",
      "source": [
        "assert pca_transformer \n",
        "assert isinstance(pca_transformer, PCA)\n",
        "assert pca_transformer.n_components == k\n",
        "assert pca_X_train.shape == (16512, k)\n",
        "assert pca_X_test.shape == (4128, k)"
      ],
      "execution_count": 0,
      "outputs": []
    },
    {
      "metadata": {
        "id": "PdZh0zi6cdHF",
        "colab_type": "code",
        "colab": {
          "base_uri": "https://localhost:8080/",
          "height": 34
        },
        "outputId": "62ba56e7-9d34-47e4-f445-2b76dc894206"
      },
      "cell_type": "code",
      "source": [
        "pcaEst = LinearRegression()\n",
        "pcaEst.fit(pca_X_train, y_train)"
      ],
      "execution_count": 81,
      "outputs": [
        {
          "output_type": "execute_result",
          "data": {
            "text/plain": [
              "LinearRegression(copy_X=True, fit_intercept=True, n_jobs=1, normalize=False)"
            ]
          },
          "metadata": {
            "tags": []
          },
          "execution_count": 81
        }
      ]
    },
    {
      "metadata": {
        "id": "59hS7SEHcdHI",
        "colab_type": "code",
        "colab": {
          "base_uri": "https://localhost:8080/",
          "height": 51
        },
        "outputId": "8cece51e-962e-423a-d77d-558221f9800f"
      },
      "cell_type": "code",
      "source": [
        "print(f\"The mean squared error when training using PCA is {pcaEst.score(pca_X_train, y_train)}.\")\n",
        "print(f\"When testing on the test data, the mean squared error is {pcaEst.score(pca_X_test, y_test)}\")"
      ],
      "execution_count": 82,
      "outputs": [
        {
          "output_type": "stream",
          "text": [
            "The mean squared error when training using PCA is 0.011832093756049766.\n",
            "When testing on the test data, the mean squared error is 0.003451711009928249\n"
          ],
          "name": "stdout"
        }
      ]
    },
    {
      "metadata": {
        "id": "-RqrQBmNcdHL",
        "colab_type": "code",
        "colab": {
          "base_uri": "https://localhost:8080/",
          "height": 425
        },
        "outputId": "f3314dd4-7241-4a7c-d8c0-7b7442a765d0"
      },
      "cell_type": "code",
      "source": [
        "pca_transformer.get_covariance()"
      ],
      "execution_count": 83,
      "outputs": [
        {
          "output_type": "execute_result",
          "data": {
            "text/plain": [
              "array([[ 2.59881878e+00, -2.85404338e+00,  1.69458762e-01,\n",
              "         2.02649494e-02,  9.88022268e+00,  2.12524850e-02,\n",
              "         1.77252627e-01, -1.13858541e-01],\n",
              "       [-2.85404338e+00,  1.58777213e+02, -4.81380579e+00,\n",
              "        -4.69596878e-01, -4.30539684e+03,  1.01359303e+00,\n",
              "         4.93684706e-01, -2.87568750e+00],\n",
              "       [ 1.69458762e-01, -4.81380579e+00,  3.15500331e+00,\n",
              "         8.25054593e-02, -1.92964965e+02,  7.47416667e-02,\n",
              "         1.11027923e+00, -9.23849732e-01],\n",
              "       [ 2.02649494e-02, -4.69596878e-01,  8.25054593e-02,\n",
              "         2.54365791e+00, -3.40875068e+01, -6.12764836e-03,\n",
              "         1.60142020e-01, -1.36806830e-01],\n",
              "       [ 9.88022268e+00, -4.30539684e+03, -1.92964965e+02,\n",
              "        -3.40875068e+01,  1.30659246e+06,  5.35350485e+02,\n",
              "        -2.80412604e+02,  2.40965884e+02],\n",
              "       [ 2.12524850e-02,  1.01359303e+00,  7.47416667e-02,\n",
              "        -6.12764836e-03,  5.35350485e+02,  4.14906644e+01,\n",
              "        -7.41569408e-02,  1.75039261e-01],\n",
              "       [ 1.77252627e-01,  4.93684706e-01,  1.11027923e+00,\n",
              "         1.60142020e-01, -2.80412604e+02, -7.41569408e-02,\n",
              "         5.48211455e+00, -2.70516546e+00],\n",
              "       [-1.13858541e-01, -2.87568750e+00, -9.23849732e-01,\n",
              "        -1.36806830e-01,  2.40965884e+02,  1.75039261e-01,\n",
              "        -2.70516546e+00,  5.05752166e+00]])"
            ]
          },
          "metadata": {
            "tags": []
          },
          "execution_count": 83
        }
      ]
    },
    {
      "metadata": {
        "id": "bN4llmf4cdHM",
        "colab_type": "text"
      },
      "cell_type": "markdown",
      "source": [
        "Sometimes PCA may perform poorly for regression cases. See [this answer](https://stats.stackexchange.com/a/52798) on StackExchange for more info. In the next lecture, we will cover other methods of feature extraction and show examples where PCA is even more effective."
      ]
    },
    {
      "metadata": {
        "id": "0mUEoPeAcdHO",
        "colab_type": "text"
      },
      "cell_type": "markdown",
      "source": [
        "## Feedback"
      ]
    },
    {
      "metadata": {
        "id": "Rd-RvAB0cdHP",
        "colab_type": "code",
        "colab": {}
      },
      "cell_type": "code",
      "source": [
        "def feedback():\n",
        "    \"\"\"Provide feedback on the contents of this exercise\n",
        "    \n",
        "    Returns:\n",
        "        string\n",
        "    \"\"\"\n",
        "    # YOUR CODE HERE\n",
        "    raise NotImplementedError()"
      ],
      "execution_count": 0,
      "outputs": []
    },
    {
      "metadata": {
        "id": "d_AZRGb3cdHS",
        "colab_type": "code",
        "colab": {}
      },
      "cell_type": "code",
      "source": [
        ""
      ],
      "execution_count": 0,
      "outputs": []
    }
  ]
}