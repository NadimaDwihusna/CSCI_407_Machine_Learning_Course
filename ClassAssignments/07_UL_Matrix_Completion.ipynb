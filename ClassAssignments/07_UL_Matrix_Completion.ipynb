{
  "nbformat": 4,
  "nbformat_minor": 0,
  "metadata": {
    "colab": {
      "name": "07 - UL .Matrix Completion.ipynb",
      "version": "0.3.2",
      "provenance": []
    },
    "kernelspec": {
      "name": "python3",
      "display_name": "Python 3"
    }
  },
  "cells": [
    {
      "metadata": {
        "id": "drpu-c4DZPlp",
        "colab_type": "text"
      },
      "cell_type": "markdown",
      "source": [
        "# Unsupervised Learning - Matrix Completion"
      ]
    },
    {
      "metadata": {
        "id": "pQU-sCX6Zg7z",
        "colab_type": "code",
        "colab": {
          "base_uri": "https://localhost:8080/",
          "height": 1129
        },
        "outputId": "9d8f4949-3264-4d21-e873-e0017446b2a1"
      },
      "cell_type": "code",
      "source": [
        "!pip install fancyimpute"
      ],
      "execution_count": 2,
      "outputs": [
        {
          "output_type": "stream",
          "text": [
            "Collecting fancyimpute\n",
            "\u001b[?25l  Downloading https://files.pythonhosted.org/packages/24/8a/79952041086f139612966ee020f8dc50595fe1a93644d428dbc84852b902/fancyimpute-0.4.0-py3-none-any.whl (43kB)\n",
            "\u001b[K    100% |████████████████████████████████| 51kB 3.6MB/s \n",
            "\u001b[?25hRequirement already satisfied: scikit-learn>=0.19.1 in /usr/local/lib/python3.6/dist-packages (from fancyimpute) (0.19.2)\n",
            "Requirement already satisfied: scipy in /usr/local/lib/python3.6/dist-packages (from fancyimpute) (0.19.1)\n",
            "Requirement already satisfied: tensorflow in /usr/local/lib/python3.6/dist-packages (from fancyimpute) (1.10.1)\n",
            "Collecting knnimpute (from fancyimpute)\n",
            "  Downloading https://files.pythonhosted.org/packages/e8/35/e9ab006430d36aed71f623db8d194a723a14d40b52b3405cdd5b94d9de04/knnimpute-0.1.0.tar.gz\n",
            "Collecting np-utils (from fancyimpute)\n",
            "\u001b[?25l  Downloading https://files.pythonhosted.org/packages/e7/9f/41532002ac86d2679abd68f642ae6392a63a7ccaf799fcb5870b03e72a80/np_utils-0.5.5.0.tar.gz (59kB)\n",
            "\u001b[K    100% |████████████████████████████████| 61kB 8.0MB/s \n",
            "\u001b[?25hRequirement already satisfied: numpy>=1.10 in /usr/local/lib/python3.6/dist-packages (from fancyimpute) (1.14.5)\n",
            "Collecting cvxpy>=1.0.6 (from fancyimpute)\n",
            "\u001b[?25l  Downloading https://files.pythonhosted.org/packages/79/06/cc0553f250eef7160a364b561b451b40954308d1520e6bb055b8c6ac144a/cvxpy-1.0.8.tar.gz (900kB)\n",
            "\u001b[K    100% |████████████████████████████████| 901kB 7.7MB/s \n",
            "\u001b[?25hRequirement already satisfied: keras>=2.0.0 in /usr/local/lib/python3.6/dist-packages (from fancyimpute) (2.1.6)\n",
            "Requirement already satisfied: six in /usr/local/lib/python3.6/dist-packages (from fancyimpute) (1.11.0)\n",
            "Requirement already satisfied: tensorboard<1.11.0,>=1.10.0 in /usr/local/lib/python3.6/dist-packages (from tensorflow->fancyimpute) (1.10.0)\n",
            "Requirement already satisfied: protobuf>=3.6.0 in /usr/local/lib/python3.6/dist-packages (from tensorflow->fancyimpute) (3.6.1)\n",
            "Requirement already satisfied: termcolor>=1.1.0 in /usr/local/lib/python3.6/dist-packages (from tensorflow->fancyimpute) (1.1.0)\n",
            "Requirement already satisfied: setuptools<=39.1.0 in /usr/local/lib/python3.6/dist-packages (from tensorflow->fancyimpute) (39.1.0)\n",
            "Requirement already satisfied: wheel>=0.26 in /usr/local/lib/python3.6/dist-packages (from tensorflow->fancyimpute) (0.31.1)\n",
            "Requirement already satisfied: gast>=0.2.0 in /usr/local/lib/python3.6/dist-packages (from tensorflow->fancyimpute) (0.2.0)\n",
            "Requirement already satisfied: absl-py>=0.1.6 in /usr/local/lib/python3.6/dist-packages (from tensorflow->fancyimpute) (0.4.1)\n",
            "Requirement already satisfied: grpcio>=1.8.6 in /usr/local/lib/python3.6/dist-packages (from tensorflow->fancyimpute) (1.15.0)\n",
            "Requirement already satisfied: astor>=0.6.0 in /usr/local/lib/python3.6/dist-packages (from tensorflow->fancyimpute) (0.7.1)\n",
            "Requirement already satisfied: future>=0.16 in /usr/local/lib/python3.6/dist-packages (from np-utils->fancyimpute) (0.16.0)\n",
            "Collecting osqp (from cvxpy>=1.0.6->fancyimpute)\n",
            "\u001b[?25l  Downloading https://files.pythonhosted.org/packages/05/42/0ccab82eb6ed0edb83d184928ec864232dc00c3cf968a4b92a02caf0f7ec/osqp-0.4.0-cp36-cp36m-manylinux1_x86_64.whl (146kB)\n",
            "\u001b[K    100% |████████████████████████████████| 153kB 12.2MB/s \n",
            "\u001b[?25hCollecting ecos>=2 (from cvxpy>=1.0.6->fancyimpute)\n",
            "\u001b[?25l  Downloading https://files.pythonhosted.org/packages/b6/b4/988b15513b13e8ea2eac65e97d84221ac515a735a93f046e2a2a3d7863fc/ecos-2.0.5.tar.gz (114kB)\n",
            "\u001b[K    100% |████████████████████████████████| 122kB 14.0MB/s \n",
            "\u001b[?25hCollecting scs>=1.1.3 (from cvxpy>=1.0.6->fancyimpute)\n",
            "\u001b[?25l  Downloading https://files.pythonhosted.org/packages/b3/fd/6e01c4f4a69fcc6c3db130ba55572089e78e77ea8c0921a679f9da1ec04c/scs-2.0.2.tar.gz (133kB)\n",
            "\u001b[K    100% |████████████████████████████████| 143kB 13.6MB/s \n",
            "\u001b[?25hCollecting multiprocess (from cvxpy>=1.0.6->fancyimpute)\n",
            "\u001b[?25l  Downloading https://files.pythonhosted.org/packages/7a/ee/b9bf3e171f936743758ef924622d8dd00516c5532b00a1210a09bce68325/multiprocess-0.70.6.1.tar.gz (1.4MB)\n",
            "\u001b[K    100% |████████████████████████████████| 1.4MB 8.3MB/s \n",
            "\u001b[?25hCollecting fastcache (from cvxpy>=1.0.6->fancyimpute)\n",
            "  Downloading https://files.pythonhosted.org/packages/fb/98/93f2d36738868e8dd5a8dbfc918169b24658f63e5fa041fe000c22ae4f8b/fastcache-1.0.2.tar.gz\n",
            "Requirement already satisfied: toolz in /usr/local/lib/python3.6/dist-packages (from cvxpy>=1.0.6->fancyimpute) (0.9.0)\n",
            "Requirement already satisfied: h5py in /usr/local/lib/python3.6/dist-packages (from keras>=2.0.0->fancyimpute) (2.8.0)\n",
            "Requirement already satisfied: pyyaml in /usr/local/lib/python3.6/dist-packages (from keras>=2.0.0->fancyimpute) (3.13)\n",
            "Requirement already satisfied: werkzeug>=0.11.10 in /usr/local/lib/python3.6/dist-packages (from tensorboard<1.11.0,>=1.10.0->tensorflow->fancyimpute) (0.14.1)\n",
            "Requirement already satisfied: markdown>=2.6.8 in /usr/local/lib/python3.6/dist-packages (from tensorboard<1.11.0,>=1.10.0->tensorflow->fancyimpute) (2.6.11)\n",
            "Requirement already satisfied: dill>=0.2.8.1 in /usr/local/lib/python3.6/dist-packages (from multiprocess->cvxpy>=1.0.6->fancyimpute) (0.2.8.2)\n",
            "Building wheels for collected packages: knnimpute, np-utils, cvxpy, ecos, scs, multiprocess, fastcache\n",
            "  Running setup.py bdist_wheel for knnimpute ... \u001b[?25l-\b \b\\\b \bdone\n",
            "\u001b[?25h  Stored in directory: /root/.cache/pip/wheels/a3/92/31/c3f8864714e9938396c3a68d8c542531f7e2d7862bb750b2e3\n",
            "  Running setup.py bdist_wheel for np-utils ... \u001b[?25l-\b \b\\\b \bdone\n",
            "\u001b[?25h  Stored in directory: /root/.cache/pip/wheels/45/57/c8/374ecee74d3b7cc32f026e5b473cdea111642d97f211478b6c\n",
            "  Running setup.py bdist_wheel for cvxpy ... \u001b[?25l-\b \b\\\b \b|\b \b/\b \b-\b \b\\\b \b|\b \b/\b \b-\b \b\\\b \b|\b \b/\b \b-\b \b\\\b \b|\b \b/\b \b-\b \b\\\b \b|\b \b/\b \b-\b \b\\\b \b|\b \b/\b \b-\b \b\\\b \b|\b \b/\b \b-\b \b\\\b \b|\b \b/\b \b-\b \b\\\b \b|\b \b/\b \bdone\n",
            "\u001b[?25h  Stored in directory: /root/.cache/pip/wheels/10/e3/64/e65da213c6af18e1fd78d51482236a85207ff25962146e302f\n",
            "  Running setup.py bdist_wheel for ecos ... \u001b[?25l-\b \b\\\b \b|\b \b/\b \b-\b \b\\\b \b|\b \b/\b \b-\b \b\\\b \b|\b \b/\b \b-\b \b\\\b \b|\b \b/\b \b-\b \b\\\b \b|\b \b/\b \b-\b \b\\\b \b|\b \b/\b \bdone\n",
            "\u001b[?25h  Stored in directory: /root/.cache/pip/wheels/50/91/1b/568de3c087b3399b03d130e71b1fd048ec072c45f72b6b6e9a\n",
            "  Running setup.py bdist_wheel for scs ... \u001b[?25l-\b \b\\\b \b|\b \b/\b \b-\b \b\\\b \b|\b \b/\b \b-\b \b\\\b \b|\b \b/\b \b-\b \b\\\b \b|\b \b/\b \b-\b \b\\\b \b|\b \b/\b \b-\b \b\\\b \b|\b \b/\b \b-\b \b\\\b \b|\b \b/\b \b-\b \b\\\b \b|\b \b/\b \b-\b \b\\\b \b|\b \b/\b \b-\b \bdone\n",
            "\u001b[?25h  Stored in directory: /root/.cache/pip/wheels/ff/f0/aa/530ccd478d7d9900b4e9ef5bc5a39e895ce110bed3d3ac653e\n",
            "  Running setup.py bdist_wheel for multiprocess ... \u001b[?25l-\b \b\\\b \b|\b \b/\b \bdone\n",
            "\u001b[?25h  Stored in directory: /root/.cache/pip/wheels/8b/36/e5/96614ab62baf927e9bc06889ea794a8e87552b84bb6bf65e3e\n",
            "  Running setup.py bdist_wheel for fastcache ... \u001b[?25l-\b \b\\\b \bdone\n",
            "\u001b[?25h  Stored in directory: /root/.cache/pip/wheels/b7/90/c0/da92ac52d188d9ebca577044e89a14d0e6ff333c1bcd1ebc14\n",
            "Successfully built knnimpute np-utils cvxpy ecos scs multiprocess fastcache\n",
            "Installing collected packages: knnimpute, np-utils, osqp, ecos, scs, multiprocess, fastcache, cvxpy, fancyimpute\n",
            "Successfully installed cvxpy-1.0.8 ecos-2.0.5 fancyimpute-0.4.0 fastcache-1.0.2 knnimpute-0.1.0 multiprocess-0.70.6.1 np-utils-0.5.5.0 osqp-0.4.0 scs-2.0.2\n"
          ],
          "name": "stdout"
        }
      ]
    },
    {
      "metadata": {
        "id": "TArXHV3oZPlq",
        "colab_type": "code",
        "colab": {
          "base_uri": "https://localhost:8080/",
          "height": 34
        },
        "outputId": "62b99234-a3e5-4156-cfce-ecb8326a1990"
      },
      "cell_type": "code",
      "source": [
        "import numpy as np\n",
        "import pandas as pd\n",
        "import matplotlib\n",
        "import matplotlib.pyplot as plt\n",
        "import sklearn as sk\n",
        "from sklearn.metrics import mean_squared_error\n",
        "from fancyimpute import SimpleFill, KNN, MatrixFactorization\n",
        "\n",
        "%matplotlib inline\n",
        "plt.style.use(\"ggplot\")\n",
        "\n",
        "np.random.seed(0)"
      ],
      "execution_count": 3,
      "outputs": [
        {
          "output_type": "stream",
          "text": [
            "Using TensorFlow backend.\n"
          ],
          "name": "stderr"
        }
      ]
    },
    {
      "metadata": {
        "id": "kYQchuIZZPlu",
        "colab_type": "text"
      },
      "cell_type": "markdown",
      "source": [
        "## Synthetic Data\n",
        "First, let us create some synthetic data that we are going to use to test out a variety of matrix completion algorithms. Note that we force the data in $X$ to have a rank equal to five. "
      ]
    },
    {
      "metadata": {
        "id": "XHFDVRBbZPlu",
        "colab_type": "code",
        "colab": {}
      },
      "cell_type": "code",
      "source": [
        "# Create the data matrix X\n",
        "n = 30\n",
        "m = 30\n",
        "inner_rank = 5\n",
        "X = np.dot(np.random.randn(n, inner_rank), np.random.randn(inner_rank, m))"
      ],
      "execution_count": 0,
      "outputs": []
    },
    {
      "metadata": {
        "id": "Up0Sd6vFZPlx",
        "colab_type": "code",
        "colab": {
          "base_uri": "https://localhost:8080/",
          "height": 266
        },
        "outputId": "69ecf5fe-b782-4f7e-9817-49dddafa3a24"
      },
      "cell_type": "code",
      "source": [
        "# Let's visualize the matrix X\n",
        "plt.figure()\n",
        "plt.imshow(X)\n",
        "plt.grid(False)\n",
        "plt.show()"
      ],
      "execution_count": 5,
      "outputs": [
        {
          "output_type": "display_data",
          "data": {
            "image/png": "[encoded data removed]",
            "text/plain": [
              "<matplotlib.figure.Figure at 0x7f7be12a1630>"
            ]
          },
          "metadata": {
            "tags": []
          }
        }
      ]
    },
    {
      "metadata": {
        "id": "rv8sc6dNZPlz",
        "colab_type": "text"
      },
      "cell_type": "markdown",
      "source": [
        "## Removing Data From $X$\n",
        "Since we are studying matrix completion algorithms we need to have some missing values! To do this we will randomly remove some data from $X$. \n",
        "\n",
        "Remember... since $X$ can be represented by `inner_rank = 5` linearly independent columns it should be relatively easy for a matrix completion algorithm to reconstruct the missing data."
      ]
    },
    {
      "metadata": {
        "id": "cVGnBUnpZPl0",
        "colab_type": "code",
        "colab": {}
      },
      "cell_type": "code",
      "source": [
        "missing_mask = np.random.rand(*X.shape) < 0.4\n",
        "X_incomplete = X.copy()\n",
        "# missing entries indicated with NaN\n",
        "X_incomplete[missing_mask] = np.nan"
      ],
      "execution_count": 0,
      "outputs": []
    },
    {
      "metadata": {
        "id": "-XeeybKjZPl3",
        "colab_type": "code",
        "colab": {
          "base_uri": "https://localhost:8080/",
          "height": 266
        },
        "outputId": "cd082383-d1c4-444a-c91c-1240ec0766e3"
      },
      "cell_type": "code",
      "source": [
        "# Let's visualize the data matrix X_incomplete\n",
        "plt.figure()\n",
        "plt.imshow(X_incomplete)\n",
        "plt.grid(False)\n",
        "plt.show()"
      ],
      "execution_count": 7,
      "outputs": [
        {
          "output_type": "display_data",
          "data": {
            "image/png": "[encoded data removed]",
            "text/plain": [
              "<matplotlib.figure.Figure at 0x7f7bcf55f470>"
            ]
          },
          "metadata": {
            "tags": []
          }
        }
      ]
    },
    {
      "metadata": {
        "id": "7_TQZbYJZPl6",
        "colab_type": "text"
      },
      "cell_type": "markdown",
      "source": [
        "## Matrix Completion\n",
        "Now, given the incomplete matrix `X_incomplete` we want to try and fill in the missing values. For this we are going to use the https://github.com/iskandr/fancyimpute package in Python.\n",
        "\n",
        "For the first example, I will provide an example implementation where we fill in all the missing values using `SimpleFill`:"
      ]
    },
    {
      "metadata": {
        "id": "lbTBr00xZPl6",
        "colab_type": "code",
        "colab": {}
      },
      "cell_type": "code",
      "source": [
        "meanFill = SimpleFill(\"mean\")\n",
        "X_filled_mean = meanFill.fit_transform(X_incomplete)"
      ],
      "execution_count": 0,
      "outputs": []
    },
    {
      "metadata": {
        "id": "pB685oo-ZPl-",
        "colab_type": "code",
        "colab": {
          "base_uri": "https://localhost:8080/",
          "height": 319
        },
        "outputId": "d32ebeb0-e3a6-4304-c1e7-cf7578419281"
      },
      "cell_type": "code",
      "source": [
        "f, (ax1, ax2) = plt.subplots(1, 2, figsize=(10,6))\n",
        "\n",
        "ax1.imshow(X)\n",
        "ax1.set_title(\"Original Matrix\")\n",
        "ax1.grid(False)\n",
        "\n",
        "ax2.imshow(X_filled_mean)\n",
        "ax2.set_title(\"Mean Fill Completed Matrix\")\n",
        "ax2.grid(False)\n",
        "plt.show()"
      ],
      "execution_count": 9,
      "outputs": [
        {
          "output_type": "display_data",
          "data": {
            "image/png": "[encoded data removed]",
            "text/plain": [
              "<matplotlib.figure.Figure at 0x7f7bcf5ce240>"
            ]
          },
          "metadata": {
            "tags": []
          }
        }
      ]
    },
    {
      "metadata": {
        "id": "6epPazTqZPmA",
        "colab_type": "code",
        "colab": {}
      },
      "cell_type": "code",
      "source": [
        "# To test the performance of our matrix completion algorithm we want to compare\n",
        "# the \"filled-in\" values to the original:\n",
        "def mat_completion_mse(X_filled, X_truth, missing_mask):\n",
        "    \"\"\"Calculates the mean squared error of the filled in values vs. the truth\n",
        "    \n",
        "    Args:\n",
        "        X_filled (np.ndarray): The \"filled-in\" matrix from a matrix completion algorithm\n",
        "        X_truth (np.ndarray): The true filled in matrix\n",
        "        missing_mask (np.ndarray): Boolean array of missing values\n",
        "    \n",
        "    Returns:\n",
        "        float: Mean squares error of the filled values\n",
        "    \"\"\"\n",
        "    mse = ((X_filled[missing_mask] - X[missing_mask]) ** 2).mean()\n",
        "    return mse"
      ],
      "execution_count": 0,
      "outputs": []
    },
    {
      "metadata": {
        "id": "0DiUSmioZPmD",
        "colab_type": "code",
        "colab": {
          "base_uri": "https://localhost:8080/",
          "height": 34
        },
        "outputId": "b0f1d224-6b92-4d10-febf-20b0d4fd5cd5"
      },
      "cell_type": "code",
      "source": [
        "meanFill_mse = mat_completion_mse(X_filled_mean, X, missing_mask)\n",
        "print(\"meanFill MSE: %f\" % meanFill_mse)"
      ],
      "execution_count": 11,
      "outputs": [
        {
          "output_type": "stream",
          "text": [
            "meanFill MSE: 5.241120\n"
          ],
          "name": "stdout"
        }
      ]
    },
    {
      "metadata": {
        "id": "etIC8RpsZPmH",
        "colab_type": "text"
      },
      "cell_type": "markdown",
      "source": [
        "### KNN Completion\n",
        "Next you will use the K-Nearest Neighbors algorithm to fill in the missing values. First, we will need to find the best number of neighbors to use for the KNN algorithm:"
      ]
    },
    {
      "metadata": {
        "id": "XsfDFoB3ZPmI",
        "colab_type": "code",
        "colab": {}
      },
      "cell_type": "code",
      "source": [
        "# Find the best value for k\n",
        "def find_best_k(k_neighbors, complete_mat, incomplete_mat, missing_mask):\n",
        "    \"\"\"Determines the best k to use for matrix completion with KNN\n",
        "    \n",
        "    Args:\n",
        "        k_neighbors (iterable): The list of k's to try\n",
        "        complete_mat (np.ndarray): The original matrix with complete values\n",
        "        incomplete_mat (np.ndarray): The matrix with missing values\n",
        "        missing_mask (np.ndarray): Boolean array of missing values\n",
        "    \n",
        "    Returns:\n",
        "        integer: the best value of k to use for that particular matrix\n",
        "    \"\"\"\n",
        "    best_k = -1\n",
        "    best_k_mse = np.infty\n",
        "    \n",
        "    for neighbors in k_neighbors:\n",
        "        # YOUR CODE HERE\n",
        "        # raise NotImplementedError()\n",
        "        \n",
        "        X_filled_knn = KNN(k=neighbors).fit_transform(incomplete_mat)\n",
        "        \n",
        "        mse = mat_completion_mse(X_filled_knn, complete_mat, missing_mask)\n",
        "        if mse < best_k_mse:\n",
        "          best_k_mse = mse\n",
        "          best_k = neighbors\n",
        "    return best_k"
      ],
      "execution_count": 0,
      "outputs": []
    },
    {
      "metadata": {
        "id": "eB_KuZlwZPmK",
        "colab_type": "code",
        "colab": {
          "base_uri": "https://localhost:8080/",
          "height": 185
        },
        "outputId": "5d2f8ae0-8ce3-45fa-a667-042cf067f591"
      },
      "cell_type": "code",
      "source": [
        "k_neighbors = [1, 2, 3, 4, 5, 6, 7, 8, 9, 10]\n",
        "best_k = find_best_k(k_neighbors, X, X_incomplete, missing_mask)"
      ],
      "execution_count": 13,
      "outputs": [
        {
          "output_type": "stream",
          "text": [
            "Imputing row 1/30 with 19 missing, elapsed time: 0.003\n",
            "Imputing row 1/30 with 19 missing, elapsed time: 0.001\n",
            "Imputing row 1/30 with 19 missing, elapsed time: 0.001\n",
            "Imputing row 1/30 with 19 missing, elapsed time: 0.001\n",
            "Imputing row 1/30 with 19 missing, elapsed time: 0.001\n",
            "Imputing row 1/30 with 19 missing, elapsed time: 0.001\n",
            "Imputing row 1/30 with 19 missing, elapsed time: 0.001\n",
            "Imputing row 1/30 with 19 missing, elapsed time: 0.001\n",
            "Imputing row 1/30 with 19 missing, elapsed time: 0.001\n",
            "Imputing row 1/30 with 19 missing, elapsed time: 0.001\n"
          ],
          "name": "stdout"
        }
      ]
    },
    {
      "metadata": {
        "id": "NBuu9MG0ZPmN",
        "colab_type": "code",
        "colab": {}
      },
      "cell_type": "code",
      "source": [
        "assert best_k == 3"
      ],
      "execution_count": 0,
      "outputs": []
    },
    {
      "metadata": {
        "id": "rBerX_PxZPmP",
        "colab_type": "text"
      },
      "cell_type": "markdown",
      "source": [
        "Now that we have found the `best_k` to use let's see how well it performed:"
      ]
    },
    {
      "metadata": {
        "id": "5FyazzJHZPmQ",
        "colab_type": "code",
        "colab": {
          "base_uri": "https://localhost:8080/",
          "height": 50
        },
        "outputId": "66c048e6-9bab-471b-bdc6-b5114d61358b"
      },
      "cell_type": "code",
      "source": [
        "# Run KNN with the best_k and store the result in X_filled_knn\n",
        "\n",
        "# YOUR CODE HERE\n",
        "#raise NotImplementedError()\n",
        "X_filled_knn = KNN(k=best_k).fit_transform(X_incomplete)\n",
        "knnFill_mse = mat_completion_mse(X_filled_knn, X, missing_mask)\n",
        "print(\"knnFill MSE: %f\" % knnFill_mse)"
      ],
      "execution_count": 15,
      "outputs": [
        {
          "output_type": "stream",
          "text": [
            "Imputing row 1/30 with 19 missing, elapsed time: 0.001\n",
            "knnFill MSE: 2.977082\n"
          ],
          "name": "stdout"
        }
      ]
    },
    {
      "metadata": {
        "id": "vWXp3-shZPmU",
        "colab_type": "code",
        "colab": {}
      },
      "cell_type": "code",
      "source": [
        "assert knnFill_mse < meanFill_mse"
      ],
      "execution_count": 0,
      "outputs": []
    },
    {
      "metadata": {
        "id": "qH7Pp_UTZPmV",
        "colab_type": "text"
      },
      "cell_type": "markdown",
      "source": [
        "## Visually Comparison of Matrix Completion Algorithms\n",
        "To get a good idea of how these matrix completion algorithms compare we want to create a method that visualizes how well these algorithms actually perform."
      ]
    },
    {
      "metadata": {
        "id": "3rUiX5-VZPmX",
        "colab_type": "code",
        "colab": {}
      },
      "cell_type": "code",
      "source": [
        "# This is an implementation of a matrix completion algorithm using alternating minimization.\n",
        "# It is derived from the handout supplied in today's class.\n",
        "\n",
        "class AlternatingMinimization:\n",
        "    def fit_transform(self, X_incomplete):\n",
        "        P = np.random.random_sample((n, inner_rank))\n",
        "        Q = np.random.random_sample((inner_rank, m))\n",
        "        # Fill in all missing values with zeros\n",
        "        X_incomplete_to_zero = np.nan_to_num(X_incomplete)\n",
        "\n",
        "        for i in range(0, 100):\n",
        "            P = X_incomplete_to_zero @ Q.T @ np.linalg.pinv(Q @ Q.T)\n",
        "            Q = np.linalg.pinv(P.T @ P) @ P.T @ X_incomplete_to_zero\n",
        "\n",
        "        X_filled = P @ Q\n",
        "        \n",
        "        return X_filled"
      ],
      "execution_count": 0,
      "outputs": []
    },
    {
      "metadata": {
        "id": "XEOBOigwZPma",
        "colab_type": "text"
      },
      "cell_type": "markdown",
      "source": [
        "#### Creating a Collection of Models\n",
        "Now we create a handful of matrix completion algorithms that we want to visualize:\n",
        " - Mean Fill\n",
        " - K-Nearest Neighbors\n",
        " - Alternating Minimization (derived in class)\n",
        " - MatrixFactorization (an implementaiton using gradient descent)"
      ]
    },
    {
      "metadata": {
        "id": "ApDafCkjZPmb",
        "colab_type": "code",
        "colab": {}
      },
      "cell_type": "code",
      "source": [
        "simpleFill = SimpleFill(\"mean\")\n",
        "knnFill = KNN(k=best_k)\n",
        "amFill = AlternatingMinimization()\n",
        "mfFill = MatrixFactorization(learning_rate=0.01, rank=5, l2_penalty=0, min_improvement=1e-6)\n",
        "methods = [simpleFill, knnFill, amFill, mfFill]\n",
        "names = [\"SimpleFill\", \"KNN\", \"AltMin\", \"MatFactor\"]"
      ],
      "execution_count": 0,
      "outputs": []
    },
    {
      "metadata": {
        "id": "kKxBYj9vZPmd",
        "colab_type": "code",
        "colab": {}
      },
      "cell_type": "code",
      "source": [
        "from sklearn.metrics import mean_squared_error\n",
        "def mat_completion_comparison(methods, incomplete_mat, complete_mat, missing_mask):\n",
        "    \"\"\"Using a list of provided matrix completion methods calculate \n",
        "    the completed matrix and the determine the associated \n",
        "    mean-squared-error results.\n",
        "    \n",
        "    Args:\n",
        "        methods (iterable): A list of matrix completion algorithms\n",
        "        incomplete_mat (np.ndarray): The incomplete matrix\n",
        "        complete_mat (np.ndarray): The full matrix\n",
        "        missing_mask (np.ndarray): Boolean array of missing values\n",
        "    \n",
        "    Returns:\n",
        "        filled_mats (iterable): the \"filled-in\" matrices\n",
        "        mses (iterable): the mean square error results\n",
        "    \"\"\"\n",
        "    X_filled_mats = []\n",
        "    mses = []\n",
        "    #for method in methods:\n",
        "        # YOUR CODE HERE\n",
        "        #raise NotImplementedError()\n",
        "        \n",
        "        #mses\n",
        "    for i in range(0, len(methods)):\n",
        "        X_filled_mats.append(i)\n",
        "        mses.append(i)\n",
        "        X_filled_mats[i] = methods[i].fit_transform(X_incomplete)\n",
        "        mses[i] = mean_squared_error(complete_mat, X_filled_mats[i])\n",
        "    return X_filled_mats, mses"
      ],
      "execution_count": 0,
      "outputs": []
    },
    {
      "metadata": {
        "id": "Ktl2x4VjZPmg",
        "colab_type": "code",
        "colab": {
          "base_uri": "https://localhost:8080/",
          "height": 252
        },
        "outputId": "44661329-34fd-4392-e92d-a1a46614d61f"
      },
      "cell_type": "code",
      "source": [
        "X_filled_mats, mses = mat_completion_comparison(methods, X_incomplete, X, missing_mask)\n",
        "assert len(X_filled_mats) == len(methods)\n",
        "assert len(mses) == len(methods)\n"
      ],
      "execution_count": 35,
      "outputs": [
        {
          "output_type": "stream",
          "text": [
            "Imputing row 1/30 with 19 missing, elapsed time: 0.003\n",
            "Train on 471 samples, validate on 53 samples\n",
            "Epoch 1/10000\n",
            "471/471 [==============================] - 1s 2ms/step - loss: 1.1516 - val_loss: 1.0840\n",
            "Epoch 2/10000\n",
            "471/471 [==============================] - 0s 19us/step - loss: 1.1208 - val_loss: 1.0945\n",
            "Epoch 3/10000\n",
            "471/471 [==============================] - 0s 14us/step - loss: 1.0998 - val_loss: 1.1043\n",
            "Epoch 4/10000\n",
            "471/471 [==============================] - 0s 11us/step - loss: 1.0812 - val_loss: 1.1136\n",
            "Epoch 5/10000\n",
            "471/471 [==============================] - 0s 10us/step - loss: 1.0635 - val_loss: 1.1233\n",
            "Epoch 6/10000\n",
            "471/471 [==============================] - 0s 10us/step - loss: 1.0461 - val_loss: 1.1324\n"
          ],
          "name": "stdout"
        }
      ]
    },
    {
      "metadata": {
        "id": "oDsBpyqRZPmh",
        "colab_type": "code",
        "colab": {
          "base_uri": "https://localhost:8080/",
          "height": 202
        },
        "outputId": "2c8382b3-8dce-42cf-b5b5-0b8c5bd2bf07"
      },
      "cell_type": "code",
      "source": [
        "plt.figure(figsize = (10,6)) # Change the figure size to your liking\n",
        "\n",
        "for i in range(0, len(methods)):\n",
        "    X_filled = X_filled_mats[i]\n",
        "    mse = mses[i]\n",
        "    ax = plt.subplot(141 + i)\n",
        "    ax.imshow(X_filled)\n",
        "    ax.title.set_text(\"MSE: \" + str(round(mse, 2)))\n",
        "    ax.set_xlabel(names[i])\n",
        "    ax.grid(False)\n",
        "    \n",
        "plt.show()"
      ],
      "execution_count": 37,
      "outputs": [
        {
          "output_type": "display_data",
          "data": {
            "image/png": "[encoded data removed]",
            "text/plain": [
              "<matplotlib.figure.Figure at 0x7f7bc8027dd8>"
            ]
          },
          "metadata": {
            "tags": []
          }
        }
      ]
    },
    {
      "metadata": {
        "id": "enuup11VZPmj",
        "colab_type": "text"
      },
      "cell_type": "markdown",
      "source": [
        "## Feedback"
      ]
    },
    {
      "metadata": {
        "id": "PQxjQ_uzZPmk",
        "colab_type": "code",
        "colab": {}
      },
      "cell_type": "code",
      "source": [
        "def feedback():\n",
        "    \"\"\"Provide feedback on the contents of this exercise\n",
        "    \n",
        "    Returns:\n",
        "        string\n",
        "    \"\"\"\n",
        "    # YOUR CODE HERE\n",
        "    raise NotImplementedError()"
      ],
      "execution_count": 0,
      "outputs": []
    },
    {
      "metadata": {
        "id": "ws9w9TWpZPmn",
        "colab_type": "code",
        "colab": {}
      },
      "cell_type": "code",
      "source": [
        ""
      ],
      "execution_count": 0,
      "outputs": []
    }
  ]
}