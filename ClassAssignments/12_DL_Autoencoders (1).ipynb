{
  "nbformat": 4,
  "nbformat_minor": 0,
  "metadata": {
    "colab": {
      "name": "12 - DL - Autoencoders.ipynb",
      "version": "0.3.2",
      "provenance": []
    },
    "kernelspec": {
      "name": "python3",
      "display_name": "Python 3"
    }
  },
  "cells": [
    {
      "metadata": {
        "deletable": false,
        "editable": false,
        "nbgrader": {
          "checksum": "9ec7e6bb9b5b0b4bfad5353e4c16a5ee",
          "grade": false,
          "grade_id": "cell-02f2e430dc0f2177",
          "locked": true,
          "schema_version": 1,
          "solution": false
        },
        "id": "Gr_Op2jrAMPQ",
        "colab_type": "text"
      },
      "cell_type": "markdown",
      "source": [
        "# Deep Learning - Autoencoders"
      ]
    },
    {
      "metadata": {
        "id": "JRVMT2wRUJXj",
        "colab_type": "text"
      },
      "cell_type": "markdown",
      "source": [
        ""
      ]
    },
    {
      "metadata": {
        "deletable": false,
        "editable": false,
        "nbgrader": {
          "checksum": "a0a0e8944df35c1527cd862b4f047f31",
          "grade": false,
          "grade_id": "cell-bfa63f9cefeb60ef",
          "locked": true,
          "schema_version": 1,
          "solution": false
        },
        "id": "x1WmAI7yAMPS",
        "colab_type": "code",
        "colab": {}
      },
      "cell_type": "code",
      "source": [
        "import tensorflow as tf\n",
        "import tensorflow.keras as keras\n",
        "from tensorflow.keras.layers import Dense\n",
        "from tensorflow.keras import Model, Input\n",
        "import sklearn as sk\n",
        "from sklearn.datasets import load_breast_cancer\n",
        "from sklearn.model_selection import train_test_split\n",
        "from sklearn.svm import LinearSVC\n",
        "import numpy as np\n",
        "\n",
        "\n",
        "np.random.seed(0)"
      ],
      "execution_count": 0,
      "outputs": []
    },
    {
      "metadata": {
        "deletable": false,
        "editable": false,
        "nbgrader": {
          "checksum": "743ff3769201472ef308f07514cb465a",
          "grade": false,
          "grade_id": "cell-ef6a42882991834b",
          "locked": true,
          "schema_version": 1,
          "solution": false
        },
        "id": "T3H3y40HAMPa",
        "colab_type": "code",
        "colab": {}
      },
      "cell_type": "code",
      "source": [
        "features, targets = load_breast_cancer(True)\n",
        "X_train, X_test, y_train, y_test = train_test_split(features, targets, random_state=0)"
      ],
      "execution_count": 0,
      "outputs": []
    },
    {
      "metadata": {
        "deletable": false,
        "editable": false,
        "nbgrader": {
          "checksum": "df5341077b780730a6fa7f1d7155c2f4",
          "grade": false,
          "grade_id": "cell-00fdca3096d5954a",
          "locked": true,
          "schema_version": 1,
          "solution": false
        },
        "id": "NYNKWvGjAMPg",
        "colab_type": "code",
        "colab": {
          "base_uri": "https://localhost:8080/",
          "height": 34
        },
        "outputId": "1e9ce1b8-bb05-4dfd-c966-d34c2e43f3c0"
      },
      "cell_type": "code",
      "source": [
        "X_train.shape"
      ],
      "execution_count": 55,
      "outputs": [
        {
          "output_type": "execute_result",
          "data": {
            "text/plain": [
              "(426, 30)"
            ]
          },
          "metadata": {
            "tags": []
          },
          "execution_count": 55
        }
      ]
    },
    {
      "metadata": {
        "deletable": false,
        "editable": false,
        "nbgrader": {
          "checksum": "ff1b6e8f06d130af3d0653d5b096a936",
          "grade": false,
          "grade_id": "cell-d500a79191103d38",
          "locked": true,
          "schema_version": 1,
          "solution": false
        },
        "id": "Y5h7iXw5AMPj",
        "colab_type": "code",
        "colab": {
          "base_uri": "https://localhost:8080/",
          "height": 235
        },
        "outputId": "37057404-487a-4546-97e5-9bedd4f87f36"
      },
      "cell_type": "code",
      "source": [
        "X_train"
      ],
      "execution_count": 56,
      "outputs": [
        {
          "output_type": "execute_result",
          "data": {
            "text/plain": [
              "array([[1.185e+01, 1.746e+01, 7.554e+01, ..., 9.140e-02, 3.101e-01,\n",
              "        7.007e-02],\n",
              "       [1.122e+01, 1.986e+01, 7.194e+01, ..., 2.022e-02, 3.292e-01,\n",
              "        6.522e-02],\n",
              "       [2.013e+01, 2.825e+01, 1.312e+02, ..., 1.628e-01, 2.572e-01,\n",
              "        6.637e-02],\n",
              "       ...,\n",
              "       [9.436e+00, 1.832e+01, 5.982e+01, ..., 5.052e-02, 2.454e-01,\n",
              "        8.136e-02],\n",
              "       [9.720e+00, 1.822e+01, 6.073e+01, ..., 0.000e+00, 1.909e-01,\n",
              "        6.559e-02],\n",
              "       [1.151e+01, 2.393e+01, 7.452e+01, ..., 9.653e-02, 2.112e-01,\n",
              "        8.732e-02]])"
            ]
          },
          "metadata": {
            "tags": []
          },
          "execution_count": 56
        }
      ]
    },
    {
      "metadata": {
        "deletable": false,
        "editable": false,
        "nbgrader": {
          "checksum": "22e52b54db4e5f64a1c3afa3c3e85122",
          "grade": false,
          "grade_id": "cell-ee63a46921cf0ff7",
          "locked": true,
          "schema_version": 1,
          "solution": false
        },
        "id": "_zSLfihvAMPm",
        "colab_type": "code",
        "colab": {
          "base_uri": "https://localhost:8080/",
          "height": 34
        },
        "outputId": "f4e971e2-81fd-475f-e428-baa4b5262d34"
      },
      "cell_type": "code",
      "source": [
        "y_train.shape"
      ],
      "execution_count": 57,
      "outputs": [
        {
          "output_type": "execute_result",
          "data": {
            "text/plain": [
              "(426,)"
            ]
          },
          "metadata": {
            "tags": []
          },
          "execution_count": 57
        }
      ]
    },
    {
      "metadata": {
        "deletable": false,
        "editable": false,
        "nbgrader": {
          "checksum": "dba2937127aacbe753cd5293b4f0cb5d",
          "grade": false,
          "grade_id": "cell-a91b741d4ee54822",
          "locked": true,
          "schema_version": 1,
          "solution": false
        },
        "id": "5VnMXgyiAMPq",
        "colab_type": "code",
        "colab": {
          "base_uri": "https://localhost:8080/",
          "height": 353
        },
        "outputId": "4ce1ebdb-1491-445a-aef7-e62a26bacced"
      },
      "cell_type": "code",
      "source": [
        "y_train"
      ],
      "execution_count": 58,
      "outputs": [
        {
          "output_type": "execute_result",
          "data": {
            "text/plain": [
              "array([1, 1, 0, 1, 0, 1, 1, 1, 1, 1, 1, 1, 0, 1, 0, 1, 0, 0, 1, 1, 0, 1,\n",
              "       0, 0, 0, 1, 1, 1, 1, 1, 1, 0, 1, 1, 1, 1, 0, 0, 1, 1, 0, 1, 1, 1,\n",
              "       1, 0, 1, 1, 0, 0, 1, 1, 0, 0, 1, 1, 0, 1, 1, 0, 0, 0, 1, 1, 1, 0,\n",
              "       1, 1, 1, 1, 1, 0, 1, 0, 1, 0, 1, 0, 1, 0, 1, 1, 1, 1, 0, 1, 0, 1,\n",
              "       1, 1, 0, 1, 1, 1, 0, 1, 1, 0, 0, 1, 0, 1, 0, 1, 0, 0, 0, 0, 1, 0,\n",
              "       1, 0, 1, 0, 1, 0, 1, 1, 0, 1, 1, 1, 1, 1, 1, 1, 1, 1, 1, 1, 1, 1,\n",
              "       0, 1, 1, 1, 0, 1, 1, 1, 1, 1, 1, 0, 1, 0, 1, 1, 0, 1, 0, 0, 1, 0,\n",
              "       0, 1, 1, 0, 1, 1, 1, 0, 1, 1, 1, 1, 1, 0, 0, 1, 1, 1, 1, 0, 0, 1,\n",
              "       1, 1, 1, 0, 1, 1, 0, 1, 1, 0, 1, 0, 1, 1, 1, 1, 0, 0, 0, 0, 1, 0,\n",
              "       1, 0, 0, 1, 1, 1, 1, 1, 0, 1, 1, 0, 1, 1, 0, 0, 1, 1, 1, 0, 0, 1,\n",
              "       1, 0, 1, 1, 1, 0, 1, 0, 1, 0, 0, 0, 0, 1, 1, 1, 1, 0, 0, 1, 1, 1,\n",
              "       1, 1, 0, 1, 1, 0, 1, 1, 0, 0, 0, 0, 1, 1, 0, 1, 1, 1, 0, 0, 1, 1,\n",
              "       1, 1, 1, 0, 0, 0, 1, 0, 0, 1, 1, 1, 1, 1, 1, 0, 1, 1, 1, 1, 1, 1,\n",
              "       0, 0, 1, 0, 1, 0, 0, 1, 1, 1, 1, 1, 0, 0, 0, 1, 1, 0, 0, 1, 1, 0,\n",
              "       1, 0, 0, 1, 0, 1, 1, 1, 1, 1, 1, 1, 0, 0, 1, 1, 1, 0, 1, 1, 1, 1,\n",
              "       0, 1, 0, 0, 0, 1, 0, 1, 0, 1, 0, 0, 1, 1, 1, 1, 1, 1, 1, 1, 0, 0,\n",
              "       0, 0, 0, 1, 1, 1, 1, 1, 1, 1, 0, 1, 0, 1, 1, 1, 1, 1, 0, 0, 0, 1,\n",
              "       0, 1, 1, 0, 0, 0, 0, 1, 0, 0, 0, 1, 0, 1, 0, 1, 1, 0, 0, 1, 0, 1,\n",
              "       1, 1, 1, 0, 1, 1, 0, 1, 1, 1, 0, 0, 1, 1, 1, 0, 1, 1, 0, 1, 1, 1,\n",
              "       1, 1, 0, 0, 0, 1, 1, 1])"
            ]
          },
          "metadata": {
            "tags": []
          },
          "execution_count": 58
        }
      ]
    },
    {
      "metadata": {
        "deletable": false,
        "editable": false,
        "nbgrader": {
          "checksum": "87d9912e533f762901c1adf9af54aa09",
          "grade": false,
          "grade_id": "cell-1176b78d06c61ed0",
          "locked": true,
          "schema_version": 1,
          "solution": false
        },
        "id": "7IB9uXjFAMPw",
        "colab_type": "text"
      },
      "cell_type": "markdown",
      "source": [
        "In this exercise, instead of using the sequential model, we will use the base Model in tf.keras. There are two approaches to use tf.keras.Model and we will use the functional api as outlined in the [Model docs](https://www.tensorflow.org/api_docs/python/tf/keras/models/Model)."
      ]
    },
    {
      "metadata": {
        "deletable": false,
        "nbgrader": {
          "checksum": "252ec3ad403f5b6d79e65f35464fa7e5",
          "grade": false,
          "grade_id": "cell-b228946b2927aed3",
          "locked": false,
          "schema_version": 1,
          "solution": true
        },
        "id": "6CI_9WjWAMPx",
        "colab_type": "code",
        "colab": {}
      },
      "cell_type": "code",
      "source": [
        "# Determine the input dimensions of each datapoint and create a tf.keras.Input object and set it to inputs\n",
        "# Select a dimension for the embedding output and set to embedding_dim\n",
        "# YOUR CODE HERE\n",
        "#X_train.shape\n",
        "\n",
        "\n",
        "inputs = tf.keras.Input(shape=(30,2))\n",
        "embedding_dim = 3\n",
        "              "
      ],
      "execution_count": 0,
      "outputs": []
    },
    {
      "metadata": {
        "deletable": false,
        "editable": false,
        "nbgrader": {
          "checksum": "d98717bce0284d3c1297a3e243764417",
          "grade": true,
          "grade_id": "cell-3cc87f89c7f8bf0f",
          "locked": true,
          "points": 5,
          "schema_version": 1,
          "solution": false
        },
        "id": "XnBHHA9hAMP0",
        "colab_type": "code",
        "colab": {}
      },
      "cell_type": "code",
      "source": [
        "assert inputs.shape[1] == X_train.shape[1]\n",
        "assert isinstance(embedding_dim, int)\n",
        "assert embedding_dim >0\n",
        "assert embedding_dim <= 5"
      ],
      "execution_count": 0,
      "outputs": []
    },
    {
      "metadata": {
        "deletable": false,
        "nbgrader": {
          "checksum": "f50fbf0106aa1e0f1f39369d38a2d466",
          "grade": false,
          "grade_id": "cell-18891b82369b7f2b",
          "locked": false,
          "schema_version": 1,
          "solution": true
        },
        "id": "Ozu1Df7_AMP5",
        "colab_type": "code",
        "colab": {
          "base_uri": "https://localhost:8080/",
          "height": 34
        },
        "outputId": "0c3760a5-e25f-49e0-820c-644e8c7e0894"
      },
      "cell_type": "code",
      "source": [
        "# Chain 2 dense layers with 10, and embedding_dim neurons respectively and set them to encoded\n",
        "# Use ReLU as the activation function for the first layer and do not set an activation for the final layer\n",
        "# YOUR CODE HERE\n",
        "\n",
        "encoded = [\n",
        "    Dense(10, activation=tf.nn.relu)(inputs),\n",
        "    Dense(embedding_dim)(inputs)\n",
        "]\n",
        "\n",
        "\n",
        "len(encoded)"
      ],
      "execution_count": 182,
      "outputs": [
        {
          "output_type": "execute_result",
          "data": {
            "text/plain": [
              "2"
            ]
          },
          "metadata": {
            "tags": []
          },
          "execution_count": 182
        }
      ]
    },
    {
      "metadata": {
        "deletable": false,
        "editable": false,
        "nbgrader": {
          "checksum": "31abc5cfc4f7c5a5576572024e68b292",
          "grade": true,
          "grade_id": "cell-4bec706b02502c9c",
          "locked": true,
          "points": 5,
          "schema_version": 1,
          "solution": false
        },
        "id": "zOpxBO-3AMP8",
        "colab_type": "code",
        "colab": {}
      },
      "cell_type": "code",
      "source": [
        "testM = Model(inputs, encoded)\n",
        "assert len(testM.layers) == 3\n",
        "#assert encoded.shape[1] == embedding_dim"
      ],
      "execution_count": 0,
      "outputs": []
    },
    {
      "metadata": {
        "deletable": false,
        "nbgrader": {
          "checksum": "831d3e319f332df1340ad1d07d170529",
          "grade": false,
          "grade_id": "cell-4331d11179de97f3",
          "locked": false,
          "schema_version": 1,
          "solution": true
        },
        "id": "WGx5NSTrAMQB",
        "colab_type": "code",
        "colab": {
          "base_uri": "https://localhost:8080/",
          "height": 34
        },
        "outputId": "faec136b-c03d-4f31-f0b5-e112c4c5ca8d"
      },
      "cell_type": "code",
      "source": [
        "# Chain 2 dense layers with 10, and input shape neurons respectively after the encoded output\n",
        "# Set this to decoded\n",
        "# YOUR CODE HERE\n",
        "\n",
        "\n",
        "\n",
        "decoded = [\n",
        "    Dense(10, activation=tf.nn.relu)(inputs),\n",
        "    Dense(embedding_dim)(inputs),\n",
        "    Dense(10, input_shape=(30,1))(inputs),\n",
        "    Dense(10, input_shape=(30,1))(inputs)\n",
        "]\n",
        "\n",
        "\n",
        "len(decoded)"
      ],
      "execution_count": 185,
      "outputs": [
        {
          "output_type": "execute_result",
          "data": {
            "text/plain": [
              "4"
            ]
          },
          "metadata": {
            "tags": []
          },
          "execution_count": 185
        }
      ]
    },
    {
      "metadata": {
        "deletable": false,
        "editable": false,
        "nbgrader": {
          "checksum": "226c9a566578efa0ca1455d7f48e6c19",
          "grade": true,
          "grade_id": "cell-3ea6527c01beb144",
          "locked": true,
          "points": 5,
          "schema_version": 1,
          "solution": false
        },
        "id": "WFw8nbkSAMQE",
        "colab_type": "code",
        "colab": {
          "base_uri": "https://localhost:8080/",
          "height": 34
        },
        "outputId": "d1c35e33-5324-4403-fde0-8f0d172f1dcd"
      },
      "cell_type": "code",
      "source": [
        "testM = Model(inputs, decoded)\n",
        "print(len(testM.layers))\n",
        "assert len(testM.layers) == 5\n"
      ],
      "execution_count": 186,
      "outputs": [
        {
          "output_type": "stream",
          "text": [
            "5\n"
          ],
          "name": "stdout"
        }
      ]
    },
    {
      "metadata": {
        "deletable": false,
        "editable": false,
        "nbgrader": {
          "checksum": "531a7b0843e810ff20efd8d0b792ac16",
          "grade": false,
          "grade_id": "cell-2205a928bea57abe",
          "locked": true,
          "schema_version": 1,
          "solution": false
        },
        "id": "HuRHTpbZAMQH",
        "colab_type": "code",
        "colab": {}
      },
      "cell_type": "code",
      "source": [
        "# Create the autoencoder\n",
        "autoencoder = Model(inputs,decoded)\n",
        "\n",
        "# Create the encoder which takes the same inputs but stops at the encoded layers\n",
        "encoder = Model(inputs, encoded)\n",
        "\n",
        "# Create the decoder which starts at the encoded output and uses the remaining layers\n",
        "encoded_embedding = Input(shape=(embedding_dim,))\n",
        "\n",
        "decoder_layer2 = autoencoder.layers[-2]\n",
        "decoder_layer3 = autoencoder.layers[-1]\n",
        "\n",
        "#decoder_out = decoder_layer3(decoder_layer2(encoded_embedding))\n",
        "\n",
        "#decoder = Model(encoded_embedding, decoder_out)"
      ],
      "execution_count": 0,
      "outputs": []
    },
    {
      "metadata": {
        "deletable": false,
        "editable": false,
        "nbgrader": {
          "checksum": "0a52ab3bfe8b24ae9c9ed47ab10068bd",
          "grade": false,
          "grade_id": "cell-92f803b5ba04dadd",
          "locked": true,
          "schema_version": 1,
          "solution": false
        },
        "id": "H-2EeC2LAMQL",
        "colab_type": "code",
        "colab": {}
      },
      "cell_type": "code",
      "source": [
        "# Compile the model with \n",
        "autoencoder.compile(optimizer=\"adam\", loss=\"mse\")\n"
      ],
      "execution_count": 0,
      "outputs": []
    },
    {
      "metadata": {
        "deletable": false,
        "editable": false,
        "nbgrader": {
          "checksum": "7adbc190147886e09a36f1291733b549",
          "grade": false,
          "grade_id": "cell-25699d121c563596",
          "locked": true,
          "schema_version": 1,
          "solution": false
        },
        "id": "6qTPe-cvAMQO",
        "colab_type": "code",
        "colab": {
          "base_uri": "https://localhost:8080/",
          "height": 322
        },
        "outputId": "5b6a726b-0926-4cdc-d980-de91f2c5053b"
      },
      "cell_type": "code",
      "source": [
        "autoencoder.summary()"
      ],
      "execution_count": 189,
      "outputs": [
        {
          "output_type": "stream",
          "text": [
            "__________________________________________________________________________________________________\n",
            "Layer (type)                    Output Shape         Param #     Connected to                     \n",
            "==================================================================================================\n",
            "input_49 (InputLayer)           (None, 30, 2)        0                                            \n",
            "__________________________________________________________________________________________________\n",
            "dense_95 (Dense)                (None, 30, 10)       30          input_49[0][0]                   \n",
            "__________________________________________________________________________________________________\n",
            "dense_96 (Dense)                (None, 30, 3)        9           input_49[0][0]                   \n",
            "__________________________________________________________________________________________________\n",
            "dense_97 (Dense)                (None, 30, 10)       30          input_49[0][0]                   \n",
            "__________________________________________________________________________________________________\n",
            "dense_98 (Dense)                (None, 30, 10)       30          input_49[0][0]                   \n",
            "==================================================================================================\n",
            "Total params: 99\n",
            "Trainable params: 99\n",
            "Non-trainable params: 0\n",
            "__________________________________________________________________________________________________\n"
          ],
          "name": "stdout"
        }
      ]
    },
    {
      "metadata": {
        "deletable": false,
        "editable": false,
        "nbgrader": {
          "checksum": "0f548879bd197ac235bc863b352b6483",
          "grade": false,
          "grade_id": "cell-1095f38e46bb02b4",
          "locked": true,
          "schema_version": 1,
          "solution": false
        },
        "id": "C1x7lunDAMQc",
        "colab_type": "text"
      },
      "cell_type": "markdown",
      "source": [
        "## Feedback"
      ]
    },
    {
      "metadata": {
        "deletable": false,
        "nbgrader": {
          "checksum": "ed936ab53a1391c5e6af8df699a1dbf5",
          "grade": false,
          "grade_id": "feedback",
          "locked": false,
          "schema_version": 1,
          "solution": true
        },
        "id": "kgHMxd0GAMQd",
        "colab_type": "code",
        "colab": {}
      },
      "cell_type": "code",
      "source": [
        "def feedback():\n",
        "    \"\"\"Provide feedback on the contents of this exercise\n",
        "    \n",
        "    Returns:\n",
        "        string\n",
        "    \"\"\"\n",
        "    # YOUR CODE HERE\n",
        "    raise NotImplementedError()"
      ],
      "execution_count": 0,
      "outputs": []
    },
    {
      "metadata": {
        "deletable": false,
        "editable": false,
        "nbgrader": {
          "checksum": "f39f6185a54850c2f1f9b5b2a17b7543",
          "grade": true,
          "grade_id": "feedback-tests",
          "locked": true,
          "points": 0,
          "schema_version": 1,
          "solution": false
        },
        "id": "tMXryD7kAMQf",
        "colab_type": "code",
        "colab": {}
      },
      "cell_type": "code",
      "source": [
        ""
      ],
      "execution_count": 0,
      "outputs": []
    }
  ]
}