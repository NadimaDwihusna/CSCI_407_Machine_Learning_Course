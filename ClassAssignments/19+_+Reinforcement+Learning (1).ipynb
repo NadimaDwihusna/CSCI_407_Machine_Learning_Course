{
  "nbformat": 4,
  "nbformat_minor": 0,
  "metadata": {
    "colab": {
      "name": "19+-+Reinforcement+Learning.ipynb",
      "version": "0.3.2",
      "provenance": []
    },
    "kernelspec": {
      "name": "python3",
      "display_name": "Python 3"
    }
  },
  "cells": [
    {
      "metadata": {
        "deletable": false,
        "editable": false,
        "nbgrader": {
          "checksum": "c72cb50c0e638cb004dec850c91c6f1b",
          "grade": false,
          "grade_id": "cell-0ee2026dc35233b5",
          "locked": true,
          "schema_version": 1,
          "solution": false
        },
        "id": "GCSZXgG9pNF6",
        "colab_type": "text"
      },
      "cell_type": "markdown",
      "source": [
        "# Reinforcement Learning"
      ]
    },
    {
      "metadata": {
        "deletable": false,
        "editable": false,
        "nbgrader": {
          "checksum": "27b264c04bfd4e8ba35f88d24eac77b2",
          "grade": false,
          "grade_id": "cell-6c42419557b8f132",
          "locked": true,
          "schema_version": 1,
          "solution": false
        },
        "id": "We21NAK3pNF7",
        "colab_type": "code",
        "outputId": "b17acc82-a13c-4888-8577-b459749f72a2",
        "colab": {
          "base_uri": "https://localhost:8080/",
          "height": 222
        }
      },
      "cell_type": "code",
      "source": [
        "from time import sleep\n",
        "from IPython.display import clear_output\n",
        "import random\n",
        "!pip install gym\n",
        "import gym\n",
        "import numpy as np\n",
        "np.random.seed(0)"
      ],
      "execution_count": 2,
      "outputs": [
        {
          "output_type": "stream",
          "text": [
            "Requirement already satisfied: gym in /usr/local/lib/python3.6/dist-packages (0.10.9)\n",
            "Requirement already satisfied: numpy>=1.10.4 in /usr/local/lib/python3.6/dist-packages (from gym) (1.14.6)\n",
            "Requirement already satisfied: six in /usr/local/lib/python3.6/dist-packages (from gym) (1.11.0)\n",
            "Requirement already satisfied: scipy in /usr/local/lib/python3.6/dist-packages (from gym) (1.1.0)\n",
            "Requirement already satisfied: pyglet>=1.2.0 in /usr/local/lib/python3.6/dist-packages (from gym) (1.3.2)\n",
            "Requirement already satisfied: requests>=2.0 in /usr/local/lib/python3.6/dist-packages (from gym) (2.18.4)\n",
            "Requirement already satisfied: future in /usr/local/lib/python3.6/dist-packages (from pyglet>=1.2.0->gym) (0.16.0)\n",
            "Requirement already satisfied: urllib3<1.23,>=1.21.1 in /usr/local/lib/python3.6/dist-packages (from requests>=2.0->gym) (1.22)\n",
            "Requirement already satisfied: chardet<3.1.0,>=3.0.2 in /usr/local/lib/python3.6/dist-packages (from requests>=2.0->gym) (3.0.4)\n",
            "Requirement already satisfied: idna<2.7,>=2.5 in /usr/local/lib/python3.6/dist-packages (from requests>=2.0->gym) (2.6)\n",
            "Requirement already satisfied: certifi>=2017.4.17 in /usr/local/lib/python3.6/dist-packages (from requests>=2.0->gym) (2018.10.15)\n"
          ],
          "name": "stdout"
        }
      ]
    },
    {
      "metadata": {
        "deletable": false,
        "editable": false,
        "nbgrader": {
          "checksum": "04fc115d6dcc23c5c058ef84dde2936b",
          "grade": false,
          "grade_id": "cell-36cbf46419269559",
          "locked": true,
          "schema_version": 1,
          "solution": false
        },
        "id": "FDAs5I2jpNGA",
        "colab_type": "text"
      },
      "cell_type": "markdown",
      "source": [
        "We will be using [OpenAI's gym](https://gym.openai.com/docs/) for rendering environments and we will specifically use the [Taxi-v2](https://gym.openai.com/envs/Taxi-v2/) environment for this exercise. "
      ]
    },
    {
      "metadata": {
        "deletable": false,
        "editable": false,
        "nbgrader": {
          "checksum": "57661b0cbd0071ec3e8064152ac91d5c",
          "grade": false,
          "grade_id": "cell-ae8bb9fd4f2545d3",
          "locked": true,
          "schema_version": 1,
          "solution": false
        },
        "id": "r1OwTufEpNGB",
        "colab_type": "code",
        "outputId": "a30cc22d-03e4-49fe-c442-fb4658a83a26",
        "colab": {
          "base_uri": "https://localhost:8080/",
          "height": 222
        }
      },
      "cell_type": "code",
      "source": [
        "# Load the Taxi-v2 environment\n",
        "env = gym.make(\"Taxi-v2\").env\n",
        "\n",
        "# Standardize expected results\n",
        "env.seed(0)\n",
        "env.reset()\n",
        "\n",
        "print(f\"Current State: {env.s}\")\n",
        "env.render()"
      ],
      "execution_count": 3,
      "outputs": [
        {
          "output_type": "stream",
          "text": [
            "Current State: 26\n",
            "+---------+\n",
            "|R:\u001b[43m \u001b[0m| : :\u001b[34;1mG\u001b[0m|\n",
            "| : : : : |\n",
            "| : : : : |\n",
            "| | : | : |\n",
            "|\u001b[35mY\u001b[0m| : |B: |\n",
            "+---------+\n",
            "\n"
          ],
          "name": "stdout"
        },
        {
          "output_type": "stream",
          "text": [
            "/usr/local/lib/python3.6/dist-packages/gym/envs/registration.py:14: PkgResourcesDeprecationWarning: Parameters to load are deprecated.  Call .resolve and .require separately.\n",
            "  result = entry_point.load(False)\n"
          ],
          "name": "stderr"
        }
      ]
    },
    {
      "metadata": {
        "deletable": false,
        "editable": false,
        "nbgrader": {
          "checksum": "dc2a866c67a68b7e0392bf4f9ab5d0c7",
          "grade": false,
          "grade_id": "cell-373c22c099142701",
          "locked": true,
          "schema_version": 1,
          "solution": false
        },
        "id": "xrWKVlC3pNGD",
        "colab_type": "text"
      },
      "cell_type": "markdown",
      "source": [
        "The above section just rendered an example view of the environment. For the Taxi-v2 environment,\n",
        "\n",
        "1. the block is the taxi and it is yellow if empty and green if it contains a passenger\n",
        "1. Pipe symbols `|` represent barriers preventing the taxi from moving in that direction\n",
        "1. R, G, Y, B are all the possible pickup or dropoff locations for a passenger\n",
        "1. Blue represents the current passenger's pickup location\n",
        "1. Purple represents the current passenger's dropoff location\n",
        "\n",
        "The reward scheme for this environment is as follows, \"your job is to pick up the passenger at one location and drop them off in another. You receive +20 points for a successful dropoff, and lose 1 point for every timestep it takes. There is also a 10 point penalty for illegal pick-up and drop-off actions.\""
      ]
    },
    {
      "metadata": {
        "deletable": false,
        "editable": false,
        "nbgrader": {
          "checksum": "f1d663986a59f94d6cb03dd3d23b8bae",
          "grade": false,
          "grade_id": "cell-73b4814ef8176fe2",
          "locked": true,
          "schema_version": 1,
          "solution": false
        },
        "id": "kg1cTfsvpNGF",
        "colab_type": "code",
        "outputId": "f58ef56c-b927-4b4d-b6ba-da4f63a2f91b",
        "colab": {
          "base_uri": "https://localhost:8080/",
          "height": 50
        }
      },
      "cell_type": "code",
      "source": [
        "print(f\"The action space is discrete with {env.action_space.n} possibilities.\")\n",
        "print(f\"The observation (state) space is discrete with {env.observation_space.n} possibilities.\")"
      ],
      "execution_count": 4,
      "outputs": [
        {
          "output_type": "stream",
          "text": [
            "The action space is discrete with 6 possibilities.\n",
            "The observation (state) space is discrete with 500 possibilities.\n"
          ],
          "name": "stdout"
        }
      ]
    },
    {
      "metadata": {
        "deletable": false,
        "editable": false,
        "nbgrader": {
          "checksum": "129dda2db9b3af51fe218cf4cd044163",
          "grade": false,
          "grade_id": "cell-eadba99486bd8679",
          "locked": true,
          "schema_version": 1,
          "solution": false
        },
        "id": "oQg77wAhpNGH",
        "colab_type": "text"
      },
      "cell_type": "markdown",
      "source": [
        "The following actions are possible in the environment:\n",
        "\n",
        "1. Move south\n",
        "1. Move north\n",
        "1. Move east\n",
        "1. Move west\n",
        "1. Pick up passenger\n",
        "1. Drop off passenger"
      ]
    },
    {
      "metadata": {
        "deletable": false,
        "nbgrader": {
          "checksum": "194f3f42bf6fd716d67752983e962d56",
          "grade": false,
          "grade_id": "cell-5f22453e53fcf9cf",
          "locked": false,
          "schema_version": 1,
          "solution": true
        },
        "id": "oVZayd2EpNGI",
        "colab_type": "code",
        "colab": {}
      },
      "cell_type": "code",
      "source": [
        "def initialize_q_table(env):\n",
        "    \"\"\"Initialize a Q table for an environment with all 0s\n",
        "    \n",
        "    Args:\n",
        "        env (gym.envs): The environment\n",
        "    \n",
        "    Returns:\n",
        "        np.array: The Q table\n",
        "    \"\"\"\n",
        "    # YOUR CODE HERE\n",
        "      \n",
        "    return np.zeros([env.observation_space.n, env.action_space.n])\n",
        "    \n"
      ],
      "execution_count": 0,
      "outputs": []
    },
    {
      "metadata": {
        "deletable": false,
        "editable": false,
        "nbgrader": {
          "checksum": "89439d7ab26f71ec0aa9bd9b18cde47d",
          "grade": true,
          "grade_id": "cell-1f3967db32df3828",
          "locked": true,
          "points": 5,
          "schema_version": 1,
          "solution": false
        },
        "id": "l7euUuNbpNGM",
        "colab_type": "code",
        "outputId": "b1a8d75d-1533-4e91-d501-840f43362f6e",
        "colab": {
          "base_uri": "https://localhost:8080/",
          "height": 70
        }
      },
      "cell_type": "code",
      "source": [
        "assert initialize_q_table(env).shape == (500, 6)\n",
        "xenv = gym.make(\"FrozenLake-v0\").env\n",
        "assert initialize_q_table(xenv).shape ==(16,4)"
      ],
      "execution_count": 6,
      "outputs": [
        {
          "output_type": "stream",
          "text": [
            "/usr/local/lib/python3.6/dist-packages/gym/envs/registration.py:14: PkgResourcesDeprecationWarning: Parameters to load are deprecated.  Call .resolve and .require separately.\n",
            "  result = entry_point.load(False)\n"
          ],
          "name": "stderr"
        }
      ]
    },
    {
      "metadata": {
        "deletable": false,
        "nbgrader": {
          "checksum": "bb5f4e29f42960f950f0acc632161d88",
          "grade": false,
          "grade_id": "cell-4b276160d41b4aa0",
          "locked": false,
          "schema_version": 1,
          "solution": true
        },
        "id": "uIKXnxmNpNGP",
        "colab_type": "code",
        "colab": {}
      },
      "cell_type": "code",
      "source": [
        "def select_action(q_row, method, epsilon=0.5):\n",
        "    \"\"\"Select the appropriate action given a Q table row for the state and a chosen method\n",
        "    \n",
        "    Args:\n",
        "        q_row (np.array): The row from the Q table to utilize\n",
        "        method (str): The method to use, either \"random\" or \"epsilon\"\n",
        "        epsilon (float, optional): Defaults to 0.5. The epsilon value to use for epislon-greed action selection\n",
        "    \n",
        "    Raises:\n",
        "        NameError: If method specified is not supported\n",
        "    \n",
        "    Returns:\n",
        "        int: The index of the action to apply\n",
        "    \"\"\"\n",
        "    if method not in [\"random\", \"epsilon\"]:\n",
        "        raise NameError(\"Undefined method.\")\n",
        "    \n",
        "    # YOUR CODE HERE\n",
        "    random = np.random.rand()\n",
        "    if method  == \"random\":\n",
        "      return int(random*len(q_row))\n",
        "    if method == \"epsilon\":\n",
        "      if random > epsilon:\n",
        "        return np.argmax(q_row)\n",
        "      else:\n",
        "        return int(random*len(q_row))\n",
        "\n",
        "    \n",
        "    "
      ],
      "execution_count": 0,
      "outputs": []
    },
    {
      "metadata": {
        "deletable": false,
        "editable": false,
        "nbgrader": {
          "checksum": "ec78e64fb3d0b6d16e2eaf9019a600cb",
          "grade": true,
          "grade_id": "cell-436a8b9b98845dd8",
          "locked": true,
          "points": 5,
          "schema_version": 1,
          "solution": false
        },
        "id": "DEFRr-2OpNGS",
        "colab_type": "code",
        "colab": {}
      },
      "cell_type": "code",
      "source": [
        "assert select_action(np.array([1,2,3,4]), \"epsilon\", epsilon=0) == 3\n",
        "assert select_action(np.array([1,2,3,4]), \"epsilon\", epsilon=1) in range(4)\n",
        "assert select_action(np.array([1,2,3,4]), \"random\") in range(4)"
      ],
      "execution_count": 0,
      "outputs": []
    },
    {
      "metadata": {
        "deletable": false,
        "editable": false,
        "nbgrader": {
          "checksum": "fa909ca128db7a5886bcb4b2e6225575",
          "grade": false,
          "grade_id": "cell-2171ed4400886241",
          "locked": true,
          "schema_version": 1,
          "solution": false
        },
        "id": "J6Wcmqo9pNGU",
        "colab_type": "text"
      },
      "cell_type": "markdown",
      "source": [
        "The `env.step(action)` method takes a parameter that is the action the agent decides to apply and returns 4 values:\n",
        "1. The new state\n",
        "1. The received reward\n",
        "1. Whether you have completed the task\n",
        "1. Miscellaneous information"
      ]
    },
    {
      "metadata": {
        "deletable": false,
        "editable": false,
        "nbgrader": {
          "checksum": "c8f3c85b8967d0c3131662c770503a19",
          "grade": false,
          "grade_id": "cell-219e07fb8178585a",
          "locked": true,
          "schema_version": 1,
          "solution": false
        },
        "id": "Otfg5k7XpNGW",
        "colab_type": "code",
        "outputId": "780b11b1-6c83-4700-9bec-a70d9b815949",
        "colab": {
          "base_uri": "https://localhost:8080/",
          "height": 87
        }
      },
      "cell_type": "code",
      "source": [
        "action = 0\n",
        "vals = env.step(action)\n",
        "print(f\"An example returned from a step with action 0\")\n",
        "print(vals)\n",
        "print(f\"This returns the new state {vals[0]}, the reward received ({vals[1]}) based on performing the action {action}, whether or not the task has been completed, {vals[2]}, and some additional miscellaneous info.\")"
      ],
      "execution_count": 9,
      "outputs": [
        {
          "output_type": "stream",
          "text": [
            "An example returned from a step with action 0\n",
            "(126, -1, False, {'prob': 1.0})\n",
            "This returns the new state 126, the reward received (-1) based on performing the action 0, whether or not the task has been completed, False, and some additional miscellaneous info.\n"
          ],
          "name": "stdout"
        }
      ]
    },
    {
      "metadata": {
        "deletable": false,
        "nbgrader": {
          "checksum": "f930657e2f5fb7602cdb97d7ef001d78",
          "grade": false,
          "grade_id": "cell-0234e0a3e6f2eb0a",
          "locked": false,
          "schema_version": 1,
          "solution": true
        },
        "id": "AMmZ4FdFpNGa",
        "colab_type": "code",
        "colab": {}
      },
      "cell_type": "code",
      "source": [
        "def calculate_new_q_val(q_table, state, action, reward, next_state, alpha, gamma):\n",
        "    \"\"\"Calculate the updated Q table value for a particular state and action given the necessary parameters\n",
        "    \n",
        "    Args:\n",
        "        q_table (np.array): The Q table\n",
        "        state (int): The current state of the simulation's index in the Q table\n",
        "        action (int): The current action's index in the Q table\n",
        "        reward (float): The returned reward value from the environment\n",
        "        next_state (int): The next state of the simulation's index in the Q table (Based on the environment)\n",
        "        alpha (float): The learning rate\n",
        "        gamma (float): The discount rate\n",
        "    \n",
        "    Returns:\n",
        "        float: The updated action-value expectation for the state and action\n",
        "    \"\"\"\n",
        "    # YOUR CODE HERE\n",
        "    a=(1 - alpha) * q_table[state,action]+ alpha* (reward + gamma*q_table[next_state,action])\n",
        "    return a\n"
      ],
      "execution_count": 0,
      "outputs": []
    },
    {
      "metadata": {
        "deletable": false,
        "editable": false,
        "nbgrader": {
          "checksum": "ca2f0f747e9f62e7fda1f85770414aed",
          "grade": true,
          "grade_id": "cell-f5c631dceb6c6cf0",
          "locked": true,
          "points": 5,
          "schema_version": 1,
          "solution": false
        },
        "id": "FPA8rQDlpNGc",
        "colab_type": "code",
        "colab": {}
      },
      "cell_type": "code",
      "source": [
        "test_q = np.array([[1,2,3,4],[1,2,3,4],[1,2,3,4]])\n",
        "assert -0.05 < calculate_new_q_val(test_q, 0, 1, 10, 1, 0.1, 0.2) - 2.88 < 0.05\n",
        "assert -0.05 < calculate_new_q_val(test_q, 0, 1, 1, 1, 0.1, 0.1) - 1.94 < 0.05\n",
        "assert -0.05 < calculate_new_q_val(test_q, 0, 1, -11, 2, 0.1, 0.1) - 0.74 < 0.05"
      ],
      "execution_count": 0,
      "outputs": []
    },
    {
      "metadata": {
        "deletable": false,
        "editable": false,
        "nbgrader": {
          "checksum": "cd64b8626b3cfc824a0a4f42e37a9348",
          "grade": false,
          "grade_id": "cell-b7b2eccdd9ee9f58",
          "locked": true,
          "schema_version": 1,
          "solution": false
        },
        "id": "7MrDA94fpNGf",
        "colab_type": "code",
        "colab": {}
      },
      "cell_type": "code",
      "source": [
        "epsilon1_params = {\n",
        "    \"method\": \"epsilon\",\n",
        "    \"epsilon\": 0.1,\n",
        "    \"alpha\": 0.1,\n",
        "    \"gamma\": 0.5\n",
        "}"
      ],
      "execution_count": 0,
      "outputs": []
    },
    {
      "metadata": {
        "deletable": false,
        "editable": false,
        "nbgrader": {
          "checksum": "fb2ef67b6b51049b7ec5d7d478dcab11",
          "grade": false,
          "grade_id": "cell-15780bf5037e08f3",
          "locked": true,
          "schema_version": 1,
          "solution": false
        },
        "id": "hCm8jgOrpNGi",
        "colab_type": "code",
        "colab": {}
      },
      "cell_type": "code",
      "source": [
        "epsilon2_params = {\n",
        "    \"method\": \"epsilon\",\n",
        "    \"epsilon\": 0.3,\n",
        "    \"alpha\": 0.1,\n",
        "    \"gamma\": 0.5\n",
        "}"
      ],
      "execution_count": 0,
      "outputs": []
    },
    {
      "metadata": {
        "deletable": false,
        "nbgrader": {
          "checksum": "ab25f1f541e256787bb12d1b5bac2819",
          "grade": false,
          "grade_id": "cell-13af0762ec7af495",
          "locked": false,
          "schema_version": 1,
          "solution": true
        },
        "id": "5_YQzi2vpNGk",
        "colab_type": "code",
        "colab": {}
      },
      "cell_type": "code",
      "source": [
        "def train_sim(env, params, n=100):\n",
        "    \"\"\"Train a simulation on an environment and return its Q table\n",
        "    \n",
        "    Args:\n",
        "        env (gym.envs): The environment to train in\n",
        "        params (dict): The parameters needed to train the simulation: method (for action selection), epsilon, alpha, gamma\n",
        "        n (int, optional): Defaults to 100. The number of simulations to run for training\n",
        "    \n",
        "    Returns:\n",
        "        np.array: The trained Q table from the simulation\n",
        "    \"\"\"\n",
        "    my_q = initialize_q_table(env)\n",
        "    \n",
        "    for i in range(n):\n",
        "        current_state = env.reset()\n",
        "        done = False\n",
        "        \n",
        "        while not done:\n",
        "            # Get the next action based on current state\n",
        "            # Step through the environment with the selected action\n",
        "            # Update the qtable\n",
        "            \n",
        "            # YOUR CODE HERE\n",
        "            method = params[\"method\"]\n",
        "            epsilon = params[\"epsilon\"]\n",
        "            alpha = params[\"alpha\"]\n",
        "            gamma = params[\"gamma\"]\n",
        "            action = select_action(my_q[current_state], method, epsilon)   \n",
        "            next_state, reward, done, info = env.step(action)\n",
        "            \n",
        "            my_q[current_state, action] = calculate_new_q_val(my_q, current_state, action, reward, next_state, alpha, gamma)\n",
        "\n",
        "            # Prep for next iteration\n",
        "            current_state = next_state \n",
        "\n",
        "        if (i+1) % 100 == 0:\n",
        "            print(f\"Simulation #{i+1:,} complete.\")\n",
        "        \n",
        "    return my_q"
      ],
      "execution_count": 0,
      "outputs": []
    },
    {
      "metadata": {
        "deletable": false,
        "editable": false,
        "nbgrader": {
          "checksum": "b09d65393362da33ebb91b8cd2aa9677",
          "grade": false,
          "grade_id": "cell-9edcffba53e06847",
          "locked": true,
          "schema_version": 1,
          "solution": false
        },
        "id": "Um5J_z5OpNGq",
        "colab_type": "code",
        "outputId": "88e21e62-a66a-4bdd-fe4c-f3c90c73daa3",
        "colab": {
          "base_uri": "https://localhost:8080/",
          "height": 67
        }
      },
      "cell_type": "code",
      "source": [
        "%%time\n",
        "n = 10000\n",
        "epsilon1_q = train_sim(env, epsilon1_params, n)\n",
        "epsilon2_q = train_sim(env, epsilon2_params, n)"
      ],
      "execution_count": 0,
      "outputs": [
        {
          "output_type": "stream",
          "text": [
            "Simulation #100 complete.\n",
            "Simulation #200 complete.\n",
            "Simulation #300 complete.\n"
          ],
          "name": "stdout"
        }
      ]
    },
    {
      "metadata": {
        "deletable": false,
        "nbgrader": {
          "checksum": "89d09960d90b298c08ccedbd1983bf09",
          "grade": false,
          "grade_id": "cell-2100a877594cd931",
          "locked": false,
          "schema_version": 1,
          "solution": true
        },
        "id": "FE7Ai9ZzpNGt",
        "colab_type": "code",
        "colab": {}
      },
      "cell_type": "code",
      "source": [
        "def test_sim(env, q_table, n=100, render=False):\n",
        "    \"\"\"Test an environment using a pre-trained Q table\n",
        "    \n",
        "    Args:\n",
        "        env (gym.envs): The environment to test\n",
        "        q_table (np.array): The pretrained Q table\n",
        "        n (int, optional): Defaults to 100. The number of test iterations to run\n",
        "        render (bool, optional): Defaults to False. Whether to display a rendering of the environment\n",
        "    \n",
        "    Returns:\n",
        "        np.array: Array of length n with each value being the cumulative reward achieved in the simulation\n",
        "    \"\"\"\n",
        "    rewards = []\n",
        "    \n",
        "    for i in range(n):\n",
        "        current_state = env.reset()\n",
        "\n",
        "        tot_reward = 0\n",
        "        done = False\n",
        "        step = 0\n",
        "\n",
        "        while not done:\n",
        "            \n",
        "            # Determine the best action\n",
        "            # Step through the environment\n",
        "            \n",
        "            # YOUR CODE HERE\n",
        "            \n",
        "            method = params[\"method\"]\n",
        "            epsilon = params[\"epsilon\"]\n",
        "            alpha = params[\"alpha\"]\n",
        "            gamma = params[\"gamma\"]\n",
        "            \n",
        "            action = select_action(q_table[current_state], method, epsilon)   \n",
        "            next_state, reward, done, info = env.step(action)\n",
        "            \n",
        "            q_table[current_state, action] = calculate_new_q_val(q_table, current_state, action, reward, next_state, alpha, gamma)\n",
        "\n",
        "            \n",
        "            tot_reward += reward\n",
        "            step +=1\n",
        "            if render:\n",
        "                clear_output(wait=True)\n",
        "                print(f\"Simulation: {i + 1}\")\n",
        "                env.render()\n",
        "                print(f\"Step: {step}\")\n",
        "                print(f\"Current State: {current_state}\")\n",
        "                print(f\"Action: {action}\")\n",
        "                print(f\"Reward: {reward}\")\n",
        "                print(f\"Total rewards: {tot_reward}\")\n",
        "                sleep(.2)\n",
        "            if step == 50:\n",
        "                print(\"Agent got stuck. Quitting...\")\n",
        "                sleep(.5)\n",
        "                break\n",
        "        \n",
        "        rewards.append(tot_reward)\n",
        "    \n",
        "    return np.array(rewards)"
      ],
      "execution_count": 0,
      "outputs": []
    },
    {
      "metadata": {
        "deletable": false,
        "editable": false,
        "nbgrader": {
          "checksum": "f23d9ff8e15594d3a1ab28725984fccd",
          "grade": false,
          "grade_id": "cell-18ab739306cf86ff",
          "locked": true,
          "schema_version": 1,
          "solution": false
        },
        "id": "WYPPVUMupNGw",
        "colab_type": "code",
        "colab": {}
      },
      "cell_type": "code",
      "source": [
        "# Add render=True to see the simulation running\n",
        "epsilon1_rewards = test_sim(env, epsilon1_q, 10)"
      ],
      "execution_count": 0,
      "outputs": []
    },
    {
      "metadata": {
        "deletable": false,
        "editable": false,
        "nbgrader": {
          "checksum": "3d50a42b8e7439f5847b220dcf6d8fcc",
          "grade": false,
          "grade_id": "cell-b4310173795ca573",
          "locked": true,
          "schema_version": 1,
          "solution": false
        },
        "id": "fKrGCzS7pNGz",
        "colab_type": "code",
        "colab": {}
      },
      "cell_type": "code",
      "source": [
        "epsilon2_rewards = test_sim(env, epsilon2_q, 10)"
      ],
      "execution_count": 0,
      "outputs": []
    },
    {
      "metadata": {
        "deletable": false,
        "editable": false,
        "nbgrader": {
          "checksum": "602cd8f63c3ca11004c922bf9c01e79c",
          "grade": false,
          "grade_id": "cell-0a858504adc25ae1",
          "locked": true,
          "schema_version": 1,
          "solution": false
        },
        "id": "x2fWxDFEpNG2",
        "colab_type": "code",
        "colab": {}
      },
      "cell_type": "code",
      "source": [
        "print(f\"The first epsilon greedy training method was able to get a median reward of {np.median(epsilon1_rewards)}.\")\n",
        "print(f\"The second epsilon greedy training method was able to get a median reward of {np.median(epsilon2_rewards)}.\")"
      ],
      "execution_count": 0,
      "outputs": []
    },
    {
      "metadata": {
        "deletable": false,
        "editable": false,
        "nbgrader": {
          "checksum": "991f059b31e42268b4c8fbc5df93fb80",
          "grade": true,
          "grade_id": "cell-a4db87228ab068a8",
          "locked": true,
          "points": 5,
          "schema_version": 1,
          "solution": false
        },
        "id": "tLXikW0dpNG4",
        "colab_type": "code",
        "colab": {}
      },
      "cell_type": "code",
      "source": [
        "assert np.median(epsilon1_rewards) > 5\n",
        "assert np.median(epsilon2_rewards) > 5"
      ],
      "execution_count": 0,
      "outputs": []
    },
    {
      "metadata": {
        "deletable": false,
        "editable": false,
        "nbgrader": {
          "checksum": "d0396d41ebf05afc94934500ec6d00c6",
          "grade": false,
          "grade_id": "cell-b19c1d376892e2c1",
          "locked": true,
          "schema_version": 1,
          "solution": false
        },
        "id": "g4-d7UQrpNG7",
        "colab_type": "text"
      },
      "cell_type": "markdown",
      "source": [
        "## Feedback"
      ]
    },
    {
      "metadata": {
        "deletable": false,
        "nbgrader": {
          "checksum": "ed936ab53a1391c5e6af8df699a1dbf5",
          "grade": false,
          "grade_id": "feedback",
          "locked": false,
          "schema_version": 1,
          "solution": true
        },
        "id": "qGSwGpI5pNG8",
        "colab_type": "code",
        "colab": {}
      },
      "cell_type": "code",
      "source": [
        "def feedback():\n",
        "    \"\"\"Provide feedback on the contents of this exercise\n",
        "    \n",
        "    Returns:\n",
        "        string\n",
        "    \"\"\"\n",
        "    # YOUR CODE HERE\n",
        "    raise NotImplementedError()"
      ],
      "execution_count": 0,
      "outputs": []
    },
    {
      "metadata": {
        "deletable": false,
        "editable": false,
        "nbgrader": {
          "checksum": "f39f6185a54850c2f1f9b5b2a17b7543",
          "grade": true,
          "grade_id": "feedback-tests",
          "locked": true,
          "points": 0,
          "schema_version": 1,
          "solution": false
        },
        "id": "WO_kUpt7pNG_",
        "colab_type": "code",
        "colab": {}
      },
      "cell_type": "code",
      "source": [
        ""
      ],
      "execution_count": 0,
      "outputs": []
    }
  ]
}